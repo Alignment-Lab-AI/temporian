{
  "cells": [
    {
      "attachments": {},
      "cell_type": "markdown",
      "id": "4e767688-0f90-47a7-baf0-b8042e282746",
      "metadata": {},
      "source": [
        "# User Guide\n",
        "\n",
        "This is a complete tour of Temporian's capabilities. For a brief introduction to how the library works, please refer to [3 minutes to Temporian](./3_minutes).\n"
      ]
    },
    {
      "attachments": {},
      "cell_type": "markdown",
      "id": "d2b71b95-5268-46ca-98e3-83b473f9b518",
      "metadata": {},
      "source": [
        "## What is temporal data?\n",
        "\n",
        "In Temporian, there is only one type of data: **multivariate multi-index time sequences** (MMITS). MMITS extends many commonly used data formats such as time-series and transactions to allow multi-variate data, non-uniform sampling, non-aligned sampling, and hierarchically-structured data. In that, MMITSs are particularly well suited to represent classical time-series, but also transactions, logs, sparse events, asynchronous measurements, and hierarchical records.\n",
        "\n",
        "<!-- TODO: add plot -->"
      ]
    },
    {
      "attachments": {},
      "cell_type": "markdown",
      "id": "d64627bf",
      "metadata": {
        "cell_marker": "\"\"\"",
        "lines_to_next_cell": 0
      },
      "source": [
        "## Events and EventSets\n",
        "\n",
        "The unit of data in Temporian is referred to as an _event_. An event consists of a timestamp and a set of feature values.\n",
        "\n",
        "Here is an example of an event:\n",
        "\n",
        "```\n",
        "timestamp: 2023-02-05\n",
        "feature_1: 0.5\n",
        "feature_2: \"red\"\n",
        "feature_3: 10\n",
        "```\n",
        "\n",
        "Events are not handled individually. Instead, events are grouped together into [EventSet][temporian.EventSet]s. When representing an `EventSet`, it is convenient to group similar features together and to sort them according to the timestamps in increasing order.\n",
        "\n",
        "Here is an example of an `EventSet` containing four events and three features:\n",
        "\n",
        "```\n",
        "timestamp: [04-02-2023, 06-02-2023, 07-02-2023, 07-02-2023]\n",
        "feature_1: [0.5, 0.6, NaN, 0.9]\n",
        "feature_2: [\"red\", \"blue\", \"red\", \"blue\"]\n",
        "feature_3:  [10, -1, 5, 5]\n",
        "```\n",
        "\n",
        "**Remarks:**\n",
        "\n",
        "- All values for a given feature are of the same data type. For instance, `feature_1` is float64 while `feature_2` is a string.\n",
        "- Many operators interpret the value NaN (for _not a number_) as missing.\n",
        "- Timestamps are not necessarily uniformly sampled.\n",
        "- The same timestamp can be repeated.\n",
        "- The events withing an EventSet are sampled synchronously. However, different EventSets might be sampled differently.\n",
        "\n",
        "In the next code examples, variables with names like `evset` refer to an `EventSet`.\n",
        "\n",
        "You can create an `EventSet` as follows:"
      ]
    },
    {
      "cell_type": "code",
      "execution_count": 1,
      "id": "1d23b4c0",
      "metadata": {
        "execution": {
          "iopub.execute_input": "2023-07-12T19:18:35.767580Z",
          "iopub.status.busy": "2023-07-12T19:18:35.767381Z",
          "iopub.status.idle": "2023-07-12T19:18:44.015701Z",
          "shell.execute_reply": "2023-07-12T19:18:44.014530Z"
        }
      },
      "outputs": [],
      "source": [
        "import temporian as tp\n",
        "import pandas as pd\n",
        "import numpy as np\n",
        "\n",
        "evset = tp.event_set(\n",
        "\ttimestamps=[\"2023-02-04\",\"2023-02-06\",\"2023-02-07\",\"2023-02-07\"],\n",
        "\tfeatures={\n",
        "        \"feature_1\": [0.5, 0.6, np.nan, 0.9],\n",
        "        \"feature_2\": [\"red\", \"blue\", \"red\", \"blue\"],\n",
        "        \"feature_3\":  [10, -1, 5, 5],\n",
        "\t}\n",
        ")"
      ]
    },
    {
      "attachments": {},
      "cell_type": "markdown",
      "id": "3678cc72",
      "metadata": {
        "cell_marker": "\"\"\"",
        "lines_to_next_cell": 0
      },
      "source": [
        "\n",
        "`EventSets` can be printed."
      ]
    },
    {
      "cell_type": "code",
      "execution_count": 2,
      "id": "17c712f6",
      "metadata": {
        "execution": {
          "iopub.execute_input": "2023-07-12T19:18:44.019104Z",
          "iopub.status.busy": "2023-07-12T19:18:44.018296Z",
          "iopub.status.idle": "2023-07-12T19:18:44.023020Z",
          "shell.execute_reply": "2023-07-12T19:18:44.022309Z"
        }
      },
      "outputs": [
        {
          "name": "stdout",
          "output_type": "stream",
          "text": [
            "indexes: []\n",
            "features: [('feature_1', float64), ('feature_2', str_), ('feature_3', int64)]\n",
            "events:\n",
            "     (4 events):\n",
            "        timestamps: [1.6755e+09 1.6756e+09 1.6757e+09 1.6757e+09]\n",
            "        'feature_1': [0.5 0.6 nan 0.9]\n",
            "        'feature_2': [b'red' b'blue' b'red' b'blue']\n",
            "        'feature_3': [10 -1  5  5]\n",
            "memory usage: 0.8 kB\n",
            "\n"
          ]
        }
      ],
      "source": [
        "print(evset)"
      ]
    },
    {
      "attachments": {},
      "cell_type": "markdown",
      "id": "a09dfdad",
      "metadata": {
        "cell_marker": "\"\"\"",
        "lines_to_next_cell": 0
      },
      "source": [
        "`EventSets` can be plotted."
      ]
    },
    {
      "cell_type": "code",
      "execution_count": 3,
      "id": "e3f29b64",
      "metadata": {
        "execution": {
          "iopub.execute_input": "2023-07-12T19:18:44.025430Z",
          "iopub.status.busy": "2023-07-12T19:18:44.025215Z",
          "iopub.status.idle": "2023-07-12T19:18:44.686537Z",
          "shell.execute_reply": "2023-07-12T19:18:44.685455Z"
        }
      },
      "outputs": [
        {
          "data": {
            "image/png": "[encoded data removed]",
            "text/plain": [
              "<Figure size 1024x450 with 3 Axes>"
            ]
          },
          "metadata": {},
          "output_type": "display_data"
        }
      ],
      "source": [
        "evset.plot()"
      ]
    },
    {
      "attachments": {},
      "cell_type": "markdown",
      "id": "fe507137-0c0f-4533-a75d-008352a2566b",
      "metadata": {},
      "source": [
        "\n",
        "**Note:** You'll learn how to create an `EventSet` using other data sources such as pandas DataFrames later.\n",
        "\n",
        "Events can carry various meanings. For instance, events can represent **regular measurements**. Suppose an electronic thermometer that generates temperature measurements every minute. This could be an `EventSet` with one feature called `temperature`. In this scenario, the temperature can change between two measurements. However, for most practical uses, the most recent measurement will be considered the current temperature.\n",
        "\n",
        "<!-- TODO: Temperature plot -->\n",
        "\n",
        "Events can also represent the _occurrence_ of sporadic phenomena. Suppose a sales recording system that records client purchases. Each time a client makes a purchase (i.e., each transaction), a new event is created.\n",
        "\n",
        "<!-- TODO: Sales plot -->\n",
        "\n",
        "You will see that Temporian is agnostic to the semantics of events, and that often, you will mix together measurements and occurrences. For instance, given the _occurrence_ of sales from the previous example, you can compute daily sales (which is a _measurement_).\n"
      ]
    },
    {
      "attachments": {},
      "cell_type": "markdown",
      "id": "e7a88b45-bef7-46ac-88b8-f376cc14ee88",
      "metadata": {},
      "source": [
        "## Operators and eager mode\n",
        "\n",
        "Processing operations are performed by **Operators**. For instance, the `tp.simple_moving_average()` operator computes the [simple moving average](https://en.wikipedia.org/wiki/Moving_average) of each feature in an `EventSet`.\n",
        "\n",
        "The list of all operators is available in the [API Reference](../reference/)."
      ]
    },
    {
      "cell_type": "code",
      "execution_count": 4,
      "id": "f0c059c3-1412-47d5-8f21-8c034f16a551",
      "metadata": {
        "execution": {
          "iopub.execute_input": "2023-07-12T19:18:44.689781Z",
          "iopub.status.busy": "2023-07-12T19:18:44.688990Z",
          "iopub.status.idle": "2023-07-12T19:18:44.920401Z",
          "shell.execute_reply": "2023-07-12T19:18:44.919687Z"
        }
      },
      "outputs": [
        {
          "data": {
            "image/png": "[encoded data removed]",
            "text/plain": [
              "<Figure size 1024x300 with 2 Axes>"
            ]
          },
          "metadata": {},
          "output_type": "display_data"
        }
      ],
      "source": [
        "# Create an event set with a random walk\n",
        "np.random.seed(1)\n",
        "random_walk = np.cumsum(np.random.choice([-1.0, 0.0, 1.0], size=1000))\n",
        "\n",
        "evset = tp.event_set(\n",
        "\ttimestamps=np.linspace(0,10, num=1000),\n",
        "\tfeatures={\"value\": random_walk}\n",
        ")\n",
        "\n",
        "# Compute a simple moving average\n",
        "result = tp.simple_moving_average(evset, window_length=1)\n",
        "\n",
        "# Plot the results\n",
        "tp.plot([evset, result]) "
      ]
    },
    {
      "attachments": {},
      "cell_type": "markdown",
      "id": "0dd8a9a5-19b4-4898-b5af-794dbd4ac1eb",
      "metadata": {},
      "source": [
        "## Eager mode vs Graph mode\n",
        "\n",
        "Temporian has two execution modes: **eager** and **graph**. In eager mode, operators are applied immediately. This mode is useful for learning Temporian, for iterative and interactive development, and for lightweight/small data use cases where performance isn't a priority.\n",
        "\n",
        "In graph mode, operators are combined together into \"Temporian programs\" before being executed. Graph mode is more efficient and it consumes less memory. Temporian programs can be saved, inspected, and distributed by users.\n",
        "\n",
        "Migrating a Temporian program from eager to graph mode is easy and requires little work. Most of the time, adding a `@tp.compile` annotation is enough. Therefore, it is recommended to develop programs in eager mode and then to productize them in graph mode.\n",
        "\n",
        "Next, we see a the same program written three times: First, in eager mode, then in graph mode using `@tp.compile`, and finally in graph mode without `@tp.compile`."
      ]
    },
    {
      "cell_type": "code",
      "execution_count": 5,
      "id": "d5405837-c801-40e9-8b41-4d4dc901d429",
      "metadata": {
        "execution": {
          "iopub.execute_input": "2023-07-12T19:18:44.922893Z",
          "iopub.status.busy": "2023-07-12T19:18:44.922680Z",
          "iopub.status.idle": "2023-07-12T19:18:45.058522Z",
          "shell.execute_reply": "2023-07-12T19:18:45.057820Z"
        }
      },
      "outputs": [
        {
          "data": {
            "image/png": "[encoded data removed]",
            "text/plain": [
              "<Figure size 1024x150 with 1 Axes>"
            ]
          },
          "metadata": {},
          "output_type": "display_data"
        }
      ],
      "source": [
        "# Eager mode\n",
        "#\n",
        "# Note: This Temporian program contains three operators: two \"simple_moving_average\" and one \"tp.substract\" operators.\n",
        "result = tp.simple_moving_average(evset, window_length=0.5) - tp.simple_moving_average(evset, window_length=1.0)\n",
        "result.plot()"
      ]
    },
    {
      "cell_type": "code",
      "execution_count": 6,
      "id": "9c854408-0804-4435-8d44-f521ef1b379e",
      "metadata": {
        "execution": {
          "iopub.execute_input": "2023-07-12T19:18:45.060873Z",
          "iopub.status.busy": "2023-07-12T19:18:45.060668Z",
          "iopub.status.idle": "2023-07-12T19:18:45.188317Z",
          "shell.execute_reply": "2023-07-12T19:18:45.187603Z"
        }
      },
      "outputs": [
        {
          "data": {
            "image/png": "[encoded data removed]",
            "text/plain": [
              "<Figure size 1024x150 with 1 Axes>"
            ]
          },
          "metadata": {},
          "output_type": "display_data"
        }
      ],
      "source": [
        "# Graph mode with @tp.compile\n",
        "\n",
        "@tp.compile\n",
        "def my_function(x):\n",
        "    return tp.simple_moving_average(x, window_length=0.5) - tp.simple_moving_average(x, window_length=1.0)\n",
        "\n",
        "result = my_function(evset)\n",
        "    \n",
        "result.plot()"
      ]
    },
    {
      "cell_type": "code",
      "execution_count": 7,
      "id": "e4aa008f-aa8e-486f-a96c-854fb5b2bd83",
      "metadata": {
        "execution": {
          "iopub.execute_input": "2023-07-12T19:18:45.190989Z",
          "iopub.status.busy": "2023-07-12T19:18:45.190568Z",
          "iopub.status.idle": "2023-07-12T19:18:45.330304Z",
          "shell.execute_reply": "2023-07-12T19:18:45.329427Z"
        }
      },
      "outputs": [
        {
          "name": "stderr",
          "output_type": "stream",
          "text": [
            "Build schedule\n",
            "Run 3 operators\n",
            "    1 / 3: SIMPLE_MOVING_AVERAGE [0.00007 s]\n",
            "    2 / 3: SIMPLE_MOVING_AVERAGE [0.00004 s]\n",
            "    3 / 3: SUBTRACTION [0.00007 s]\n",
            "Execution in 0.00050 s\n"
          ]
        },
        {
          "data": {
            "image/png": "[encoded data removed]",
            "text/plain": [
              "<Figure size 1024x150 with 1 Axes>"
            ]
          },
          "metadata": {},
          "output_type": "display_data"
        }
      ],
      "source": [
        "# Graph model without @tp.compile\n",
        "\n",
        "input_node = tp.input_node([(\"value\", tp.float64)])\n",
        "# Or input_node = tp.input_node(evset.schema.features)\n",
        "\n",
        "result_node = tp.simple_moving_average(input_node, window_length=0.5) - tp.simple_moving_average(input_node, window_length=1.0)\n",
        "result = tp.run(result_node, {input_node: evset}, verbose=1)\n",
        "    \n",
        "result.plot()"
      ]
    },
    {
      "attachments": {},
      "cell_type": "markdown",
      "id": "a6a5a017-9dbe-4782-bc73-9b278ec622b0",
      "metadata": {},
      "source": [
        "## More on graph mode\n",
        "\n",
        "**Remark:** While you will likely use the graph mode with `@tp.compile` , it is useful for you to understand the graph model without `@tp.compile`.\n",
        "\n",
        "A Temporian program is a graph of [EventSetNode][temporian.EventSetNodes]s connecting operators. A graph is executed with the function `tp.run(<outputs>, <inputs>)`.\n",
        "\n",
        "<img src=\"https://raw.githubusercontent.com/google/temporian/main/docs/src/assets/eager_and_graph.svg\" width=\"100%\" alt=\"eager vs graph mode\">\n",
        "\n",
        "The `<outputs>` can be specified as an `EventSetNode`, a list of `EventSetNodes`, or a dictionary of names to `EventSetNodes`, and the result of `tp.run()` will be of the same type. For example, if `<outputs>` is a list of three `EventSetNodes`, the result will be a list of the three corresponding `EventSets`.\n",
        "\n",
        "The `<inputs>` can be specified as:\n",
        "\n",
        "- A dictionary of `EventSetNodes` to `EventSets`, or \n",
        "- A dictionary of names to `EventSets`, or,\n",
        "- A list of `EventSets`, or\n",
        "- A single `EventSet`\n",
        "\n",
        "This lets Temporian know the `EventSetNodes` of the graph that each input `EventSet` corresponds to. If `<inputs>` is a dictionary of names to `EventSets`, the names must match the names of `EventSetNodes` in the graph.  If `<inputs>` is a list or a single `EventSet`, the names of those `EventSets` must do the same. If we specify the inputs as a dictionary, we could skip passing a name to `a_evset`."
      ]
    },
    {
      "cell_type": "code",
      "execution_count": 8,
      "id": "dd4142a0-df47-4ca3-aafe-7a105b4f2deb",
      "metadata": {
        "execution": {
          "iopub.execute_input": "2023-07-12T19:18:45.332924Z",
          "iopub.status.busy": "2023-07-12T19:18:45.332468Z",
          "iopub.status.idle": "2023-07-12T19:18:45.342998Z",
          "shell.execute_reply": "2023-07-12T19:18:45.342153Z"
        }
      },
      "outputs": [
        {
          "name": "stdout",
          "output_type": "stream",
          "text": [
            "[indexes: []\n",
            "features: [('value', float64)]\n",
            "events:\n",
            "     (1000 events):\n",
            "        timestamps: [ 0.    0.01  0.02 ...  9.98  9.99 10.  ]\n",
            "        'value': [ 0.   -0.5  -1.   ...  3.74  3.76  3.76]\n",
            "memory usage: 8.5 kB\n",
            ", indexes: []\n",
            "features: [('value', float64)]\n",
            "events:\n",
            "     (1000 events):\n",
            "        timestamps: [ 0.    0.01  0.02 ...  9.98  9.99 10.  ]\n",
            "        'value': [ 0.   -0.5  -1.   ...  1.04  1.09  1.14]\n",
            "memory usage: 8.5 kB\n",
            ", indexes: []\n",
            "features: [('sub_value_value', float64)]\n",
            "events:\n",
            "     (1000 events):\n",
            "        timestamps: [ 0.    0.01  0.02 ...  9.98  9.99 10.  ]\n",
            "        'sub_value_value': [0.   0.   0.   ... 2.7  2.67 2.62]\n",
            "memory usage: 8.5 kB\n",
            "]\n"
          ]
        }
      ],
      "source": [
        "input_node = tp.input_node([(\"value\", tp.float64)])\n",
        "result_1_node = tp.simple_moving_average(input_node, window_length=0.5)\n",
        "result_2_node = tp.simple_moving_average(input_node, window_length=1.0)\n",
        "result_3_node = result_1_node - result_2_node\n",
        "\n",
        "result = tp.run([result_1_node,result_2_node, result_3_node], {input_node: evset})\n",
        "    \n",
        "print(result)"
      ]
    },
    {
      "attachments": {},
      "cell_type": "markdown",
      "id": "32dd49a8-8847-4df1-be17-b844b92f4211",
      "metadata": {},
      "source": [
        "**Remarks:**\n",
        "\n",
        "- It's important to distinguish between a `tp.EventSet`, such as `evset`, that contains data, and a `tp.EventSetNode`, like `input_node`, that connect operators together and compose the computation graph, but do not contain data.\n",
        "- No computation is performed when defining the graph (i.e., when calling the operator functions). All computation is done during `tp.run()`.\n",
        "- In `tp.run()`, the second argument defines a mapping between input `EventSetNodes` and `EventSets`. If all necessary input `EventSetNodes` are not fed, an error will be raised.\n",
        "- In most cases you will only pass `EventSets` that correspond to the graph's input `EventSetNodes`, but Temporian also supports passing `EventSets` to intermediate `EventSetNodes` in the graph."
      ]
    },
    {
      "attachments": {},
      "cell_type": "markdown",
      "id": "c7e808b2-4091-447a-a6a5-66fcf5f037a9",
      "metadata": {},
      "source": [
        "The `@tp.compile` annotation takes a function inputing and outputing `tp.EventSetNode`, and automatically calls `tp.run` on the result of the function if a `tp.EventSet` is provided as input."
      ]
    },
    {
      "cell_type": "code",
      "execution_count": 9,
      "id": "b0b0220b-9869-454c-8f3b-afeabaca06bc",
      "metadata": {
        "execution": {
          "iopub.execute_input": "2023-07-12T19:18:45.345745Z",
          "iopub.status.busy": "2023-07-12T19:18:45.345069Z",
          "iopub.status.idle": "2023-07-12T19:18:45.350527Z",
          "shell.execute_reply": "2023-07-12T19:18:45.349823Z"
        }
      },
      "outputs": [],
      "source": [
        "@tp.compile\n",
        "def my_function(x : tp.EventSetNode) -> tp.EventSetNode:\n",
        "    return tp.simple_moving_average(x, window_length=0.5)\n",
        "\n",
        "# Feeding an EventSet\n",
        "input_evset = tp.event_set(timestamps=[1, 2, 3],features={\"value\": [5., 6., 7.]})\n",
        "assert isinstance(my_function(input_evset), tp.EventSet)\n",
        "\n",
        "# Feeding an EventSetNode\n",
        "input_node = tp.input_node([(\"value\", tp.float64)])\n",
        "assert isinstance(my_function(input_node), tp.EventSetNode)"
      ]
    },
    {
      "attachments": {},
      "cell_type": "markdown",
      "id": "c0f02853-718f-4c9e-8945-b25e74b548ae",
      "metadata": {},
      "source": [
        "Importantly, variables in a `tp.compile` function are `EventSetNode` and not `EventSet`. Therefore, you cannot directly access the event set data.\n",
        "\n",
        "In addition, the compiled function execution first generates the graph. The graph is then executed. In the next example, the compiled function generates a graph with 10 operators."
      ]
    },
    {
      "cell_type": "code",
      "execution_count": 10,
      "id": "945d8f39-18ad-44df-a4d2-9d8986e7825b",
      "metadata": {
        "execution": {
          "iopub.execute_input": "2023-07-12T19:18:45.353329Z",
          "iopub.status.busy": "2023-07-12T19:18:45.353112Z",
          "iopub.status.idle": "2023-07-12T19:18:45.358949Z",
          "shell.execute_reply": "2023-07-12T19:18:45.357662Z"
        }
      },
      "outputs": [],
      "source": [
        "@tp.compile\n",
        "def my_function(x : tp.EventSetNode) -> tp.EventSetNode:\n",
        "    for i in range(10):\n",
        "        x = tp.simple_moving_average(x, window_length=i+1)\n",
        "    return x"
      ]
    },
    {
      "attachments": {},
      "cell_type": "markdown",
      "id": "4c46c4ee-a8ff-4b9b-9ced-acbee202d0a3",
      "metadata": {},
      "source": [
        "You can create a compiled function with a `if`. However, the condition of the `if` cannot depend on the EventSet data."
      ]
    },
    {
      "cell_type": "code",
      "execution_count": 11,
      "id": "941a5fc4-edfc-4fba-8bc8-22f3a7387e91",
      "metadata": {
        "execution": {
          "iopub.execute_input": "2023-07-12T19:18:45.362130Z",
          "iopub.status.busy": "2023-07-12T19:18:45.361815Z",
          "iopub.status.idle": "2023-07-12T19:18:45.367314Z",
          "shell.execute_reply": "2023-07-12T19:18:45.366603Z"
        }
      },
      "outputs": [
        {
          "name": "stdout",
          "output_type": "stream",
          "text": [
            "[('a_branch', float64)]\n",
            "[('non_a_branch', float64)]\n"
          ]
        }
      ],
      "source": [
        "@tp.compile\n",
        "def my_function(x : tp.EventSetNode, a:bool) -> tp.EventSetNode:\n",
        "    if a:\n",
        "        return tp.rename(x, \"a_branch\")\n",
        "    else:\n",
        "        return tp.rename(x, \"non_a_branch\")\n",
        "\n",
        "print(my_function(input_evset, a=True).schema.features)\n",
        "\n",
        "print(my_function(input_evset, a=False).schema.features)"
      ]
    },
    {
      "attachments": {},
      "cell_type": "markdown",
      "id": "3bf624e6-6b1c-4806-8024-8beebd30fc0b",
      "metadata": {},
      "source": [
        "If you want to create a program conditional on EventSet data, you can use a `tp.filter`."
      ]
    },
    {
      "cell_type": "code",
      "execution_count": 12,
      "id": "a9ab68f3-91a6-445e-99c2-7f2379185f21",
      "metadata": {
        "execution": {
          "iopub.execute_input": "2023-07-12T19:18:45.369918Z",
          "iopub.status.busy": "2023-07-12T19:18:45.369624Z",
          "iopub.status.idle": "2023-07-12T19:18:45.376649Z",
          "shell.execute_reply": "2023-07-12T19:18:45.375861Z"
        }
      },
      "outputs": [
        {
          "data": {
            "text/plain": [
              "indexes: []\n",
              "features: [('value', int64)]\n",
              "events:\n",
              "     (2 events):\n",
              "        timestamps: [1. 2.]\n",
              "        'value': [10 11]\n",
              "memory usage: 0.5 kB"
            ]
          },
          "execution_count": 12,
          "metadata": {},
          "output_type": "execute_result"
        }
      ],
      "source": [
        "@tp.compile\n",
        "def my_function(x : tp.EventSetNode) -> tp.EventSetNode:\n",
        "    return tp.filter(x[\"value\"], x[\"condition\"])\n",
        "\n",
        "my_function(tp.event_set(\n",
        "\ttimestamps=[1,2,3],\n",
        "\tfeatures={\n",
        "        \"value\": [10, 11, 12],\n",
        "        \"condition\":[True, True, False]}\n",
        "))"
      ]
    },
    {
      "attachments": {},
      "cell_type": "markdown",
      "id": "c7ef8b32-a08d-46e2-aa8e-5cad3d5421e0",
      "metadata": {},
      "source": [
        "To simplify its usage when the graph contains a single output `EventSetNode`, `node.run(...)` is equivalent to `tp.run(node, ...)`."
      ]
    },
    {
      "attachments": {},
      "cell_type": "markdown",
      "id": "afa9c5d2-1efe-440d-bf45-366c0b389b5a",
      "metadata": {},
      "source": [
        "\n",
        "<!-- TODO\n",
        "# Not implemented yet:\n",
        "# d_evset = tp.run(d_node, {\"a\": a_evset})\n",
        "# d_evset = tp.run(d_node, [a_evset])\n",
        "# d_evset = tp.run(d_node, a_evset)\n",
        "# d_evset = d_node.run({\"a\": a_evset})\n",
        "# d_evset = d_node.run([a_evset])\n",
        "# d_evset = d_node.run(a_evset)\n",
        "-->\n",
        "\n",
        "**Warning:** It is more efficient to run multiple output `EventSetNodes` together with `tp.run()` than to run them separately with `node_1.run(...)`, `node_2.run(...)`, etc."
      ]
    },
    {
      "attachments": {},
      "cell_type": "markdown",
      "id": "d78f320b",
      "metadata": {
        "cell_marker": "\"\"\"",
        "lines_to_next_cell": 0
      },
      "source": [
        "Previously, we defined the input of the graph with `tp.input_node()`. This way of listing features manually and their respective data type is cumbersome.\n",
        "\n",
        "If an `EventSet` is available (i.e., data is available) this step can be changed to use `evset.node()` instead, which will return an `EventSetNode` that is compatible with it. This is especially useful when creating `EventSets` from existing data, such as pandas DataFrames or CSV files."
      ]
    },
    {
      "cell_type": "code",
      "execution_count": 13,
      "id": "d4fc33b0",
      "metadata": {
        "execution": {
          "iopub.execute_input": "2023-07-12T19:18:45.379097Z",
          "iopub.status.busy": "2023-07-12T19:18:45.378892Z",
          "iopub.status.idle": "2023-07-12T19:18:45.383530Z",
          "shell.execute_reply": "2023-07-12T19:18:45.382775Z"
        },
        "lines_to_next_cell": 0
      },
      "outputs": [],
      "source": [
        "# Define an EventSet.\n",
        "a_evset = tp.event_set(\n",
        "\ttimestamps=[0, 1, 2],\n",
        "\tfeatures={\n",
        "        \"feature_1\": [1.0, 2.0, 3.0],\n",
        "        \"feature_2\": [\"hello\", \"little\", \"dog\"],\n",
        "        \"feature_3\": [\"A\", \"A\", \"B\"],\n",
        "\t}\n",
        ")\n",
        "\n",
        "# The following three statements are (almost) equivalent.\n",
        "a_node = tp.input_node(\n",
        "    features=[\n",
        "        (\"feature_1\", tp.float64),\n",
        "        (\"feature_2\", tp.str_),\n",
        "    ],\n",
        "    indexes=[(\"feature_3\", tp.str_)])\n",
        "\n",
        "a_node = tp.input_node(features=a_evset.schema.features,\n",
        "                       indexes=a_evset.schema.indexes)\n",
        "    \n",
        "a_node = a_evset.node()"
      ]
    },
    {
      "attachments": {},
      "cell_type": "markdown",
      "id": "b73d3011",
      "metadata": {
        "cell_marker": "\"\"\"",
        "lines_to_next_cell": 0
      },
      "source": [
        "\n",
        "## Time units\n",
        "\n",
        "In Temporian, times are always represented by a float64 value. Users have the freedom to choose the semantic to this value. For example, the time can be the number of nanoseconds since the start of the day, the number of cycles of a process, the number of years since the big bang, or the number of seconds since January 1, 1970, at 00:00:00 UTC, also known as Unix or POSIX time.\n",
        "\n",
        "To ease the feature engineering of dates, Temporian contains a set of _calendar operators_. These operators specialize in creating features from dates and datetimes. For instance, the `tp.calendar_hour()` operator returns the hour of the date in the range `0-23`.\n",
        "\n",
        "Calendar operators require the time in their inputs to be Unix time, so applying them on non-Unix timestamps will raise errors. Temporian can sometimes automatically recognize if input timestamps correspond to Unix time (e.g. when an `EventSet` is created from a pandas DataFrame with a datetime column, or when passing a list of datetime objects as timestamps in `EventSet`'s constructor). If creating `EventSets` manually and passing floats directly to `timestamps`, you need to explicitly specify whether they correspond to Unix times or not via the `is_unix_timestamp` argument."
      ]
    },
    {
      "cell_type": "code",
      "execution_count": 14,
      "id": "92ec9711",
      "metadata": {
        "execution": {
          "iopub.execute_input": "2023-07-12T19:18:45.386117Z",
          "iopub.status.busy": "2023-07-12T19:18:45.385905Z",
          "iopub.status.idle": "2023-07-12T19:18:45.394646Z",
          "shell.execute_reply": "2023-07-12T19:18:45.393913Z"
        },
        "lines_to_next_cell": 0
      },
      "outputs": [
        {
          "data": {
            "text/plain": [
              "indexes: []\n",
              "features: [('feature_1', int64), ('feature_2', str_), ('calendar_day_of_week', int32)]\n",
              "events:\n",
              "     (3 events):\n",
              "        timestamps: [1.6787e+09 1.6788e+09 1.6790e+09]\n",
              "        'feature_1': [1 2 3]\n",
              "        'feature_2': [b'a' b'b' b'c']\n",
              "        'calendar_day_of_week': [0 1 4]\n",
              "memory usage: 0.8 kB"
            ]
          },
          "execution_count": 14,
          "metadata": {},
          "output_type": "execute_result"
        }
      ],
      "source": [
        "a_evset = tp.event_set(\n",
        "    timestamps=[\n",
        "        pd.to_datetime(\"Monday Mar 13 12:00:00 2023\", utc=True),\n",
        "        pd.to_datetime(\"Tuesday Mar 14 12:00:00 2023\", utc=True),\n",
        "        pd.to_datetime(\"Friday Mar 17 00:00:01 2023\", utc=True),\n",
        "    ],\n",
        "    features={\n",
        "        \"feature_1\": [1, 2, 3],\n",
        "        \"feature_2\": [\"a\", \"b\", \"c\"],\n",
        "    },\n",
        ")\n",
        "a_node = a_evset.node()\n",
        "b_node = tp.glue(a_node, tp.calendar_day_of_week(a_node))\n",
        "b_node.run(a_evset)"
      ]
    },
    {
      "attachments": {},
      "cell_type": "markdown",
      "id": "7380c9c7",
      "metadata": {
        "cell_marker": "\"\"\"",
        "lines_to_next_cell": 0
      },
      "source": [
        "\n",
        "Temporian accepts time inputs in various formats, including integer, float, Python date or datetime, NumPy datetime, and pandas datetime. Date and datetime objects are internally converted to floats as Unix time in seconds, compatible with the calendar operators.\n",
        "\n",
        "Operators can take _durations_ as input arguments. For example, the simple moving average operator takes a `window_length` argument. Temporian exposes several utility functions to help creating those duration arguments when using Unix timestamps:"
      ]
    },
    {
      "cell_type": "code",
      "execution_count": 15,
      "id": "508c3f0c",
      "metadata": {
        "execution": {
          "iopub.execute_input": "2023-07-12T19:18:45.396932Z",
          "iopub.status.busy": "2023-07-12T19:18:45.396715Z",
          "iopub.status.idle": "2023-07-12T19:18:45.401047Z",
          "shell.execute_reply": "2023-07-12T19:18:45.400244Z"
        }
      },
      "outputs": [],
      "source": [
        "a = tp.input_node(features=[(\"feature_1\", tp.float64)])\n",
        "\n",
        "# Define a 1-day moving average.\n",
        "b = tp.simple_moving_average(a, window_length=tp.duration.days(1))\n",
        "\n",
        "# Equivalent.\n",
        "b = tp.simple_moving_average(a, window_length=24 * 60 * 60)"
      ]
    },
    {
      "attachments": {},
      "cell_type": "markdown",
      "id": "6c99993c",
      "metadata": {
        "cell_marker": "\"\"\"",
        "lines_to_next_cell": 0
      },
      "source": [
        "\n",
        "## Plotting\n",
        "\n",
        "Data visualization is crucial for gaining insights into data and the system it represents. It also helps in detecting unexpected behavior and issues, making debugging and iterative development easier.\n",
        "\n",
        "Temporian provides two plotting functions for data visualization: `evset.plot()` and `tp.plot()`.\n",
        "\n",
        "The `evset.plot()` function is shorter to write and is used for displaying a single `EventSet`, while the `tp.plot()` function is used for displaying multiple `EventSets` together. This function is particularly useful when `EventSets` are indexed (see [Index, horizontal and vertical operators](#indexes-horizontal-and-vertical-operators)) or have different samplings (see [Sampling](#sampling)).\n",
        "\n",
        "Here's an example of using the `evset.plot()` function:"
      ]
    },
    {
      "cell_type": "code",
      "execution_count": 16,
      "id": "cbf42f42",
      "metadata": {
        "execution": {
          "iopub.execute_input": "2023-07-12T19:18:45.403996Z",
          "iopub.status.busy": "2023-07-12T19:18:45.403771Z",
          "iopub.status.idle": "2023-07-12T19:18:45.643643Z",
          "shell.execute_reply": "2023-07-12T19:18:45.643082Z"
        }
      },
      "outputs": [
        {
          "data": {
            "image/png": "[encoded data removed]",
            "text/plain": [
              "<Figure size 1024x300 with 2 Axes>"
            ]
          },
          "metadata": {},
          "output_type": "display_data"
        }
      ],
      "source": [
        "evset = tp.event_set(\n",
        "\ttimestamps=[1, 2, 3, 4, 5],\n",
        "\tfeatures={\n",
        "        \"feature_1\": [0.5, 0.6, 0.4, 0.4, 0.9],\n",
        "        \"feature_2\": [\"red\", \"blue\", \"red\", \"blue\", \"green\"]\n",
        "    }\n",
        ")\n",
        "evset.plot()"
      ]
    },
    {
      "attachments": {},
      "cell_type": "markdown",
      "id": "39dc9a92",
      "metadata": {
        "cell_marker": "\"\"\"",
        "lines_to_next_cell": 0
      },
      "source": [
        "\n",
        "By default, the plotting style is selected automatically based on the data.\n",
        "\n",
        "For example, uniformly sampled numerical features (i.e., time series) are plotted with a continuous line, while non-uniformly sampled values are plotted with markers. Those and other behaviors can be controlled via the function's arguments.\n",
        "\n",
        "Here's an example of using the `evset.plot()` function with options:"
      ]
    },
    {
      "cell_type": "code",
      "execution_count": 17,
      "id": "82552e04",
      "metadata": {
        "execution": {
          "iopub.execute_input": "2023-07-12T19:18:45.647386Z",
          "iopub.status.busy": "2023-07-12T19:18:45.647153Z",
          "iopub.status.idle": "2023-07-12T19:18:45.925838Z",
          "shell.execute_reply": "2023-07-12T19:18:45.925123Z"
        }
      },
      "outputs": [
        {
          "data": {
            "image/png": "[encoded data removed]",
            "text/plain": [
              "<Figure size 400x300 with 2 Axes>"
            ]
          },
          "metadata": {},
          "output_type": "display_data"
        }
      ],
      "source": [
        "figure = evset.plot(\n",
        "    style=\"marker\",\n",
        "    width_px=400,\n",
        "    min_time=2,\n",
        "    max_time=10,\n",
        "    return_fig=True,\n",
        ")"
      ]
    },
    {
      "attachments": {},
      "cell_type": "markdown",
      "id": "37bd0475",
      "metadata": {
        "cell_marker": "\"\"\"",
        "lines_to_next_cell": 0
      },
      "source": [
        "\n",
        "The plots are static images by default. However, interactive plotting can be very powerful. To enable interactive plotting, use `interactive=True`. Note that interactive plotting requires the `bokeh` Python library to be installed."
      ]
    },
    {
      "cell_type": "code",
      "execution_count": 18,
      "id": "37feddd0",
      "metadata": {
        "execution": {
          "iopub.execute_input": "2023-07-12T19:18:45.928391Z",
          "iopub.status.busy": "2023-07-12T19:18:45.928187Z",
          "iopub.status.idle": "2023-07-12T19:18:48.039131Z",
          "shell.execute_reply": "2023-07-12T19:18:48.038008Z"
        }
      },
      "outputs": [
        {
          "data": {
            "application/javascript": "(function(root) {\n  function now() {\n    return new Date();\n  }\n\n  const force = true;\n\n  if (typeof root._bokeh_onload_callbacks === \"undefined\" || force === true) {\n    root._bokeh_onload_callbacks = [];\n    root._bokeh_is_loading = undefined;\n  }\n\nconst JS_MIME_TYPE = 'application/javascript';\n  const HTML_MIME_TYPE = 'text/html';\n  const EXEC_MIME_TYPE = 'application/vnd.bokehjs_exec.v0+json';\n  const CLASS_NAME = 'output_bokeh rendered_html';\n\n  /**\n   * Render data to the DOM node\n   */\n  function render(props, node) {\n    const script = document.createElement(\"script\");\n    node.appendChild(script);\n  }\n\n  /**\n   * Handle when an output is cleared or removed\n   */\n  function handleClearOutput(event, handle) {\n    const cell = handle.cell;\n\n    const id = cell.output_area._bokeh_element_id;\n    const server_id = cell.output_area._bokeh_server_id;\n    // Clean up Bokeh references\n    if (id != null && id in Bokeh.index) {\n      Bokeh.index[id].model.document.clear();\n      delete Bokeh.index[id];\n    }\n\n    if (server_id !== undefined) {\n      // Clean up Bokeh references\n      const cmd_clean = \"from bokeh.io.state import curstate; print(curstate().uuid_to_server['\" + server_id + \"'].get_sessions()[0].document.roots[0]._id)\";\n      cell.notebook.kernel.execute(cmd_clean, {\n        iopub: {\n          output: function(msg) {\n            const id = msg.content.text.trim();\n            if (id in Bokeh.index) {\n              Bokeh.index[id].model.document.clear();\n              delete Bokeh.index[id];\n            }\n          }\n        }\n      });\n      // Destroy server and session\n      const cmd_destroy = \"import bokeh.io.notebook as ion; ion.destroy_server('\" + server_id + \"')\";\n      cell.notebook.kernel.execute(cmd_destroy);\n    }\n  }\n\n  /**\n   * Handle when a new output is added\n   */\n  function handleAddOutput(event, handle) {\n    const output_area = handle.output_area;\n    const output = handle.output;\n\n    // limit handleAddOutput to display_data with EXEC_MIME_TYPE content only\n    if ((output.output_type != \"display_data\") || (!Object.prototype.hasOwnProperty.call(output.data, EXEC_MIME_TYPE))) {\n      return\n    }\n\n    const toinsert = output_area.element.find(\".\" + CLASS_NAME.split(' ')[0]);\n\n    if (output.metadata[EXEC_MIME_TYPE][\"id\"] !== undefined) {\n      toinsert[toinsert.length - 1].firstChild.textContent = output.data[JS_MIME_TYPE];\n      // store reference to embed id on output_area\n      output_area._bokeh_element_id = output.metadata[EXEC_MIME_TYPE][\"id\"];\n    }\n    if (output.metadata[EXEC_MIME_TYPE][\"server_id\"] !== undefined) {\n      const bk_div = document.createElement(\"div\");\n      bk_div.innerHTML = output.data[HTML_MIME_TYPE];\n      const script_attrs = bk_div.children[0].attributes;\n      for (let i = 0; i < script_attrs.length; i++) {\n        toinsert[toinsert.length - 1].firstChild.setAttribute(script_attrs[i].name, script_attrs[i].value);\n        toinsert[toinsert.length - 1].firstChild.textContent = bk_div.children[0].textContent\n      }\n      // store reference to server id on output_area\n      output_area._bokeh_server_id = output.metadata[EXEC_MIME_TYPE][\"server_id\"];\n    }\n  }\n\n  function register_renderer(events, OutputArea) {\n\n    function append_mime(data, metadata, element) {\n      // create a DOM node to render to\n      const toinsert = this.create_output_subarea(\n        metadata,\n        CLASS_NAME,\n        EXEC_MIME_TYPE\n      );\n      this.keyboard_manager.register_events(toinsert);\n      // Render to node\n      const props = {data: data, metadata: metadata[EXEC_MIME_TYPE]};\n      render(props, toinsert[toinsert.length - 1]);\n      element.append(toinsert);\n      return toinsert\n    }\n\n    /* Handle when an output is cleared or removed */\n    events.on('clear_output.CodeCell', handleClearOutput);\n    events.on('delete.Cell', handleClearOutput);\n\n    /* Handle when a new output is added */\n    events.on('output_added.OutputArea', handleAddOutput);\n\n    /**\n     * Register the mime type and append_mime function with output_area\n     */\n    OutputArea.prototype.register_mime_type(EXEC_MIME_TYPE, append_mime, {\n      /* Is output safe? */\n      safe: true,\n      /* Index of renderer in `output_area.display_order` */\n      index: 0\n    });\n  }\n\n  // register the mime type if in Jupyter Notebook environment and previously unregistered\n  if (root.Jupyter !== undefined) {\n    const events = require('base/js/events');\n    const OutputArea = require('notebook/js/outputarea').OutputArea;\n\n    if (OutputArea.prototype.mime_types().indexOf(EXEC_MIME_TYPE) == -1) {\n      register_renderer(events, OutputArea);\n    }\n  }\n  if (typeof (root._bokeh_timeout) === \"undefined\" || force === true) {\n    root._bokeh_timeout = Date.now() + 5000;\n    root._bokeh_failed_load = false;\n  }\n\n  const NB_LOAD_WARNING = {'data': {'text/html':\n     \"<div style='background-color: #fdd'>\\n\"+\n     \"<p>\\n\"+\n     \"BokehJS does not appear to have successfully loaded. If loading BokehJS from CDN, this \\n\"+\n     \"may be due to a slow or bad network connection. Possible fixes:\\n\"+\n     \"</p>\\n\"+\n     \"<ul>\\n\"+\n     \"<li>re-rerun `output_notebook()` to attempt to load from CDN again, or</li>\\n\"+\n     \"<li>use INLINE resources instead, as so:</li>\\n\"+\n     \"</ul>\\n\"+\n     \"<code>\\n\"+\n     \"from bokeh.resources import INLINE\\n\"+\n     \"output_notebook(resources=INLINE)\\n\"+\n     \"</code>\\n\"+\n     \"</div>\"}};\n\n  function display_loaded() {\n    const el = document.getElementById(null);\n    if (el != null) {\n      el.textContent = \"BokehJS is loading...\";\n    }\n    if (root.Bokeh !== undefined) {\n      if (el != null) {\n        el.textContent = \"BokehJS \" + root.Bokeh.version + \" successfully loaded.\";\n      }\n    } else if (Date.now() < root._bokeh_timeout) {\n      setTimeout(display_loaded, 100)\n    }\n  }\n\n  function run_callbacks() {\n    try {\n      root._bokeh_onload_callbacks.forEach(function(callback) {\n        if (callback != null)\n          callback();\n      });\n    } finally {\n      delete root._bokeh_onload_callbacks\n    }\n    console.debug(\"Bokeh: all callbacks have finished\");\n  }\n\n  function load_libs(css_urls, js_urls, callback) {\n    if (css_urls == null) css_urls = [];\n    if (js_urls == null) js_urls = [];\n\n    root._bokeh_onload_callbacks.push(callback);\n    if (root._bokeh_is_loading > 0) {\n      console.debug(\"Bokeh: BokehJS is being loaded, scheduling callback at\", now());\n      return null;\n    }\n    if (js_urls == null || js_urls.length === 0) {\n      run_callbacks();\n      return null;\n    }\n    console.debug(\"Bokeh: BokehJS not loaded, scheduling load and callback at\", now());\n    root._bokeh_is_loading = css_urls.length + js_urls.length;\n\n    function on_load() {\n      root._bokeh_is_loading--;\n      if (root._bokeh_is_loading === 0) {\n        console.debug(\"Bokeh: all BokehJS libraries/stylesheets loaded\");\n        run_callbacks()\n      }\n    }\n\n    function on_error(url) {\n      console.error(\"failed to load \" + url);\n    }\n\n    for (let i = 0; i < css_urls.length; i++) {\n      const url = css_urls[i];\n      const element = document.createElement(\"link\");\n      element.onload = on_load;\n      element.onerror = on_error.bind(null, url);\n      element.rel = \"stylesheet\";\n      element.type = \"text/css\";\n      element.href = url;\n      console.debug(\"Bokeh: injecting link tag for BokehJS stylesheet: \", url);\n      document.body.appendChild(element);\n    }\n\n    for (let i = 0; i < js_urls.length; i++) {\n      const url = js_urls[i];\n      const element = document.createElement('script');\n      element.onload = on_load;\n      element.onerror = on_error.bind(null, url);\n      element.async = false;\n      element.src = url;\n      console.debug(\"Bokeh: injecting script tag for BokehJS library: \", url);\n      document.head.appendChild(element);\n    }\n  };\n\n  function inject_raw_css(css) {\n    const element = document.createElement(\"style\");\n    element.appendChild(document.createTextNode(css));\n    document.body.appendChild(element);\n  }\n\n  const js_urls = [\"https://cdn.bokeh.org/bokeh/release/bokeh-3.1.1.min.js\", \"https://cdn.bokeh.org/bokeh/release/bokeh-gl-3.1.1.min.js\", \"https://cdn.bokeh.org/bokeh/release/bokeh-widgets-3.1.1.min.js\", \"https://cdn.bokeh.org/bokeh/release/bokeh-tables-3.1.1.min.js\", \"https://cdn.bokeh.org/bokeh/release/bokeh-mathjax-3.1.1.min.js\"];\n  const css_urls = [];\n\n  const inline_js = [    function(Bokeh) {\n      Bokeh.set_log_level(\"info\");\n    },\nfunction(Bokeh) {\n    }\n  ];\n\n  function run_inline_js() {\n    if (root.Bokeh !== undefined || force === true) {\n          for (let i = 0; i < inline_js.length; i++) {\n      inline_js[i].call(root, root.Bokeh);\n    }\n} else if (Date.now() < root._bokeh_timeout) {\n      setTimeout(run_inline_js, 100);\n    } else if (!root._bokeh_failed_load) {\n      console.log(\"Bokeh: BokehJS failed to load within specified timeout.\");\n      root._bokeh_failed_load = true;\n    } else if (force !== true) {\n      const cell = $(document.getElementById(null)).parents('.cell').data().cell;\n      cell.output_area.append_execute_result(NB_LOAD_WARNING)\n    }\n  }\n\n  if (root._bokeh_is_loading === 0) {\n    console.debug(\"Bokeh: BokehJS loaded, going straight to plotting\");\n    run_inline_js();\n  } else {\n    load_libs(css_urls, js_urls, function() {\n      console.debug(\"Bokeh: BokehJS plotting callback run at\", now());\n      run_inline_js();\n    });\n  }\n}(window));",
            "application/vnd.bokehjs_load.v0+json": ""
          },
          "metadata": {},
          "output_type": "display_data"
        },
        {
          "data": {
            "text/html": [
              "\n",
              "  <div id=\"cee9bf9c-702c-47ab-8463-acce41621d85\" data-root-id=\"p1165\" style=\"display: contents;\"></div>\n"
            ]
          },
          "metadata": {},
          "output_type": "display_data"
        },
        {
          "data": {
            "application/javascript": "(function(root) {\n  function embed_document(root) {\n  const docs_json = {\"bf595bed-9875-4d3a-97fe-79acda08d25a\":{\"version\":\"3.1.1\",\"title\":\"Bokeh Application\",\"defs\":[],\"roots\":[{\"type\":\"object\",\"name\":\"GridPlot\",\"id\":\"p1165\",\"attributes\":{\"rows\":null,\"cols\":null,\"toolbar\":{\"type\":\"object\",\"name\":\"Toolbar\",\"id\":\"p1164\",\"attributes\":{\"logo\":null,\"tools\":[{\"type\":\"object\",\"name\":\"ToolProxy\",\"id\":\"p1155\",\"attributes\":{\"tools\":[{\"type\":\"object\",\"name\":\"PanTool\",\"id\":\"p1032\",\"attributes\":{\"dimensions\":\"width\"}},{\"type\":\"object\",\"name\":\"PanTool\",\"id\":\"p1092\",\"attributes\":{\"dimensions\":\"width\"}}]}},{\"type\":\"object\",\"name\":\"ToolProxy\",\"id\":\"p1156\",\"attributes\":{\"tools\":[{\"type\":\"object\",\"name\":\"PanTool\",\"id\":\"p1033\"},{\"type\":\"object\",\"name\":\"PanTool\",\"id\":\"p1093\"}]}},{\"type\":\"object\",\"name\":\"ToolProxy\",\"id\":\"p1157\",\"attributes\":{\"tools\":[{\"type\":\"object\",\"name\":\"WheelZoomTool\",\"id\":\"p1034\",\"attributes\":{\"dimensions\":\"width\"}},{\"type\":\"object\",\"name\":\"WheelZoomTool\",\"id\":\"p1094\",\"attributes\":{\"dimensions\":\"width\"}}]}},{\"type\":\"object\",\"name\":\"ToolProxy\",\"id\":\"p1158\",\"attributes\":{\"tools\":[{\"type\":\"object\",\"name\":\"WheelZoomTool\",\"id\":\"p1035\",\"attributes\":{\"dimensions\":\"height\"}},{\"type\":\"object\",\"name\":\"WheelZoomTool\",\"id\":\"p1095\",\"attributes\":{\"dimensions\":\"height\"}}]}},{\"type\":\"object\",\"name\":\"ToolProxy\",\"id\":\"p1159\",\"attributes\":{\"tools\":[{\"type\":\"object\",\"name\":\"BoxZoomTool\",\"id\":\"p1036\",\"attributes\":{\"overlay\":{\"type\":\"object\",\"name\":\"BoxAnnotation\",\"id\":\"p1037\",\"attributes\":{\"syncable\":false,\"level\":\"overlay\",\"visible\":false,\"left_units\":\"canvas\",\"right_units\":\"canvas\",\"bottom_units\":\"canvas\",\"top_units\":\"canvas\",\"line_color\":\"black\",\"line_alpha\":1.0,\"line_width\":2,\"line_dash\":[4,4],\"fill_color\":\"lightgrey\",\"fill_alpha\":0.5}}}},{\"type\":\"object\",\"name\":\"BoxZoomTool\",\"id\":\"p1096\",\"attributes\":{\"overlay\":{\"type\":\"object\",\"name\":\"BoxAnnotation\",\"id\":\"p1097\",\"attributes\":{\"syncable\":false,\"level\":\"overlay\",\"visible\":false,\"left_units\":\"canvas\",\"right_units\":\"canvas\",\"bottom_units\":\"canvas\",\"top_units\":\"canvas\",\"line_color\":\"black\",\"line_alpha\":1.0,\"line_width\":2,\"line_dash\":[4,4],\"fill_color\":\"lightgrey\",\"fill_alpha\":0.5}}}}]}},{\"type\":\"object\",\"name\":\"ToolProxy\",\"id\":\"p1160\",\"attributes\":{\"tools\":[{\"type\":\"object\",\"name\":\"ResetTool\",\"id\":\"p1038\"},{\"type\":\"object\",\"name\":\"ResetTool\",\"id\":\"p1098\"}]}},{\"type\":\"object\",\"name\":\"ToolProxy\",\"id\":\"p1161\",\"attributes\":{\"tools\":[{\"type\":\"object\",\"name\":\"UndoTool\",\"id\":\"p1039\"},{\"type\":\"object\",\"name\":\"UndoTool\",\"id\":\"p1099\"}]}},{\"type\":\"object\",\"name\":\"SaveTool\",\"id\":\"p1162\"},{\"type\":\"object\",\"name\":\"ToolProxy\",\"id\":\"p1163\",\"attributes\":{\"tools\":[{\"type\":\"object\",\"name\":\"HoverTool\",\"id\":\"p1041\",\"attributes\":{\"renderers\":\"auto\"}},{\"type\":\"object\",\"name\":\"HoverTool\",\"id\":\"p1101\",\"attributes\":{\"renderers\":\"auto\"}}]}}]}},\"toolbar_location\":\"right\",\"children\":[[{\"type\":\"object\",\"name\":\"Figure\",\"id\":\"p1001\",\"attributes\":{\"width\":1024,\"height\":150,\"x_range\":{\"type\":\"object\",\"name\":\"DataRange1d\",\"id\":\"p1003\",\"attributes\":{\"js_property_callbacks\":{\"type\":\"map\",\"entries\":[[\"change:start\",[{\"type\":\"object\",\"name\":\"CustomJS\",\"id\":\"p1122\",\"attributes\":{\"args\":{\"type\":\"map\",\"entries\":[[\"p1_x_range\",{\"id\":\"p1003\"}],[\"p2_x_range\",{\"type\":\"object\",\"name\":\"DataRange1d\",\"id\":\"p1064\",\"attributes\":{\"js_property_callbacks\":{\"type\":\"map\",\"entries\":[[\"change:start\",[{\"id\":\"p1122\"}]],[\"change:end\",[{\"id\":\"p1122\"}]]]}}}]]},\"code\":\"\\n            if (cb_obj == p1_x_range) {\\n                const start =  p1_x_range.start;\\n                const end =  p1_x_range.end;\\n                \\n            p2_x_range.start = start;\\n            p2_x_range.end = end;\\n            \\n            }\\n            \\n            if (cb_obj == p2_x_range) {\\n                const start =  p2_x_range.start;\\n                const end =  p2_x_range.end;\\n                \\n            p1_x_range.start = start;\\n            p1_x_range.end = end;\\n            \\n            }\\n            \"}}]],[\"change:end\",[{\"id\":\"p1122\"}]]]}}},\"y_range\":{\"type\":\"object\",\"name\":\"DataRange1d\",\"id\":\"p1002\"},\"x_scale\":{\"type\":\"object\",\"name\":\"LinearScale\",\"id\":\"p1014\"},\"y_scale\":{\"type\":\"object\",\"name\":\"LinearScale\",\"id\":\"p1016\"},\"title\":{\"type\":\"object\",\"name\":\"Title\",\"id\":\"p1005\"},\"renderers\":[{\"type\":\"object\",\"name\":\"GlyphRenderer\",\"id\":\"p1059\",\"attributes\":{\"data_source\":{\"type\":\"object\",\"name\":\"ColumnDataSource\",\"id\":\"p1053\",\"attributes\":{\"selected\":{\"type\":\"object\",\"name\":\"Selection\",\"id\":\"p1054\",\"attributes\":{\"indices\":[],\"line_indices\":[]}},\"selection_policy\":{\"type\":\"object\",\"name\":\"UnionRenderers\",\"id\":\"p1055\"},\"data\":{\"type\":\"map\",\"entries\":[[\"x\",{\"type\":\"ndarray\",\"array\":{\"type\":\"bytes\",\"data\":\"AAAAAAAA8D8AAAAAAAAAQAAAAAAAAAhAAAAAAAAAEEAAAAAAAAAUQA==\"},\"shape\":[5],\"dtype\":\"float64\",\"order\":\"little\"}],[\"y\",{\"type\":\"ndarray\",\"array\":{\"type\":\"bytes\",\"data\":\"AAAAAAAA4D8zMzMzMzPjP5qZmZmZmdk/mpmZmZmZ2T/NzMzMzMzsPw==\"},\"shape\":[5],\"dtype\":\"float64\",\"order\":\"little\"}]]}}},\"view\":{\"type\":\"object\",\"name\":\"CDSView\",\"id\":\"p1060\",\"attributes\":{\"filter\":{\"type\":\"object\",\"name\":\"AllIndices\",\"id\":\"p1061\"}}},\"glyph\":{\"type\":\"object\",\"name\":\"Line\",\"id\":\"p1056\",\"attributes\":{\"x\":{\"type\":\"field\",\"field\":\"x\"},\"y\":{\"type\":\"field\",\"field\":\"y\"},\"line_color\":\"#1b9e77\"}},\"nonselection_glyph\":{\"type\":\"object\",\"name\":\"Line\",\"id\":\"p1057\",\"attributes\":{\"x\":{\"type\":\"field\",\"field\":\"x\"},\"y\":{\"type\":\"field\",\"field\":\"y\"},\"line_color\":\"#1b9e77\",\"line_alpha\":0.1}},\"muted_glyph\":{\"type\":\"object\",\"name\":\"Line\",\"id\":\"p1058\",\"attributes\":{\"x\":{\"type\":\"field\",\"field\":\"x\"},\"y\":{\"type\":\"field\",\"field\":\"y\"},\"line_color\":\"#1b9e77\",\"line_alpha\":0.2}}}}],\"toolbar\":{\"type\":\"object\",\"name\":\"Toolbar\",\"id\":\"p1006\",\"attributes\":{\"tools\":[{\"id\":\"p1032\"},{\"id\":\"p1033\"},{\"id\":\"p1034\"},{\"id\":\"p1035\"},{\"id\":\"p1036\"},{\"id\":\"p1038\"},{\"id\":\"p1039\"},{\"type\":\"object\",\"name\":\"SaveTool\",\"id\":\"p1040\"},{\"id\":\"p1041\"}]}},\"toolbar_location\":null,\"left\":[{\"type\":\"object\",\"name\":\"LinearAxis\",\"id\":\"p1025\",\"attributes\":{\"ticker\":{\"type\":\"object\",\"name\":\"BasicTicker\",\"id\":\"p1028\",\"attributes\":{\"mantissas\":[1,2,5]}},\"formatter\":{\"type\":\"object\",\"name\":\"BasicTickFormatter\",\"id\":\"p1026\"},\"axis_label\":\"feature_1\",\"major_label_policy\":{\"type\":\"object\",\"name\":\"AllLabels\",\"id\":\"p1027\"}}}],\"below\":[{\"type\":\"object\",\"name\":\"LinearAxis\",\"id\":\"p1018\",\"attributes\":{\"ticker\":{\"type\":\"object\",\"name\":\"BasicTicker\",\"id\":\"p1021\",\"attributes\":{\"mantissas\":[1,2,5]}},\"formatter\":{\"type\":\"object\",\"name\":\"BasicTickFormatter\",\"id\":\"p1019\"},\"major_label_policy\":{\"type\":\"object\",\"name\":\"AllLabels\",\"id\":\"p1020\"}}}],\"center\":[{\"type\":\"object\",\"name\":\"Grid\",\"id\":\"p1024\",\"attributes\":{\"axis\":{\"id\":\"p1018\"}}},{\"type\":\"object\",\"name\":\"Grid\",\"id\":\"p1031\",\"attributes\":{\"dimension\":1,\"axis\":{\"id\":\"p1025\"}}}]}},0,0],[{\"type\":\"object\",\"name\":\"Figure\",\"id\":\"p1062\",\"attributes\":{\"width\":1024,\"height\":150,\"x_range\":{\"id\":\"p1064\"},\"y_range\":{\"type\":\"object\",\"name\":\"FactorRange\",\"id\":\"p1073\",\"attributes\":{\"factors\":[\"red\",\"green\",\"blue\"]}},\"x_scale\":{\"type\":\"object\",\"name\":\"LinearScale\",\"id\":\"p1075\"},\"y_scale\":{\"type\":\"object\",\"name\":\"CategoricalScale\",\"id\":\"p1077\"},\"title\":{\"type\":\"object\",\"name\":\"Title\",\"id\":\"p1066\"},\"renderers\":[{\"type\":\"object\",\"name\":\"GlyphRenderer\",\"id\":\"p1119\",\"attributes\":{\"data_source\":{\"type\":\"object\",\"name\":\"ColumnDataSource\",\"id\":\"p1113\",\"attributes\":{\"selected\":{\"type\":\"object\",\"name\":\"Selection\",\"id\":\"p1114\",\"attributes\":{\"indices\":[],\"line_indices\":[]}},\"selection_policy\":{\"type\":\"object\",\"name\":\"UnionRenderers\",\"id\":\"p1115\"},\"data\":{\"type\":\"map\",\"entries\":[[\"x\",{\"type\":\"ndarray\",\"array\":{\"type\":\"bytes\",\"data\":\"AAAAAAAA8D8AAAAAAAAAQAAAAAAAAAhAAAAAAAAAEEAAAAAAAAAUQA==\"},\"shape\":[5],\"dtype\":\"float64\",\"order\":\"little\"}],[\"y\",{\"type\":\"ndarray\",\"array\":[\"red\",\"blue\",\"red\",\"blue\",\"green\"],\"shape\":[5],\"dtype\":\"object\",\"order\":\"little\"}]]}}},\"view\":{\"type\":\"object\",\"name\":\"CDSView\",\"id\":\"p1120\",\"attributes\":{\"filter\":{\"type\":\"object\",\"name\":\"AllIndices\",\"id\":\"p1121\"}}},\"glyph\":{\"type\":\"object\",\"name\":\"Circle\",\"id\":\"p1116\",\"attributes\":{\"x\":{\"type\":\"field\",\"field\":\"x\"},\"y\":{\"type\":\"field\",\"field\":\"y\"},\"line_color\":{\"type\":\"value\",\"value\":\"#1f77b4\"},\"fill_color\":{\"type\":\"value\",\"value\":\"#1f77b4\"}}},\"nonselection_glyph\":{\"type\":\"object\",\"name\":\"Circle\",\"id\":\"p1117\",\"attributes\":{\"x\":{\"type\":\"field\",\"field\":\"x\"},\"y\":{\"type\":\"field\",\"field\":\"y\"},\"line_color\":{\"type\":\"value\",\"value\":\"#1f77b4\"},\"line_alpha\":{\"type\":\"value\",\"value\":0.1},\"fill_color\":{\"type\":\"value\",\"value\":\"#1f77b4\"},\"fill_alpha\":{\"type\":\"value\",\"value\":0.1},\"hatch_alpha\":{\"type\":\"value\",\"value\":0.1}}},\"muted_glyph\":{\"type\":\"object\",\"name\":\"Circle\",\"id\":\"p1118\",\"attributes\":{\"x\":{\"type\":\"field\",\"field\":\"x\"},\"y\":{\"type\":\"field\",\"field\":\"y\"},\"line_color\":{\"type\":\"value\",\"value\":\"#1f77b4\"},\"line_alpha\":{\"type\":\"value\",\"value\":0.2},\"fill_color\":{\"type\":\"value\",\"value\":\"#1f77b4\"},\"fill_alpha\":{\"type\":\"value\",\"value\":0.2},\"hatch_alpha\":{\"type\":\"value\",\"value\":0.2}}}}}],\"toolbar\":{\"type\":\"object\",\"name\":\"Toolbar\",\"id\":\"p1067\",\"attributes\":{\"tools\":[{\"id\":\"p1092\"},{\"id\":\"p1093\"},{\"id\":\"p1094\"},{\"id\":\"p1095\"},{\"id\":\"p1096\"},{\"id\":\"p1098\"},{\"id\":\"p1099\"},{\"type\":\"object\",\"name\":\"SaveTool\",\"id\":\"p1100\"},{\"id\":\"p1101\"}]}},\"toolbar_location\":null,\"left\":[{\"type\":\"object\",\"name\":\"CategoricalAxis\",\"id\":\"p1086\",\"attributes\":{\"ticker\":{\"type\":\"object\",\"name\":\"CategoricalTicker\",\"id\":\"p1089\"},\"formatter\":{\"type\":\"object\",\"name\":\"CategoricalTickFormatter\",\"id\":\"p1087\"},\"axis_label\":\"feature_2\",\"major_label_policy\":{\"type\":\"object\",\"name\":\"AllLabels\",\"id\":\"p1088\"}}}],\"below\":[{\"type\":\"object\",\"name\":\"LinearAxis\",\"id\":\"p1079\",\"attributes\":{\"ticker\":{\"type\":\"object\",\"name\":\"BasicTicker\",\"id\":\"p1082\",\"attributes\":{\"mantissas\":[1,2,5]}},\"formatter\":{\"type\":\"object\",\"name\":\"BasicTickFormatter\",\"id\":\"p1080\"},\"major_label_policy\":{\"type\":\"object\",\"name\":\"AllLabels\",\"id\":\"p1081\"}}}],\"center\":[{\"type\":\"object\",\"name\":\"Grid\",\"id\":\"p1085\",\"attributes\":{\"axis\":{\"id\":\"p1079\"}}},{\"type\":\"object\",\"name\":\"Grid\",\"id\":\"p1091\",\"attributes\":{\"dimension\":1,\"axis\":{\"id\":\"p1086\"}}}]}},1,0]]}}],\"callbacks\":{\"type\":\"map\"}}};\n  const render_items = [{\"docid\":\"bf595bed-9875-4d3a-97fe-79acda08d25a\",\"roots\":{\"p1165\":\"cee9bf9c-702c-47ab-8463-acce41621d85\"},\"root_ids\":[\"p1165\"]}];\n  root.Bokeh.embed.embed_items_notebook(docs_json, render_items);\n  }\n  if (root.Bokeh !== undefined) {\n    embed_document(root);\n  } else {\n    let attempts = 0;\n    const timer = setInterval(function(root) {\n      if (root.Bokeh !== undefined) {\n        clearInterval(timer);\n        embed_document(root);\n      } else {\n        attempts++;\n        if (attempts > 100) {\n          clearInterval(timer);\n          console.log(\"Bokeh: ERROR: Unable to run BokehJS code because BokehJS library is missing\");\n        }\n      }\n    }, 10, root)\n  }\n})(window);",
            "application/vnd.bokehjs_exec.v0+json": ""
          },
          "metadata": {
            "application/vnd.bokehjs_exec.v0+json": {
              "id": "p1165"
            }
          },
          "output_type": "display_data"
        }
      ],
      "source": [
        "!pip install bokeh -q\n",
        "\n",
        "evset.plot(interactive=True)"
      ]
    },
    {
      "attachments": {},
      "cell_type": "markdown",
      "id": "cf4d0c27",
      "metadata": {
        "cell_marker": "\"\"\"",
        "lines_to_next_cell": 0
      },
      "source": [
        "\n",
        "## Feature naming\n",
        "\n",
        "Each feature is identified by a name, and the list of features is available through the `features` property of an `EventSetNode`."
      ]
    },
    {
      "cell_type": "code",
      "execution_count": 19,
      "id": "38ff0e20",
      "metadata": {
        "execution": {
          "iopub.execute_input": "2023-07-12T19:18:48.041769Z",
          "iopub.status.busy": "2023-07-12T19:18:48.041511Z",
          "iopub.status.idle": "2023-07-12T19:18:48.045989Z",
          "shell.execute_reply": "2023-07-12T19:18:48.045296Z"
        }
      },
      "outputs": [
        {
          "name": "stdout",
          "output_type": "stream",
          "text": [
            "[('feature_1', float64), ('feature_2', float64)]\n"
          ]
        }
      ],
      "source": [
        "events = tp.event_set(\n",
        "\ttimestamps=[1,2,3,4,5],\n",
        "\tfeatures={\n",
        "\t    \"feature_1\": [0.5, 0.6, 0.4, 0.4, 0.9],\n",
        "\t    \"feature_2\": [1.0, 2.0, 3.0, 2.0, 1.0]}\n",
        "    )\n",
        "node = events.node()\n",
        "print(node.features)"
      ]
    },
    {
      "attachments": {},
      "cell_type": "markdown",
      "id": "2cd29020",
      "metadata": {
        "cell_marker": "\"\"\"",
        "lines_to_next_cell": 0
      },
      "source": [
        "\n",
        "Most operators do not change the input feature's names."
      ]
    },
    {
      "cell_type": "code",
      "execution_count": 20,
      "id": "838449d4",
      "metadata": {
        "execution": {
          "iopub.execute_input": "2023-07-12T19:18:48.048381Z",
          "iopub.status.busy": "2023-07-12T19:18:48.048173Z",
          "iopub.status.idle": "2023-07-12T19:18:48.053544Z",
          "shell.execute_reply": "2023-07-12T19:18:48.052749Z"
        }
      },
      "outputs": [
        {
          "data": {
            "text/plain": [
              "[('feature_1', float64), ('feature_2', float64)]"
            ]
          },
          "execution_count": 20,
          "metadata": {},
          "output_type": "execute_result"
        }
      ],
      "source": [
        "tp.moving_sum(node, window_length=10).features"
      ]
    },
    {
      "attachments": {},
      "cell_type": "markdown",
      "id": "b70cc298",
      "metadata": {
        "cell_marker": "\"\"\"",
        "lines_to_next_cell": 0
      },
      "source": [
        "\n",
        "Some operators combine two input features with different names, in which case the output name is also combined."
      ]
    },
    {
      "cell_type": "code",
      "execution_count": 21,
      "id": "b10fdec3",
      "metadata": {
        "execution": {
          "iopub.execute_input": "2023-07-12T19:18:48.056033Z",
          "iopub.status.busy": "2023-07-12T19:18:48.055834Z",
          "iopub.status.idle": "2023-07-12T19:18:48.060788Z",
          "shell.execute_reply": "2023-07-12T19:18:48.060000Z"
        }
      },
      "outputs": [
        {
          "data": {
            "text/plain": [
              "[('mult_feature_1_feature_2', float64)]"
            ]
          },
          "execution_count": 21,
          "metadata": {},
          "output_type": "execute_result"
        }
      ],
      "source": [
        "result = node[\"feature_1\"] * node[\"feature_2\"]\n",
        "result.features"
      ]
    },
    {
      "attachments": {},
      "cell_type": "markdown",
      "id": "87731369",
      "metadata": {
        "cell_marker": "\"\"\"",
        "lines_to_next_cell": 0
      },
      "source": [
        "\n",
        "The calendar operators don't depend on input features but on the timestamps, so the output feature name doesn't\n",
        "relate to the input feature names."
      ]
    },
    {
      "cell_type": "code",
      "execution_count": 22,
      "id": "4182d3f8",
      "metadata": {
        "execution": {
          "iopub.execute_input": "2023-07-12T19:18:48.063351Z",
          "iopub.status.busy": "2023-07-12T19:18:48.063139Z",
          "iopub.status.idle": "2023-07-12T19:18:48.067737Z",
          "shell.execute_reply": "2023-07-12T19:18:48.066977Z"
        }
      },
      "outputs": [
        {
          "name": "stdout",
          "output_type": "stream",
          "text": [
            "[('calendar_month', int32)]\n"
          ]
        }
      ],
      "source": [
        "date_events = tp.event_set(\n",
        "\ttimestamps=[\"2020-02-15\", \"2020-06-20\"],\n",
        "\tfeatures={\"some_feature\": [10, 20]}\n",
        "    )\n",
        "date_node = date_events.node()\n",
        "print(tp.calendar_month(date_node).features)"
      ]
    },
    {
      "attachments": {},
      "cell_type": "markdown",
      "id": "61127d7f",
      "metadata": {
        "cell_marker": "\"\"\"",
        "lines_to_next_cell": 0
      },
      "source": [
        "\n",
        "You can modify feature names using the `tp.rename()` and `tp.prefix()` operators. `tp.rename()` changes the name of features, while `tp.prefix()` adds a prefix in front of existing feature names. Note that they do not modify the content of the input `EventSetNode`, but return a new `EventSetNode` with the modified feature names."
      ]
    },
    {
      "cell_type": "code",
      "execution_count": 23,
      "id": "bc36bc1f",
      "metadata": {
        "execution": {
          "iopub.execute_input": "2023-07-12T19:18:48.070434Z",
          "iopub.status.busy": "2023-07-12T19:18:48.070178Z",
          "iopub.status.idle": "2023-07-12T19:18:48.074287Z",
          "shell.execute_reply": "2023-07-12T19:18:48.073625Z"
        }
      },
      "outputs": [
        {
          "name": "stdout",
          "output_type": "stream",
          "text": [
            "[('renamed_1', float64)]\n"
          ]
        }
      ],
      "source": [
        "# Rename a single feature.\n",
        "renamed_f1 = tp.rename(node[\"feature_1\"], \"renamed_1\")\n",
        "print(renamed_f1.features)"
      ]
    },
    {
      "cell_type": "code",
      "execution_count": 24,
      "id": "a44f6e7a",
      "metadata": {
        "execution": {
          "iopub.execute_input": "2023-07-12T19:18:48.076479Z",
          "iopub.status.busy": "2023-07-12T19:18:48.076270Z",
          "iopub.status.idle": "2023-07-12T19:18:48.080087Z",
          "shell.execute_reply": "2023-07-12T19:18:48.079462Z"
        }
      },
      "outputs": [
        {
          "name": "stdout",
          "output_type": "stream",
          "text": [
            "[('renamed_1', float64), ('renamed_2', float64)]\n"
          ]
        }
      ],
      "source": [
        "# Rename all features.\n",
        "renamed_node = tp.rename(node,\n",
        "    {\"feature_1\": \"renamed_1\", \"feature_2\": \"renamed_2\"}\n",
        ")\n",
        "print(renamed_node.features)"
      ]
    },
    {
      "cell_type": "code",
      "execution_count": 25,
      "id": "af6103fc",
      "metadata": {
        "execution": {
          "iopub.execute_input": "2023-07-12T19:18:48.082268Z",
          "iopub.status.busy": "2023-07-12T19:18:48.082077Z",
          "iopub.status.idle": "2023-07-12T19:18:48.086119Z",
          "shell.execute_reply": "2023-07-12T19:18:48.085424Z"
        }
      },
      "outputs": [
        {
          "name": "stdout",
          "output_type": "stream",
          "text": [
            "[('prefixed.feature_1', float64)]\n"
          ]
        }
      ],
      "source": [
        "# Prefix a single feature.\n",
        "prefixed_f1 = tp.prefix(node[\"feature_1\"], \"prefixed.\")\n",
        "print(prefixed_f1.features)"
      ]
    },
    {
      "cell_type": "code",
      "execution_count": 26,
      "id": "3126cbed",
      "metadata": {
        "execution": {
          "iopub.execute_input": "2023-07-12T19:18:48.088498Z",
          "iopub.status.busy": "2023-07-12T19:18:48.088287Z",
          "iopub.status.idle": "2023-07-12T19:18:48.092046Z",
          "shell.execute_reply": "2023-07-12T19:18:48.091363Z"
        }
      },
      "outputs": [
        {
          "name": "stdout",
          "output_type": "stream",
          "text": [
            "[('prefixed.feature_1', float64), ('prefixed.feature_2', float64)]\n"
          ]
        }
      ],
      "source": [
        "# Prefix all features.\n",
        "prefixed_node = tp.prefix(node, \"prefixed.\")\n",
        "print(prefixed_node.features)"
      ]
    },
    {
      "attachments": {},
      "cell_type": "markdown",
      "id": "085e79c3",
      "metadata": {
        "cell_marker": "\"\"\"",
        "lines_to_next_cell": 0
      },
      "source": [
        "\n",
        "It is recommended to use `tp.rename()` and `tp.prefix()` to organize your data, and avoid duplicated feature names."
      ]
    },
    {
      "cell_type": "code",
      "execution_count": 27,
      "id": "852abbdd",
      "metadata": {
        "execution": {
          "iopub.execute_input": "2023-07-12T19:18:48.094459Z",
          "iopub.status.busy": "2023-07-12T19:18:48.094263Z",
          "iopub.status.idle": "2023-07-12T19:18:48.098192Z",
          "shell.execute_reply": "2023-07-12T19:18:48.097520Z"
        }
      },
      "outputs": [],
      "source": [
        "sma_7_node = tp.prefix(tp.simple_moving_average(node, tp.duration.days(7)), \"sma_7.\")\n",
        "sma_14_node = tp.prefix(tp.simple_moving_average(node, tp.duration.days(14)), \"sma_14.\")"
      ]
    },
    {
      "attachments": {},
      "cell_type": "markdown",
      "id": "ac25eb4a",
      "metadata": {
        "cell_marker": "\"\"\"",
        "lines_to_next_cell": 0
      },
      "source": [
        "\n",
        "The `tp.glue()` operator can be used to concatenate different features into a single `EventSetNode`, but it will fail if two features with the same name are provided. The following pattern is commonly used in Temporian programs."
      ]
    },
    {
      "cell_type": "code",
      "execution_count": 28,
      "id": "f7d85e33",
      "metadata": {
        "execution": {
          "iopub.execute_input": "2023-07-12T19:18:48.100474Z",
          "iopub.status.busy": "2023-07-12T19:18:48.100285Z",
          "iopub.status.idle": "2023-07-12T19:18:48.104973Z",
          "shell.execute_reply": "2023-07-12T19:18:48.104296Z"
        }
      },
      "outputs": [],
      "source": [
        "result = tp.glue(\n",
        "    tp.prefix(tp.simple_moving_average(node, tp.duration.days(7)), \"sma_7.\"),\n",
        "    tp.prefix(tp.simple_moving_average(node, tp.duration.days(14)), \"sma_14.\"),\n",
        ")"
      ]
    },
    {
      "attachments": {},
      "cell_type": "markdown",
      "id": "749df3cc",
      "metadata": {
        "cell_marker": "\"\"\"",
        "lines_to_next_cell": 0
      },
      "source": [
        "\n",
        "## Casting\n",
        "\n",
        "Temporian is strict on feature data types (also called dtype). This means that often, you cannot perform operations between features of different types. For example, you cannot subtract a `tp.float32` and a `tp.float64`. Instead, you must manually cast the features to the same type before performing the operation."
      ]
    },
    {
      "cell_type": "code",
      "execution_count": 29,
      "id": "e1276be1",
      "metadata": {
        "execution": {
          "iopub.execute_input": "2023-07-12T19:18:48.107140Z",
          "iopub.status.busy": "2023-07-12T19:18:48.106948Z",
          "iopub.status.idle": "2023-07-12T19:18:48.110638Z",
          "shell.execute_reply": "2023-07-12T19:18:48.109910Z"
        }
      },
      "outputs": [],
      "source": [
        "node = tp.input_node(features=[(\"f1\", tp.float32), (\"f2\", tp.float64)])\n",
        "added = tp.cast(node[\"f1\"], tp.float64) + node[\"f2\"]"
      ]
    },
    {
      "attachments": {},
      "cell_type": "markdown",
      "id": "d45a37bb",
      "metadata": {
        "lines_to_next_cell": 0
      },
      "source": [
        "\n",
        "Casting is especially useful to reduce memory usage. For example, if a feature only contains values between 0 and 10000, using `tp.int32` instead of `tp.int64` will halve memory usage. These optimizations are critical when working with large datasets.\n",
        "\n",
        "Casting can also be a necessary step before calling operators that only accept certain input data types.\n",
        "\n",
        "Note that in Python, the values `1.0` and `1` are respectively `float64` and `int64`.\n",
        "\n",
        "Temporian supports data type casting through the `tp.cast()` operator. Destination data types can be specified in three different ways:\n",
        "\n",
        "1. Single data type: converts all input features to the same destination data type.\n",
        "\n",
        "   "
      ]
    },
    {
      "cell_type": "code",
      "execution_count": 30,
      "id": "3e3ee4c4",
      "metadata": {
        "execution": {
          "iopub.execute_input": "2023-07-12T19:18:48.112858Z",
          "iopub.status.busy": "2023-07-12T19:18:48.112669Z",
          "iopub.status.idle": "2023-07-12T19:18:48.117232Z",
          "shell.execute_reply": "2023-07-12T19:18:48.116444Z"
        },
        "lines_to_next_cell": 0
      },
      "outputs": [
        {
          "data": {
            "text/plain": [
              "[('f1', float32), ('f2', float64)]"
            ]
          },
          "execution_count": 30,
          "metadata": {},
          "output_type": "execute_result"
        }
      ],
      "source": [
        "node.features"
      ]
    },
    {
      "cell_type": "code",
      "execution_count": 31,
      "id": "6c2444ba",
      "metadata": {
        "execution": {
          "iopub.execute_input": "2023-07-12T19:18:48.119467Z",
          "iopub.status.busy": "2023-07-12T19:18:48.119269Z",
          "iopub.status.idle": "2023-07-12T19:18:48.122662Z",
          "shell.execute_reply": "2023-07-12T19:18:48.122171Z"
        }
      },
      "outputs": [
        {
          "name": "stdout",
          "output_type": "stream",
          "text": [
            "[('f1', str_), ('f2', str_)]\n"
          ]
        }
      ],
      "source": [
        "print(tp.cast(node, tp.str_).features)"
      ]
    },
    {
      "attachments": {},
      "cell_type": "markdown",
      "id": "59c449d9",
      "metadata": {
        "cell_marker": "\"\"\"",
        "lines_to_next_cell": 0
      },
      "source": [
        "\n",
        "2. Feature name to data type mapping: converts each feature (specified by name) to a specific data type."
      ]
    },
    {
      "cell_type": "code",
      "execution_count": 32,
      "id": "05ee00a7",
      "metadata": {
        "execution": {
          "iopub.execute_input": "2023-07-12T19:18:48.124843Z",
          "iopub.status.busy": "2023-07-12T19:18:48.124658Z",
          "iopub.status.idle": "2023-07-12T19:18:48.128444Z",
          "shell.execute_reply": "2023-07-12T19:18:48.127834Z"
        }
      },
      "outputs": [
        {
          "name": "stdout",
          "output_type": "stream",
          "text": [
            "[('f1', str_), ('f2', int64)]\n"
          ]
        }
      ],
      "source": [
        "print(tp.cast(node, {\"f1\": tp.str_, \"f2\": tp.int64}).features)"
      ]
    },
    {
      "attachments": {},
      "cell_type": "markdown",
      "id": "3f85a531",
      "metadata": {
        "cell_marker": "\"\"\"",
        "lines_to_next_cell": 0
      },
      "source": [
        "\n",
        "3. Data type to data type mapping: converts all features of a specific data type to another data type."
      ]
    },
    {
      "cell_type": "code",
      "execution_count": 33,
      "id": "6deaff88",
      "metadata": {
        "execution": {
          "iopub.execute_input": "2023-07-12T19:18:48.130815Z",
          "iopub.status.busy": "2023-07-12T19:18:48.130616Z",
          "iopub.status.idle": "2023-07-12T19:18:48.134664Z",
          "shell.execute_reply": "2023-07-12T19:18:48.133974Z"
        }
      },
      "outputs": [
        {
          "name": "stdout",
          "output_type": "stream",
          "text": [
            "[('f1', str_), ('f2', int64)]\n"
          ]
        }
      ],
      "source": [
        "print(tp.cast(node, {tp.float32: tp.str_, tp.float64: tp.int64}).features)"
      ]
    },
    {
      "attachments": {},
      "cell_type": "markdown",
      "id": "915df6c5",
      "metadata": {
        "cell_marker": "\"\"\"",
        "lines_to_next_cell": 0
      },
      "source": [
        "\n",
        "Keep in mind that casting may fail when the graph is evaluated. For instance, attempting to cast `\"word\"` to `tp.float64` will result in an error. These errors cannot be caught prior to graph evaluation.\n",
        "\n",
        "## Arithmetic operators\n",
        "\n",
        "Arithmetic operators can be used between the features of an `EventSetNode`, to perform element-wise calculations.\n",
        "\n",
        "Common mathematical and bit operations are supported, such as addition (`+`), subtraction (`-`), product (`*`), division (`/`), floor division (`//`), modulo (`%`), comparisons (`>, >=, <, <=`), and bitwise operators (`&, |, ~`).\n",
        "\n",
        "These operators are applied index-wise and timestamp-wise, between features in the same position."
      ]
    },
    {
      "cell_type": "code",
      "execution_count": 34,
      "id": "2c673b17",
      "metadata": {
        "execution": {
          "iopub.execute_input": "2023-07-12T19:18:48.137323Z",
          "iopub.status.busy": "2023-07-12T19:18:48.136793Z",
          "iopub.status.idle": "2023-07-12T19:18:48.142502Z",
          "shell.execute_reply": "2023-07-12T19:18:48.141727Z"
        },
        "lines_to_next_cell": 0
      },
      "outputs": [
        {
          "name": "stdout",
          "output_type": "stream",
          "text": [
            "indexes: []\n",
            "features: [('add_f1_f3', int64), ('add_f2_f4', float64)]\n",
            "events:\n",
            "     (2 events):\n",
            "        timestamps: [ 1. 10.]\n",
            "        'add_f1_f3': [100 101]\n",
            "        'add_f2_f4': [1010. 1020.]\n",
            "memory usage: 0.7 kB\n",
            "\n"
          ]
        }
      ],
      "source": [
        "evset = tp.event_set(\n",
        "    timestamps=[1, 10],\n",
        "    features={\n",
        "        \"f1\": [0, 1],\n",
        "        \"f2\": [10.0, 20.0],\n",
        "        \"f3\": [100, 100],\n",
        "        \"f4\": [1000.0, 1000.0],\n",
        "    },\n",
        ")\n",
        "node = evset.node()\n",
        "\n",
        "node_added = node[[\"f1\", \"f2\"]] + node[[\"f3\", \"f4\"]]\n",
        "\n",
        "evset_added = node_added.run(evset)\n",
        "print(evset_added)"
      ]
    },
    {
      "attachments": {},
      "cell_type": "markdown",
      "id": "03bd54cc",
      "metadata": {
        "cell_marker": "\"\"\"",
        "lines_to_next_cell": 0
      },
      "source": [
        "\n",
        "Note that features of type `int64` and `float64` are not mixed above, because otherwise the operation would fail without an explicit type cast."
      ]
    },
    {
      "attachments": {},
      "cell_type": "markdown",
      "id": "1675fa25",
      "metadata": {
        "cell_marker": "\"\"\"",
        "lines_to_next_cell": 0
      },
      "source": [
        "```python\n",
        "# Attempt to mix dtypes.\n",
        ">>> node[\"f1\"] + node[\"f2\"]\n",
        "Traceback (most recent call last):\n",
        "    ...\n",
        "ValueError: corresponding features should have the same dtype. ...\n",
        "```"
      ]
    },
    {
      "attachments": {},
      "cell_type": "markdown",
      "id": "7b50cf71",
      "metadata": {
        "cell_marker": "\"\"\"",
        "lines_to_next_cell": 0
      },
      "source": [
        "\n",
        "Refer to the [Casting](#casting) section for more on this.\n",
        "\n",
        "All the operators have an equivalent functional form. The example above using `+`, could be rewritten with `tp.add()`."
      ]
    },
    {
      "cell_type": "code",
      "execution_count": 35,
      "id": "3b350c4a",
      "metadata": {
        "execution": {
          "iopub.execute_input": "2023-07-12T19:18:48.144884Z",
          "iopub.status.busy": "2023-07-12T19:18:48.144689Z",
          "iopub.status.idle": "2023-07-12T19:18:48.148299Z",
          "shell.execute_reply": "2023-07-12T19:18:48.147589Z"
        }
      },
      "outputs": [],
      "source": [
        "# Equivalent.\n",
        "node_added = tp.add(node[[\"f1\", \"f2\"]], node[[\"f3\", \"f4\"]])"
      ]
    },
    {
      "attachments": {},
      "cell_type": "markdown",
      "id": "d65bd8de",
      "metadata": {
        "cell_marker": "\"\"\"",
        "lines_to_next_cell": 0
      },
      "source": [
        "\n",
        "Other usual comparison and logic operators also work (except `==`, see below)."
      ]
    },
    {
      "cell_type": "code",
      "execution_count": 36,
      "id": "f1462eea",
      "metadata": {
        "execution": {
          "iopub.execute_input": "2023-07-12T19:18:48.150468Z",
          "iopub.status.busy": "2023-07-12T19:18:48.150279Z",
          "iopub.status.idle": "2023-07-12T19:18:48.154461Z",
          "shell.execute_reply": "2023-07-12T19:18:48.153773Z"
        }
      },
      "outputs": [],
      "source": [
        "is_greater = node[[\"f1\", \"f2\"]] > node[[\"f3\", \"f4\"]]\n",
        "is_less_or_equal = node[[\"f1\", \"f2\"]] <= node[[\"f3\", \"f4\"]]\n",
        "is_wrong = is_greater & is_less_or_equal"
      ]
    },
    {
      "attachments": {},
      "cell_type": "markdown",
      "id": "9f01eee7",
      "metadata": {
        "cell_marker": "\"\"\"",
        "lines_to_next_cell": 0
      },
      "source": [
        "\n",
        "**Warning:** The Python equality operator (`==`) does not compute element-wise equality between features. Use the `tp.equal()` operator instead."
      ]
    },
    {
      "cell_type": "code",
      "execution_count": 37,
      "id": "c610a0d0",
      "metadata": {
        "execution": {
          "iopub.execute_input": "2023-07-12T19:18:48.156702Z",
          "iopub.status.busy": "2023-07-12T19:18:48.156507Z",
          "iopub.status.idle": "2023-07-12T19:18:48.161203Z",
          "shell.execute_reply": "2023-07-12T19:18:48.160516Z"
        }
      },
      "outputs": [
        {
          "data": {
            "text/plain": [
              "schema:\n",
              "    features: [('eq_f1_f3', bool_)]\n",
              "    indexes: []\n",
              "    is_unix_timestamp: False\n",
              "\n",
              "features: [Feature(id=140558094330624, creator=Operator(key='EQUAL', id=66, attributes={}))]\n",
              "sampling: Sampling(id=140557545245616, creator=None),\n",
              "name: None\n",
              "creator: Operator(key='EQUAL', id=66, attributes={})\n",
              "id:140558094330240"
            ]
          },
          "execution_count": 37,
          "metadata": {},
          "output_type": "execute_result"
        }
      ],
      "source": [
        "# Works element-wise as expected\n",
        "tp.equal(node[\"f1\"], node[\"f3\"])"
      ]
    },
    {
      "cell_type": "code",
      "execution_count": 38,
      "id": "abda404b",
      "metadata": {
        "execution": {
          "iopub.execute_input": "2023-07-12T19:18:48.163464Z",
          "iopub.status.busy": "2023-07-12T19:18:48.163249Z",
          "iopub.status.idle": "2023-07-12T19:18:48.168151Z",
          "shell.execute_reply": "2023-07-12T19:18:48.167430Z"
        }
      },
      "outputs": [
        {
          "data": {
            "text/plain": [
              "False"
            ]
          },
          "execution_count": 38,
          "metadata": {},
          "output_type": "execute_result"
        }
      ],
      "source": [
        "# This is just a boolean\n",
        "(node[\"f1\"] == node[\"f3\"])\n",
        "False"
      ]
    },
    {
      "attachments": {},
      "cell_type": "markdown",
      "id": "0fa4a2d1",
      "metadata": {
        "cell_marker": "\"\"\"",
        "lines_to_next_cell": 0
      },
      "source": [
        "\n",
        "All these operators act feature-wise, i.e. they perform index-feature-wise operations (for each feature in each index key). This implies that the input `EventSetNodes` must have the same number of features."
      ]
    },
    {
      "attachments": {},
      "cell_type": "markdown",
      "id": "0352b9de",
      "metadata": {
        "cell_marker": "\"\"\"",
        "lines_to_next_cell": 0
      },
      "source": [
        "```python\n",
        "node[[\"f1\", \"f2\"]] + node[\"f3\"]\n",
        "Traceback (most recent call last):\n",
        "    ...\n",
        "ValueError: The left and right arguments should have the same number of features. ...\n",
        "```"
      ]
    },
    {
      "attachments": {},
      "cell_type": "markdown",
      "id": "8dd1d7f4",
      "metadata": {
        "cell_marker": "\"\"\"",
        "lines_to_next_cell": 0
      },
      "source": [
        "\n",
        "The input `EventSetNodes` must also have the same sampling and index."
      ]
    },
    {
      "attachments": {},
      "cell_type": "markdown",
      "id": "00990d1e",
      "metadata": {
        "cell_marker": "\"\"\"",
        "lines_to_next_cell": 0
      },
      "source": [
        "```python\n",
        "sampling_1 = tp.event_set(\n",
        "    timestamps=[0, 1],\n",
        "    features={\"f1\": [1, 2]},\n",
        ")\n",
        "sampling_2 = tp.event_set(\n",
        "    timestamps=[1, 2],\n",
        "    features={\"f1\": [3, 4]},\n",
        ")\n",
        "sampling_1.node() + sampling_2.node()\n",
        "Traceback (most recent call last):\n",
        "    ...\n",
        "ValueError: Arguments should have the same sampling. ...\n",
        "```"
      ]
    },
    {
      "attachments": {},
      "cell_type": "markdown",
      "id": "217fa8f5",
      "metadata": {
        "cell_marker": "\"\"\"",
        "lines_to_next_cell": 0
      },
      "source": [
        "\n",
        "If you want to apply arithmetic operators on `EventSetNodes` with different samplings, take a look at\n",
        "[Sampling](#sampling) section.\n",
        "\n",
        "If you want to apply them on `EventSetNodes` with different indexes, check the\n",
        "[Vertical operators](#indexes-horizontal-and-vertical-operators) section.\n",
        "\n",
        "Operations involving scalars are applied index-feature-element-wise."
      ]
    },
    {
      "cell_type": "code",
      "execution_count": 39,
      "id": "58fe7d8e",
      "metadata": {
        "execution": {
          "iopub.execute_input": "2023-07-12T19:18:48.170667Z",
          "iopub.status.busy": "2023-07-12T19:18:48.170470Z",
          "iopub.status.idle": "2023-07-12T19:18:48.174954Z",
          "shell.execute_reply": "2023-07-12T19:18:48.174165Z"
        },
        "lines_to_next_cell": 0
      },
      "outputs": [
        {
          "name": "stdout",
          "output_type": "stream",
          "text": [
            "indexes: []\n",
            "features: [('f1', int64), ('f2', float64), ('f3', int64), ('f4', float64)]\n",
            "events:\n",
            "     (2 events):\n",
            "        timestamps: [ 1. 10.]\n",
            "        'f1': [ 0 10]\n",
            "        'f2': [100. 200.]\n",
            "        'f3': [1000 1000]\n",
            "        'f4': [10000. 10000.]\n",
            "memory usage: 0.9 kB\n",
            "\n"
          ]
        }
      ],
      "source": [
        "node_scalar = node * 10\n",
        "print(node_scalar.run(evset))"
      ]
    },
    {
      "attachments": {},
      "cell_type": "markdown",
      "id": "a229408c",
      "metadata": {
        "cell_marker": "\"\"\"",
        "lines_to_next_cell": 0
      },
      "source": [
        "\n",
        "## Sampling\n",
        "\n",
        "Arithmetic operators, such as `tp.add()`, require their input arguments to have the same timestamps and [Index](#indexes-horizontal-and-vertical-operators). The unique combination of timestamps and indexes is called a _sampling_.\n",
        "\n",
        "<!-- TODO: example -->\n",
        "\n",
        "For example, if `EventSetNodes` `a` and `b` have different samplings, `a[\"feature_1\"] + b[\"feature_2\"]` will fail.\n",
        "\n",
        "To use arithmetic operators on `EventSets` with different samplings, one of the `EventSets` needs to be resampled to the sampling of the other `EventSet`. Resampling is done with the `tp.resample()` operator.\n",
        "\n",
        "The `tp.resample()` operator takes two `EventSets` called `input` and `sampling`, and returns the resampling of the features of `input` according to the timestamps of `sampling` according to the following rules:\n",
        "\n",
        "If a timestamp is present in `input` but not in `sampling`, the timestamp is dropped.\n",
        "If a timestamp is present in both `input` and `sampling`, the timestamp is kept.\n",
        "If a timestamp is present in `sampling` but not in `input`, a new timestamp is created using the feature values from the _closest anterior_ (not the closest, as that could induce future leakage) timestamp of `input`. This rule is especially useful for events that represent measurements (see [Events and `EventSets`](#events-and-eventsets)).\n",
        "\n",
        "**Note:** Features in `sampling` are ignored. This also happens in some other operators that take a `sampling` argument of type `EventSetNode` - it indicates that only the sampling (a.k.a. the indexes and timestamps) of that `EventSetNode` are being used by that operator.\n",
        "\n",
        "Given this example:"
      ]
    },
    {
      "cell_type": "code",
      "execution_count": 40,
      "id": "087b6fd6",
      "metadata": {
        "execution": {
          "iopub.execute_input": "2023-07-12T19:18:48.177284Z",
          "iopub.status.busy": "2023-07-12T19:18:48.177071Z",
          "iopub.status.idle": "2023-07-12T19:18:48.183612Z",
          "shell.execute_reply": "2023-07-12T19:18:48.182983Z"
        },
        "lines_to_next_cell": 0
      },
      "outputs": [
        {
          "data": {
            "text/plain": [
              "indexes: []\n",
              "features: [('x', float64)]\n",
              "events:\n",
              "     (7 events):\n",
              "        timestamps: [ 0.  9. 10. 11. 19. 20. 21.]\n",
              "        'x': [nan nan  1.  1.  1.  2.  2.]\n",
              "memory usage: 0.6 kB"
            ]
          },
          "execution_count": 40,
          "metadata": {},
          "output_type": "execute_result"
        }
      ],
      "source": [
        "evset = tp.event_set(\n",
        "    timestamps=[10, 20, 30],\n",
        "    features={\n",
        "        \"x\": [1.0, 2.0, 3.0],\n",
        "    },\n",
        ")\n",
        "node = evset.node()\n",
        "sampling_evset = tp.event_set(\n",
        "    timestamps=[0, 9, 10, 11, 19, 20, 21],\n",
        ")\n",
        "sampling_node = sampling_evset.node()\n",
        "resampled = tp.resample(input=node, sampling=sampling_node)\n",
        "resampled.run({node: evset, sampling_node: sampling_evset})"
      ]
    },
    {
      "attachments": {},
      "cell_type": "markdown",
      "id": "11496f59",
      "metadata": {
        "cell_marker": "\"\"\"",
        "lines_to_next_cell": 0
      },
      "source": [
        "\n",
        "The following would be the matching between the timestamps of `sampling` and `input`:\n",
        "\n",
        "| `sampling` timestamp         | 0   | 9   | 10  | 11  | 19  | 20  | 21  |\n",
        "| ---------------------------- | --- | --- | --- | --- | --- | --- | --- |\n",
        "| matching `input` timestamp   | -   | -   | 10  | 10  | 10  | 20  | 20  |\n",
        "| matching `\"x\"` feature value | NaN | NaN | 1   | 1   | 1   | 2   | 2   |\n",
        "\n",
        "If `sampling` contains a timestamp anterior to any timestamp in the `input` (like 0 and 9 in the example above), the feature of the sampled event will be missing. The representation of a missing value depends on its dtype:\n",
        "\n",
        "float: `NaN`\n",
        "integer: `0`\n",
        "string: `\"\"`\n",
        "\n",
        "Back to the example of the `tp.add()` operator, `a` and `b` with different sampling can be added as follows:"
      ]
    },
    {
      "cell_type": "code",
      "execution_count": 41,
      "id": "df3bbc7d",
      "metadata": {
        "execution": {
          "iopub.execute_input": "2023-07-12T19:18:48.185880Z",
          "iopub.status.busy": "2023-07-12T19:18:48.185684Z",
          "iopub.status.idle": "2023-07-12T19:18:48.192155Z",
          "shell.execute_reply": "2023-07-12T19:18:48.191382Z"
        },
        "lines_to_next_cell": 0
      },
      "outputs": [
        {
          "data": {
            "text/plain": [
              "indexes: []\n",
              "features: [('add_f1_f1', int64)]\n",
              "events:\n",
              "     (3 events):\n",
              "        timestamps: [0. 1. 2.]\n",
              "        'add_f1_f1': [10 25 34]\n",
              "memory usage: 0.6 kB"
            ]
          },
          "execution_count": 41,
          "metadata": {},
          "output_type": "execute_result"
        }
      ],
      "source": [
        "sampling_a = tp.event_set(\n",
        "    timestamps=[0, 1, 2],\n",
        "    features={\"f1\": [10, 20, 30]},\n",
        ")\n",
        "sampling_b = tp.event_set(\n",
        "    timestamps=[1, 2, 3],\n",
        "    features={\"f1\": [5, 4, 3]},\n",
        ")\n",
        "a = sampling_a.node()\n",
        "b = sampling_b.node()\n",
        "result = a + tp.resample(b, a)\n",
        "result.run({a: sampling_a, b: sampling_b})"
      ]
    },
    {
      "attachments": {},
      "cell_type": "markdown",
      "id": "56313ff2",
      "metadata": {
        "cell_marker": "\"\"\"",
        "lines_to_next_cell": 0
      },
      "source": [
        "\n",
        "`tp.resample()` is critical to combine events from different, non-synchronized sources. For example, consider a system with two sensors, a thermometer for temperature and a manometer for pressure. The temperature sensor produces measurements every 1 to 10 minutes, while the pressure sensor returns measurements every second. Additionally assume that both sensors are not synchronized. Finally, assume that you need to combine the temperature and pressure measurements with the equation `temperature / pressure`.\n",
        "\n",
        "<!-- TODO: image -->\n",
        "\n",
        "Since the temperature and pressure `EventSets` have different sampling, you will need to resample one of them. The pressure sensor has higher resolution. Therefore, resampling the temperature to the pressure yields higher resolution than resampling the pressure to the temperature.\n",
        "\n",
        "```python\n",
        "r = tp.resample(termometer[\"temperature\"], manometer) / manometer[\"pressure\"]\n",
        "```"
      ]
    },
    {
      "attachments": {},
      "cell_type": "markdown",
      "id": "ae131e37",
      "metadata": {
        "cell_marker": "\"\"\"",
        "lines_to_next_cell": 0
      },
      "source": [
        "\n",
        "When handling non-uniform timestamps it is also common to have a common resampling source.\n",
        "\n",
        "```python\n",
        "sampling_source = # Uniform timestamps every 10 seconds.\n",
        "r = tp.resample(termometer[\"temperature\"], sampling_source) / tp.resample(manometer[\"pressure\"], sampling_source)\n",
        "```\n",
        "\n",
        "Moving window operators, such as the `tp.simple_moving_average()` or `tp.moving_count()` operators, have an optional `sampling` argument. For example, the signature of the simple moving average operator is `tp.simple_moving_average()(][temporian.simple_moving_average]input: EventSetNode, window_length: Duration, sampling: Optional[EventSetNode] = None)`. If `sampling`is not set, the result will maintain the sampling of the`input`argument. If`sampling`is set, the moving window will be sampled at each timestamp of`sampling` instead, and the result will have those new ones.\n",
        "\n",
        "```python\n",
        "b = tp.simple_moving_average(input=a, window_length=10)\n",
        "c = tp.simple_moving_average(input=a, window_length=10, sampling=d)\n",
        "```\n",
        "\n",
        "Note that if planning to resample the result of a moving window operator, passing the `sampling` argument is both more efficient and more accurate than calling `tp.resample()` on the result.\n",
        "\n",
        "## Indexes, horizontal and vertical operators\n",
        "\n",
        "All operators presented so far work on a sequence of related events. For instance, the simple moving average operator computes the average of events within a specific time window. These types of operators are called _horizontal operators_.\n",
        "\n",
        "It is sometimes desirable for events in an `EventSet` not to interact with each other. For example, assume a dataset containing the sum of daily sales of a set of products. The objective is to compute the sum of weekly sales of each product independently. In this scenario, the weekly moving sum should be applied individually to each product. If not, you would compute the weekly sales of all the products together.\n",
        "\n",
        "To compute the weekly sales of individual products, you can define the `product` feature as the _index_."
      ]
    },
    {
      "cell_type": "code",
      "execution_count": 42,
      "id": "54a71cae",
      "metadata": {
        "execution": {
          "iopub.execute_input": "2023-07-12T19:18:48.194474Z",
          "iopub.status.busy": "2023-07-12T19:18:48.194272Z",
          "iopub.status.idle": "2023-07-12T19:18:48.199461Z",
          "shell.execute_reply": "2023-07-12T19:18:48.198635Z"
        },
        "lines_to_next_cell": 0
      },
      "outputs": [
        {
          "name": "stdout",
          "output_type": "stream",
          "text": [
            "indexes: [('product', int64)]\n",
            "features: [('sale', float64)]\n",
            "events:\n",
            "    product=1 (2 events):\n",
            "        timestamps: [1.5778e+09 1.5779e+09]\n",
            "        'sale': [100.  90.]\n",
            "    product=2 (2 events):\n",
            "        timestamps: [1.5778e+09 1.5779e+09]\n",
            "        'sale': [300. 400.]\n",
            "memory usage: 0.9 kB\n",
            "\n"
          ]
        }
      ],
      "source": [
        "daily_sales = tp.event_set(\n",
        "\ttimestamps=[\"2020-01-01\", \"2020-01-01\", \"2020-01-02\", \"2020-01-02\"],\n",
        "\tfeatures={\n",
        "        \"product\": [1, 2, 1, 2],\n",
        "        \"sale\": [100.0, 300.0, 90.0, 400.0],\n",
        "    },\n",
        "    indexes=[\"product\"]\n",
        ")\n",
        "print(daily_sales)"
      ]
    },
    {
      "attachments": {},
      "cell_type": "markdown",
      "id": "40dacbb4",
      "metadata": {
        "cell_marker": "\"\"\"",
        "lines_to_next_cell": 0
      },
      "source": [
        "\n",
        "The moving sum operator will then be applied independently to the events corresponding to each product."
      ]
    },
    {
      "cell_type": "code",
      "execution_count": 43,
      "id": "2c87a680",
      "metadata": {
        "execution": {
          "iopub.execute_input": "2023-07-12T19:18:48.201683Z",
          "iopub.status.busy": "2023-07-12T19:18:48.201488Z",
          "iopub.status.idle": "2023-07-12T19:18:48.207280Z",
          "shell.execute_reply": "2023-07-12T19:18:48.206430Z"
        },
        "lines_to_next_cell": 2
      },
      "outputs": [
        {
          "data": {
            "text/plain": [
              "indexes: [('product', int64)]\n",
              "features: [('sale', float64)]\n",
              "events:\n",
              "    product=1 (2 events):\n",
              "        timestamps: [1.5778e+09 1.5779e+09]\n",
              "        'sale': [100. 190.]\n",
              "    product=2 (2 events):\n",
              "        timestamps: [1.5778e+09 1.5779e+09]\n",
              "        'sale': [300. 700.]\n",
              "memory usage: 0.9 kB"
            ]
          },
          "execution_count": 43,
          "metadata": {},
          "output_type": "execute_result"
        }
      ],
      "source": [
        "a = daily_sales.node()\n",
        "\n",
        "# Compute the moving sum of each index group (a.k.a. each product) individually.\n",
        "b = tp.moving_sum(a, window_length=tp.duration.weeks(1))\n",
        "\n",
        "b.run({a: daily_sales})"
      ]
    },
    {
      "attachments": {},
      "cell_type": "markdown",
      "id": "e096897d",
      "metadata": {
        "cell_marker": "\"\"\"",
        "lines_to_next_cell": 0
      },
      "source": [
        "\n",
        "Horizontal operators can be understood as operators that are applied independently on each index.\n",
        "\n",
        "Operators that modify an `EventSetNode`'s indexes are called _vertical operators_. The most important vertical operators are:\n",
        "\n",
        "- `tp.add_index()`: Add features to the index.\n",
        "- `tp.drop_index()`: Remove features from the index, optionally keeping them as features.\n",
        "- `tp.set_index()`: Changes the index.\n",
        "- `tp.propagate()`: Expand indexes based on another `EventSet`’s indexes.\n",
        "\n",
        "By default, `EventSets` are _flat_, which means they have no index, and therefore all events are in a single global group.\n",
        "\n",
        "Also, keep in mind that only string and integer features can be used as indexes.\n",
        "\n",
        "`EventSets` can have multiple features as index. In the next example, assume our daily sale aggregates are also annotated with `store` data."
      ]
    },
    {
      "cell_type": "code",
      "execution_count": 44,
      "id": "8badbebf",
      "metadata": {
        "execution": {
          "iopub.execute_input": "2023-07-12T19:18:48.209523Z",
          "iopub.status.busy": "2023-07-12T19:18:48.209325Z",
          "iopub.status.idle": "2023-07-12T19:18:48.213897Z",
          "shell.execute_reply": "2023-07-12T19:18:48.213288Z"
        }
      },
      "outputs": [
        {
          "name": "stdout",
          "output_type": "stream",
          "text": [
            "indexes: []\n",
            "features: [('store', int64), ('product', int64), ('sale', float64)]\n",
            "events:\n",
            "     (4 events):\n",
            "        timestamps: [1.5778e+09 1.5778e+09 1.5779e+09 1.5779e+09]\n",
            "        'store': [1 1 1 2]\n",
            "        'product': [1 2 1 2]\n",
            "        'sale': [100. 200. 110. 300.]\n",
            "memory usage: 0.9 kB\n",
            "\n"
          ]
        }
      ],
      "source": [
        "daily_sales = tp.event_set(\n",
        "\ttimestamps=[\"2020-01-01\", \"2020-01-01\", \"2020-01-02\", \"2020-01-02\"],\n",
        "\tfeatures={\n",
        "        \"store\": [1, 1, 1, 2],\n",
        "        \"product\": [1, 2, 1, 2],\n",
        "        \"sale\": [100.0, 200.0, 110.0, 300.0],\n",
        "    },\n",
        ")\n",
        "print(daily_sales)"
      ]
    },
    {
      "attachments": {},
      "cell_type": "markdown",
      "id": "69b3c03c",
      "metadata": {
        "cell_marker": "\"\"\"",
        "lines_to_next_cell": 0
      },
      "source": [
        "\n",
        "Since we haven't defined the `indexes` yet, `store` and `product` are just regular features above.\n",
        "Let's add the `(product, store)` pair as the index."
      ]
    },
    {
      "cell_type": "code",
      "execution_count": 45,
      "id": "479096c3",
      "metadata": {
        "execution": {
          "iopub.execute_input": "2023-07-12T19:18:48.216113Z",
          "iopub.status.busy": "2023-07-12T19:18:48.215923Z",
          "iopub.status.idle": "2023-07-12T19:18:48.221603Z",
          "shell.execute_reply": "2023-07-12T19:18:48.220925Z"
        },
        "lines_to_next_cell": 2
      },
      "outputs": [
        {
          "data": {
            "text/plain": [
              "indexes: [('product', int64), ('store', int64)]\n",
              "features: [('sale', float64)]\n",
              "events:\n",
              "    product=1 store=1 (2 events):\n",
              "        timestamps: [1.5778e+09 1.5779e+09]\n",
              "        'sale': [100. 110.]\n",
              "    product=2 store=1 (1 events):\n",
              "        timestamps: [1.5778e+09]\n",
              "        'sale': [200.]\n",
              "    product=2 store=2 (1 events):\n",
              "        timestamps: [1.5779e+09]\n",
              "        'sale': [300.]\n",
              "memory usage: 1.2 kB"
            ]
          },
          "execution_count": 45,
          "metadata": {},
          "output_type": "execute_result"
        }
      ],
      "source": [
        "a = daily_sales.node()\n",
        "b = tp.add_index(a, [\"product\", \"store\"])\n",
        "b.run({a: daily_sales})"
      ]
    },
    {
      "attachments": {},
      "cell_type": "markdown",
      "id": "c2dc98f6",
      "metadata": {
        "cell_marker": "\"\"\"",
        "lines_to_next_cell": 0
      },
      "source": [
        "\n",
        "The `moving_sum` operator can be used to calculate the weekly sum of sales\n",
        "for each `(product, store)` pair."
      ]
    },
    {
      "cell_type": "code",
      "execution_count": 46,
      "id": "4df0d8cf",
      "metadata": {
        "execution": {
          "iopub.execute_input": "2023-07-12T19:18:48.224209Z",
          "iopub.status.busy": "2023-07-12T19:18:48.223842Z",
          "iopub.status.idle": "2023-07-12T19:18:48.230033Z",
          "shell.execute_reply": "2023-07-12T19:18:48.229051Z"
        },
        "lines_to_next_cell": 0
      },
      "outputs": [
        {
          "data": {
            "text/plain": [
              "indexes: [('product', int64), ('store', int64)]\n",
              "features: [('sale', float64)]\n",
              "events:\n",
              "    product=1 store=1 (2 events):\n",
              "        timestamps: [1.5778e+09 1.5779e+09]\n",
              "        'sale': [100. 210.]\n",
              "    product=2 store=1 (1 events):\n",
              "        timestamps: [1.5778e+09]\n",
              "        'sale': [200.]\n",
              "    product=2 store=2 (1 events):\n",
              "        timestamps: [1.5779e+09]\n",
              "        'sale': [300.]\n",
              "memory usage: 1.2 kB"
            ]
          },
          "execution_count": 46,
          "metadata": {},
          "output_type": "execute_result"
        }
      ],
      "source": [
        "# Weekly sales by product and store\n",
        "c = tp.moving_sum(b[\"sale\"], window_length=tp.duration.weeks(1))\n",
        "c.run({a: daily_sales})"
      ]
    },
    {
      "attachments": {},
      "cell_type": "markdown",
      "id": "2295d4ee",
      "metadata": {
        "cell_marker": "\"\"\"",
        "lines_to_next_cell": 0
      },
      "source": [
        "\n",
        "If we want the weekly sum of sales per `store`, we can just drop the `product` index."
      ]
    },
    {
      "cell_type": "code",
      "execution_count": 47,
      "id": "8d9448a2",
      "metadata": {
        "execution": {
          "iopub.execute_input": "2023-07-12T19:18:48.232589Z",
          "iopub.status.busy": "2023-07-12T19:18:48.232376Z",
          "iopub.status.idle": "2023-07-12T19:18:48.239076Z",
          "shell.execute_reply": "2023-07-12T19:18:48.238391Z"
        },
        "lines_to_next_cell": 0
      },
      "outputs": [
        {
          "data": {
            "text/plain": [
              "indexes: [('store', int64)]\n",
              "features: [('sale', float64)]\n",
              "events:\n",
              "    store=1 (3 events):\n",
              "        timestamps: [1.5778e+09 1.5778e+09 1.5779e+09]\n",
              "        'sale': [300. 300. 410.]\n",
              "    store=2 (1 events):\n",
              "        timestamps: [1.5779e+09]\n",
              "        'sale': [300.]\n",
              "memory usage: 0.9 kB"
            ]
          },
          "execution_count": 47,
          "metadata": {},
          "output_type": "execute_result"
        }
      ],
      "source": [
        "# Weekly sales by store (including all products)\n",
        "d = tp.drop_index(b, \"product\")\n",
        "e = tp.moving_sum(d[\"sale\"], window_length=tp.duration.weeks(1))\n",
        "e.run({a: daily_sales})"
      ]
    },
    {
      "attachments": {},
      "cell_type": "markdown",
      "id": "f67b3f0c",
      "metadata": {
        "cell_marker": "\"\"\"",
        "lines_to_next_cell": 0
      },
      "source": [
        "\n",
        "Finally, let's calculate the ratio of sales of each `(product, store)` pair compared to the whole `store` sales.\n",
        "\n",
        "Since `c` (weekly sales for each product and store) and `e` (weekly sales for each store) have different indexes, we cannot use `tp.divide` (or `/`) directly - we must first `propagate` `e` to the `[\"product\", \"store\"]` index."
      ]
    },
    {
      "cell_type": "code",
      "execution_count": 48,
      "id": "4e12a9e0",
      "metadata": {
        "execution": {
          "iopub.execute_input": "2023-07-12T19:18:48.241327Z",
          "iopub.status.busy": "2023-07-12T19:18:48.241136Z",
          "iopub.status.idle": "2023-07-12T19:18:48.247622Z",
          "shell.execute_reply": "2023-07-12T19:18:48.246940Z"
        },
        "lines_to_next_cell": 0
      },
      "outputs": [
        {
          "name": "stdout",
          "output_type": "stream",
          "text": [
            "indexes: [('product', int64), ('store', int64)]\n",
            "features: [('div_sale_sale', float64)]\n",
            "events:\n",
            "    product=1 store=1 (2 events):\n",
            "        timestamps: [1.5778e+09 1.5779e+09]\n",
            "        'div_sale_sale': [0.3333 0.5122]\n",
            "    product=2 store=1 (1 events):\n",
            "        timestamps: [1.5778e+09]\n",
            "        'div_sale_sale': [0.6667]\n",
            "    product=2 store=2 (1 events):\n",
            "        timestamps: [1.5779e+09]\n",
            "        'div_sale_sale': [1.]\n",
            "memory usage: 1.2 kB\n",
            "\n"
          ]
        }
      ],
      "source": [
        "# Copy the content of e (indexed by (store)) into each (store, product).\n",
        "f = c / tp.propagate(e, sampling=c, resample=True)\n",
        "\n",
        "# Equivalent.\n",
        "f = c / tp.resample(\n",
        "    tp.propagate(e, sampling=c),\n",
        "    sampling=c,\n",
        ")\n",
        "print(f.run({a: daily_sales}))"
      ]
    },
    {
      "attachments": {},
      "cell_type": "markdown",
      "id": "e73da62c",
      "metadata": {
        "cell_marker": "\"\"\"",
        "lines_to_next_cell": 0
      },
      "source": [
        "\n",
        "The `tp.propagate()` operator expands the indexes of its `input` (`e` in this case) to match the indexes of its `sampling` by copying the content of `input` into each corresponding index group of `sampling`. Note that `sampling`'s indexes must be a superset of `input`'s indexes.\n",
        "\n",
        "## Future leakage\n",
        "\n",
        "In supervised learning, [leakage](<https://en.wikipedia.org/wiki/Leakage_(machine_learning)>) is the use of data not available at serving time by a machine learning model. A common example of leakage is _label leakage_, which involves the invalid use of labels in the model input features. Leakage tends to bias model evaluation by making it appear much better than it is in reality. Unfortunately, leakage is often subtle, easy to inject, and challenging to detect.\n",
        "\n",
        "Another type of leakage is future leakage, where a model uses data before it is available. Future leakage is particularly easy to create, as all feature data is ultimately available to the model, the problem being it being accessed at the wrong time.\n",
        "\n",
        "To avoid future leakage, Temporian operators are guaranteed to not cause future leakage, except for the `tp.leak()` operator. This means that it is impossible to inadvertently add future leakage to a Temporian program.\n",
        "\n",
        "`tp.leak()` can be useful for precomputing labels or evaluating machine learning models. However, its outputs shouldn’t be used as input features."
      ]
    },
    {
      "cell_type": "code",
      "execution_count": 49,
      "id": "c07453fa",
      "metadata": {
        "execution": {
          "iopub.execute_input": "2023-07-12T19:18:48.249853Z",
          "iopub.status.busy": "2023-07-12T19:18:48.249662Z",
          "iopub.status.idle": "2023-07-12T19:18:48.254208Z",
          "shell.execute_reply": "2023-07-12T19:18:48.253485Z"
        }
      },
      "outputs": [],
      "source": [
        "a = tp.input_node(features=[(\"feature_1\", tp.float32)])\n",
        "b = tp.moving_count(a, 1)\n",
        "c = tp.moving_count(tp.leak(b, 1), 2)"
      ]
    },
    {
      "attachments": {},
      "cell_type": "markdown",
      "id": "8d973547",
      "metadata": {
        "cell_marker": "\"\"\"",
        "lines_to_next_cell": 0
      },
      "source": [
        "\n",
        "In this example, `b` does not have a future leak, but `c` does because it depends on `tp.leak()`.\n",
        "\n",
        "<!-- TODO: Not implemented yet\n",
        "\n",
        "To check programmatically if a `Node` depends on `tp.leak()`, we can use the `tp.has_leak()` function.\n",
        "\n",
        "# print(tp.has_leak(b))\n",
        "# False\n",
        "\n",
        "# print(tp.has_leak(c))\n",
        "# True\n",
        "\n",
        "\n",
        "By using `tp.has_leak()`, we can programmatically identify future leakage and modify our code accordingly.\n",
        "-->\n",
        "\n",
        "## Accessing `EventSet` data\n",
        "\n",
        "`EventSet` data can be accessed using their `data` attribute. Temporian internally relies on NumPy, which means that the data access functions always return NumPy arrays."
      ]
    },
    {
      "cell_type": "code",
      "execution_count": 50,
      "id": "7da63117",
      "metadata": {
        "execution": {
          "iopub.execute_input": "2023-07-12T19:18:48.256575Z",
          "iopub.status.busy": "2023-07-12T19:18:48.256359Z",
          "iopub.status.idle": "2023-07-12T19:18:48.261633Z",
          "shell.execute_reply": "2023-07-12T19:18:48.260922Z"
        }
      },
      "outputs": [
        {
          "data": {
            "text/plain": [
              "IndexData(features=[array([0.1, 0.2, 0.3])], timestamps=array([1., 2., 3.]))"
            ]
          },
          "execution_count": 50,
          "metadata": {},
          "output_type": "execute_result"
        }
      ],
      "source": [
        "evset = tp.event_set(\n",
        "\ttimestamps=[1, 2, 3, 5, 6],\n",
        "\tfeatures={\n",
        "        \"f1\": [0.1, 0.2, 0.3, 1.1, 1.2],\n",
        "        \"f2\": [\"red\", \"red\", \"red\", \"blue\", \"blue\"],\n",
        "\t},\n",
        "\tindexes=[\"f2\"],\n",
        ")\n",
        "\n",
        "# Access the data for the index group `f2=red`.\n",
        "evset.get_index_value((\"red\",))"
      ]
    },
    {
      "attachments": {},
      "cell_type": "markdown",
      "id": "eddfa88e",
      "metadata": {
        "cell_marker": "\"\"\"",
        "lines_to_next_cell": 0
      },
      "source": [
        "\n",
        "<!--\n",
        "`EventSet` data can be accessed using the `index()` and `feature()` functions. Temporian internally relies on NumPy, which means that the data access functions always return NumPy arrays.\n",
        "\n",
        "evset = tp.event_set(\n",
        "\ttimestamps=[1, 2, 3, 5, 6],\n",
        "\tfeatures={\n",
        "        \"f1\": [0.1, 0.2, 0.3, 1.1, 1.2],\n",
        "        \"f2\": [\"red\", \"red\", \"red\", \"blue\", \"blue\"],\n",
        "\t},\n",
        "\tindexes=[\"f2\"],\n",
        ")\n",
        "\n",
        "# Access the data for the index group `f2=red`.\n",
        "evset.index(\"red\")\n",
        "\n",
        "\n",
        "# Equivalent.\n",
        "evset.index((\"red\", ))\n",
        "\n",
        "\n",
        "# Access the data for the index group `f2=red` and feature `f1`.\n",
        "evset.index(\"red\").feature(\"f1\")\n",
        "\n",
        "\n",
        "If an `EventSet` does not have an index, `feature` can be called directly:\n",
        "\n",
        "evset = tp.event_set(\n",
        "\ttimestamps=[1, 2, 3, 5, 6],\n",
        "\tfeatures={\n",
        "        \"f1\": [0.1, 0.2, 0.3, 1.1, 1.2],\n",
        "        \"f2\": [\"red\", \"red\", \"red\", \"blue\", \"blue\"],\n",
        "\t},\n",
        ")\n",
        "evset.feature(\"f1\")\n",
        "-->\n",
        "\n",
        "## Import and export data\n",
        "\n",
        "`EventSets` can be read from and saved to csv files via the `tp.from_csv()` and `tp.to_csv()` functions.\n",
        "\n",
        "# Read EventSet from a .csv file.\n",
        "\n",
        "```python\n",
        "evset = tp.from_csv(\n",
        "    path=\"path/to/file.csv\",\n",
        "    timestamps=\"timestamp\",\n",
        "    indexes=[\"product_id\"],\n",
        ")\n",
        "\n",
        "# Save EventSet to a .csv file.\n",
        "tp.to_csv(evset, path=\"path/to/file.csv\")\n",
        "```\n",
        "\n",
        "Converting `EventSet` data to and from pandas DataFrames is also easily done via `tp.to_pandas()` and `tp.from_pandas()`."
      ]
    },
    {
      "cell_type": "code",
      "execution_count": 51,
      "id": "da239494",
      "metadata": {
        "execution": {
          "iopub.execute_input": "2023-07-12T19:18:48.264020Z",
          "iopub.status.busy": "2023-07-12T19:18:48.263823Z",
          "iopub.status.idle": "2023-07-12T19:18:48.286963Z",
          "shell.execute_reply": "2023-07-12T19:18:48.286251Z"
        }
      },
      "outputs": [
        {
          "name": "stderr",
          "output_type": "stream",
          "text": [
            "WARNING:root:Feature \"f2\" is an array of numpy.object_ and was casted to numpy.string_ (Note: numpy.string_ is equivalent to numpy.bytes_).\n"
          ]
        }
      ],
      "source": [
        "df = pd.DataFrame({\n",
        "    \"timestamp\": [1, 2, 3, 5, 6],\n",
        "    \"f1\": [0.1, 0.2, 0.3, 1.1, 1.2],\n",
        "    \"f2\": [\"red\", \"red\", \"red\", \"blue\", \"blue\"],\n",
        "})\n",
        "\n",
        "# Create EventSet from DataFrame.\n",
        "evset = tp.from_pandas(df)\n",
        "\n",
        "# Convert EventSet to DataFrame.\n",
        "df = tp.to_pandas(evset)"
      ]
    },
    {
      "attachments": {},
      "cell_type": "markdown",
      "id": "a96084af",
      "metadata": {
        "cell_marker": "\"\"\"",
        "lines_to_next_cell": 0
      },
      "source": [
        "\n",
        "## Serialization and deserialization of a graph\n",
        "\n",
        "Temporian graphs can be exported and imported to a safe-to-share file with `tp.save_graph()` and `tp.load_graph()`. In both functions input and output `EventSetNodes` need to be named, or be assigned a name by passing them as a dictionary.\n",
        "\n",
        "```python\n",
        "# Define a graph.\n",
        "evset = tp.event_set(\n",
        "\ttimestamps=[1, 2, 3],\n",
        "\tfeatures={\"f1\": [0.1, 0.2, 0.3]},\n",
        ")\n",
        "a = evset.node()\n",
        "b = tp.moving_count(a, 1)\n",
        "\n",
        "# Save the graph.\n",
        "tp.save_graph(inputs={\"input_a\": a}, outputs={\"output_b\": b}, path=\"/tmp/my_graph.tem\")\n",
        "\n",
        "# Equivalent.\n",
        "a.name = \"input_a\"\n",
        "b.name = \"output_b\"\n",
        "tp.save_graph(inputs=a, outputs=[b], path=\"/tmp/my_graph.tem\")\n",
        "\n",
        "# Load the graph.\n",
        "loaded_inputs, loaded_outputs = tp.load_graph(path=\"/tmp/my_graph.tem\")\n",
        "\n",
        "# Run data on the restored graph.\n",
        "tp.run(loaded_outputs[\"output_b\"], {loaded_inputs[\"input_a\"]: evset})\n",
        "```"
      ]
    },
    {
      "cell_type": "code",
      "execution_count": null,
      "id": "56a28657",
      "metadata": {},
      "outputs": [],
      "source": []
    }
  ],
  "metadata": {
    "jupytext": {
      "cell_metadata_filter": "-all",
      "main_language": "python",
      "notebook_metadata_filter": "-all"
    },
    "kernelspec": {
      "display_name": "Python 3 (ipykernel)",
      "language": "python",
      "name": "python3"
    },
    "language_info": {
      "codemirror_mode": {
        "name": "ipython",
        "version": 3
      },
      "file_extension": ".py",
      "mimetype": "text/x-python",
      "name": "python",
      "nbconvert_exporter": "python",
      "pygments_lexer": "ipython3",
      "version": "3.10.6"
    }
  },
  "nbformat": 4,
  "nbformat_minor": 5
}
