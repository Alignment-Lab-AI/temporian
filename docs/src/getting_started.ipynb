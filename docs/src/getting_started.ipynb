{
 "cells": [
  {
   "attachments": {},
   "cell_type": "markdown",
   "id": "b8dd3ccc",
   "metadata": {},
   "source": [
    "# Getting Started with Temporian\n",
    "\n",
    "[![Open in Colab](https://colab.research.google.com/assets/colab-badge.svg)](https://colab.research.google.com/github/google/temporian/blob/last-release/docs/src/tutorials/getting_started.ipynb)\n",
    "\n",
    "This guide will introduce you to the basics of Temporian, including:\n",
    "- What is an **EventSet** and how to create one from scratch.\n",
    "- Visualizing input/output data using **EventSet.plot()** and interactive plots.\n",
    "- Converting back and forth between EventSets and pandas **DataFrames**.\n",
    "- Transforming the EventSets by using **operators**.\n",
    "- How operators work when using **indexes**.\n",
    "- Commonly used operations like **glue**, **resample**, **lag**, moving windows and arithmetics.\n",
    "\n",
    "If you're interested in a topic that is not included here, we provide links to other parts of the documentation on the final section, to continue learning."
   ]
  },
  {
   "attachments": {},
   "cell_type": "markdown",
   "id": "e649b5f1",
   "metadata": {},
   "source": [
    "## Setup"
   ]
  },
  {
   "cell_type": "code",
   "execution_count": null,
   "id": "3aebee14",
   "metadata": {
    "execution": {
     "iopub.execute_input": "2023-07-24T16:46:40.286416Z",
     "iopub.status.busy": "2023-07-24T16:46:40.285954Z",
     "iopub.status.idle": "2023-07-24T16:46:41.980090Z",
     "shell.execute_reply": "2023-07-24T16:46:41.979153Z"
    }
   },
   "outputs": [],
   "source": [
    "# Skip this cell if you are running the notebook locally and have already installed temporian.\n",
    "%pip install temporian -q"
   ]
  },
  {
   "cell_type": "code",
   "execution_count": 2,
   "id": "c71dc843",
   "metadata": {},
   "outputs": [],
   "source": [
    "import temporian as tp\n",
    "\n",
    "import pandas as pd\n",
    "import numpy as np"
   ]
  },
  {
   "cell_type": "markdown",
   "id": "5e9bf8e3-07fd-4e4d-bdb8-d32a48a366c7",
   "metadata": {},
   "source": [
    "## Part 1: Events and EventSets\n",
    "\n",
    "The most basic unit of data in Temporian is an **event**. An event consists of a timestamp and a set of feature values.\n",
    "\n",
    "Events are not handled individually. Instead, events are grouped together into an **[`EventSet`][temporian.EventSet]**.\n",
    "\n",
    "[`EventSets`][temporian.EventSet] are the main data structure in Temporian, and represent **[multivariate and multi-index time sequences](../user_guide/#what-is-temporal-data)**. Let's break that down:\n",
    "\n",
    "- \"multivariate\" indicates that each event in the time sequence holds several feature values.\n",
    "- \"multi-index\" indicates that the events can represent hierarchical data, and be therefore grouped by one or more of their features' values.\n",
    "- \"sequence\" indicates that the events are not necessarily sampled at a uniform rate (in which case we would call it a time \"series\").\n",
    "\n",
    "You can create an [`EventSet`][temporian.EventSet] from a pandas DataFrame, NumPy arrays, CSV files, and more. Here is an example of an [`EventSet`][temporian.EventSet] containing four events and three features (one of which is used as an `index`):"
   ]
  },
  {
   "cell_type": "code",
   "execution_count": 3,
   "id": "46ebad7f-f4b4-4850-bc12-8552e55a3f6b",
   "metadata": {},
   "outputs": [
    {
     "data": {
      "text/html": [
       "<div>\n",
       "  <div style=\"display: table; margin-bottom:11px; padding:5px; font-size:small; line-height:120%; border:1px solid rgba(127, 127, 127, 0.2)\">\n",
       "    <div style=\"display: table\">\n",
       "      <span>\n",
       "        <span style=\"font-weight:bold\">features</span>\n",
       "        <span style=\"\"> [2]:</span>\n",
       "      </span>\n",
       "      <span style=\"color:#0077BB; font-weight:bold\">feature_1</span>\n",
       "      <span style=\"color:#009988\"> (float64)</span>\n",
       "      <span style=\"\">, </span>\n",
       "      <span style=\"color:#0077BB; font-weight:bold\">feature_3</span>\n",
       "      <span style=\"color:#009988\"> (float64)</span>\n",
       "    </div>\n",
       "    <div style=\"display: table\">\n",
       "      <span>\n",
       "        <span style=\"font-weight:bold\">indexes</span>\n",
       "        <span style=\"\"> [1]:</span>\n",
       "      </span>\n",
       "      <span style=\"color:#EE7733; font-weight:bold\">feature_2</span>\n",
       "      <span style=\"color:#009988\"> (str_)</span>\n",
       "    </div>\n",
       "    <div style=\"display: table\">\n",
       "      <span style=\"font-weight:bold\">events: </span>\n",
       "      <span style=\"\">4</span>\n",
       "    </div>\n",
       "    <div style=\"display: table\">\n",
       "      <span style=\"font-weight:bold\">index values: </span>\n",
       "      <span style=\"\">2</span>\n",
       "    </div>\n",
       "    <div style=\"display: table\">\n",
       "      <span style=\"font-weight:bold\">memory usage: </span>\n",
       "      <span style=\"\">1.1 kB</span>\n",
       "    </div>\n",
       "  </div>\n",
       "  <div style=\"display: table\">\n",
       "    <span style=\"font-weight:bold\">index</span>\n",
       "    <span style=\"\"> (</span>\n",
       "    <span style=\"color:#EE7733; font-weight:bold\">feature_2: </span>\n",
       "    <span style=\"color:#EE3377\">blue</span>\n",
       "    <span style=\"\">) with 2 events</span>\n",
       "  </div>\n",
       "  <table style=\"margin-left:20px; border:1px solid rgba(127, 127, 127, 0.2)\">\n",
       "    <tr>\n",
       "      <th>\n",
       "        <b>\n",
       "          <span style=\"\">timestamp</span>\n",
       "        </b>\n",
       "      </th>\n",
       "      <th>\n",
       "        <b>\n",
       "          <span style=\"color:#0077BB; font-weight:bold; \">feature_1</span>\n",
       "        </b>\n",
       "      </th>\n",
       "      <th>\n",
       "        <b>\n",
       "          <span style=\"color:#0077BB; font-weight:bold; \">feature_3</span>\n",
       "        </b>\n",
       "      </th>\n",
       "    </tr>\n",
       "    <tr>\n",
       "      <td>\n",
       "        <span style=\"\">2023-02-06 00:00:00+00:00</span>\n",
       "      </td>\n",
       "      <td>\n",
       "        <span style=\"\">0.6</span>\n",
       "      </td>\n",
       "      <td>\n",
       "        <span style=\"\">-1</span>\n",
       "      </td>\n",
       "    </tr>\n",
       "    <tr>\n",
       "      <td>\n",
       "        <span style=\"\">2023-02-07 00:00:00+00:00</span>\n",
       "      </td>\n",
       "      <td>\n",
       "        <span style=\"\">0.9</span>\n",
       "      </td>\n",
       "      <td>\n",
       "        <span style=\"\">5</span>\n",
       "      </td>\n",
       "    </tr>\n",
       "  </table>\n",
       "  <div style=\"display: table\">\n",
       "    <span style=\"font-weight:bold\">index</span>\n",
       "    <span style=\"\"> (</span>\n",
       "    <span style=\"color:#EE7733; font-weight:bold\">feature_2: </span>\n",
       "    <span style=\"color:#EE3377\">red</span>\n",
       "    <span style=\"\">) with 2 events</span>\n",
       "  </div>\n",
       "  <table style=\"margin-left:20px; border:1px solid rgba(127, 127, 127, 0.2)\">\n",
       "    <tr>\n",
       "      <th>\n",
       "        <b>\n",
       "          <span style=\"\">timestamp</span>\n",
       "        </b>\n",
       "      </th>\n",
       "      <th>\n",
       "        <b>\n",
       "          <span style=\"color:#0077BB; font-weight:bold; \">feature_1</span>\n",
       "        </b>\n",
       "      </th>\n",
       "      <th>\n",
       "        <b>\n",
       "          <span style=\"color:#0077BB; font-weight:bold; \">feature_3</span>\n",
       "        </b>\n",
       "      </th>\n",
       "    </tr>\n",
       "    <tr>\n",
       "      <td>\n",
       "        <span style=\"\">2023-02-04 00:00:00+00:00</span>\n",
       "      </td>\n",
       "      <td>\n",
       "        <span style=\"\">0.5</span>\n",
       "      </td>\n",
       "      <td>\n",
       "        <span style=\"\">10</span>\n",
       "      </td>\n",
       "    </tr>\n",
       "    <tr>\n",
       "      <td>\n",
       "        <span style=\"\">2023-02-07 00:00:00+00:00</span>\n",
       "      </td>\n",
       "      <td>\n",
       "        <span style=\"\">nan</span>\n",
       "      </td>\n",
       "      <td>\n",
       "        <span style=\"\">5</span>\n",
       "      </td>\n",
       "    </tr>\n",
       "  </table>\n",
       "</div>\n"
      ],
      "text/plain": [
       "indexes: [('feature_2', str_)]\n",
       "features: [('feature_1', float64), ('feature_3', float64)]\n",
       "events:\n",
       "    feature_2=b'blue' (2 events):\n",
       "        timestamps: ['2023-02-06T00:00:00' '2023-02-07T00:00:00']\n",
       "        'feature_1': [0.6 0.9]\n",
       "        'feature_3': [-1.  5.]\n",
       "    feature_2=b'red' (2 events):\n",
       "        timestamps: ['2023-02-04T00:00:00' '2023-02-07T00:00:00']\n",
       "        'feature_1': [0.5 nan]\n",
       "        'feature_3': [10.  5.]\n",
       "memory usage: 1.1 kB"
      ]
     },
     "execution_count": 3,
     "metadata": {},
     "output_type": "execute_result"
    }
   ],
   "source": [
    "evset = tp.event_set(\n",
    "    timestamps=[\"2023-02-04\", \"2023-02-06\", \"2023-02-07\", \"2023-02-07\"],\n",
    "    features={\n",
    "        \"feature_1\": [0.5, 0.6, np.nan, 0.9],\n",
    "        \"feature_2\": [\"red\", \"blue\", \"red\", \"blue\"],\n",
    "        \"feature_3\":  [10.0, -1.0, 5.0, 5.0],\n",
    "    },\n",
    "    indexes=[\"feature_2\"],\n",
    ")\n",
    "evset"
   ]
  },
  {
   "cell_type": "markdown",
   "id": "effc4483-9a1a-4e21-b376-3ed188ced821",
   "metadata": {},
   "source": [
    "An [`EventSet`][temporian.EventSet] can hold one or several time sequences, depending on what its **[index](../user_guide/#index-horizontal-and-vertical-operators)** is.\n",
    "\n",
    "If the [`EventSet`][temporian.EventSet] has no index, it will hold a single multivariate time sequence, which means that all events will be considered part of the same group and will interact with each other when operators are applied to the [`EventSet`][temporian.EventSet].\n",
    "\n",
    "If the [`EventSet`][temporian.EventSet] has one (or many) indexes, its events will be grouped by their indexes' values, so it will hold one multivariate time sequence for each unique value (or unique combination of values) of its indexes, and most operators applied to the [`EventSet`][temporian.EventSet] will be applied to each time sequence independently.\n",
    "\n",
    "See the last part of this tutorial to see some examples using `indexes` and operators."
   ]
  },
  {
   "attachments": {},
   "cell_type": "markdown",
   "id": "18cc96f7",
   "metadata": {},
   "source": [
    "### Example Data\n",
    "\n",
    "This minimal data consists of just one `signal` with a `timestamp` for each sample.\n",
    "\n",
    "The signal is a periodic sinusoidal `season` with a slight positive slope in the long run, which we call `trend`. Plus the ubiquitous `noise`."
   ]
  },
  {
   "cell_type": "code",
   "execution_count": null,
   "id": "bb47d14c",
   "metadata": {},
   "outputs": [],
   "source": [
    "# Generate a synthetic dataset\n",
    "timestamps = np.arange(0, 100, 0.1)\n",
    "n = len(timestamps)\n",
    "noise = 0.1 * np.random.randn(n)\n",
    "trend = 0.01 * timestamps\n",
    "season = 0.4 * np.sin(timestamps)\n",
    "\n",
    "# Convention: 'df_' for DataFrame\n",
    "df_signals = pd.DataFrame(\n",
    "    {\n",
    "        \"timestamp\": timestamps,\n",
    "        \"noise\": noise,\n",
    "        \"trend\": trend,\n",
    "        \"season\": season,\n",
    "        \"signal\": noise + trend + season,\n",
    "    }\n",
    ")\n",
    "\n",
    "df_signals"
   ]
  },
  {
   "attachments": {},
   "cell_type": "markdown",
   "id": "3f156949",
   "metadata": {},
   "source": [
    "### Creating an EventSet from a DataFrame\n",
    "\n",
    "As mentioned in the previous section, any kind of signal is represented in Temporian as a **collection of events**, using the `EventSet` object.\n",
    "\n",
    "In this case there's no `indexes` because we only have one sequence. In the third part we'll learn how to use them and why they can be useful."
   ]
  },
  {
   "cell_type": "code",
   "execution_count": null,
   "id": "b4a2782d",
   "metadata": {},
   "outputs": [],
   "source": [
    "# Convert the DataFrame into a Temporian EventSet\n",
    "evset_signals = tp.from_pandas(df_signals)\n",
    "\n",
    "evset_signals"
   ]
  },
  {
   "cell_type": "code",
   "execution_count": null,
   "id": "e0494b95",
   "metadata": {},
   "outputs": [],
   "source": [
    "# Plot the dataset\n",
    "_ = evset_signals.plot()"
   ]
  },
  {
   "attachments": {},
   "cell_type": "markdown",
   "id": "c0907814",
   "metadata": {},
   "source": [
    "**Note:** If you're wondering why the plot has an empty `()` in the title, it's because we have no `indexes`, as mentioned above."
   ]
  },
  {
   "attachments": {},
   "cell_type": "markdown",
   "id": "16d03112",
   "metadata": {},
   "source": [
    "## Part 2: Using Operators\n",
    "\n",
    "Now, let's actually transform our data with a couple operations.\n",
    "\n",
    "To extract only the long-term trend, the sine and noise signals are first removed using a moving average over a large moving window (they have zero mean)."
   ]
  },
  {
   "cell_type": "code",
   "execution_count": null,
   "id": "34498512",
   "metadata": {},
   "outputs": [],
   "source": [
    "# Pick only one feature\n",
    "signal = evset_signals[\"signal\"]\n",
    "\n",
    "# Moving avg\n",
    "trend = signal.simple_moving_average(tp.duration.seconds(30))\n",
    "trend.plot()"
   ]
  },
  {
   "cell_type": "markdown",
   "id": "107c2de8-c248-4fc5-9ebe-21d0824f446f",
   "metadata": {},
   "source": [
    "Notice that the feature is still named `signal`?\n",
    "\n",
    "Let's give it a new name to avoid confusions."
   ]
  },
  {
   "cell_type": "code",
   "execution_count": null,
   "id": "2da4b521-e496-45d6-8df3-bf272135d33b",
   "metadata": {},
   "outputs": [],
   "source": [
    "# Let's rename the feature by adding a prefix\n",
    "trend = trend.prefix(\"trend_\")\n",
    "trend.plot()"
   ]
  },
  {
   "cell_type": "markdown",
   "id": "eefbbda4-11ee-4b3e-a9de-3f48e10eb12c",
   "metadata": {},
   "source": [
    "Now we've the long-term trend, we can subtract it from the original signal to get only the `season` component."
   ]
  },
  {
   "cell_type": "code",
   "execution_count": null,
   "id": "8b16c4e8-d4c6-4e4b-897e-f43468c530e7",
   "metadata": {},
   "outputs": [],
   "source": [
    "# Remove the slow 'trend' to get 'season'\n",
    "detrend = signal - trend\n",
    "\n",
    "# Rename resulting feature\n",
    "detrend = detrend.rename(\"detrend\")\n",
    "\n",
    "detrend.plot()"
   ]
  },
  {
   "cell_type": "markdown",
   "id": "61a0068b-26b7-44f1-aec6-d6510616c72a",
   "metadata": {},
   "source": [
    "Using a shorter moving average, we can filter out the noise."
   ]
  },
  {
   "cell_type": "code",
   "execution_count": null,
   "id": "c40db1a0-7d38-42ae-a5be-8137c5496888",
   "metadata": {},
   "outputs": [],
   "source": [
    "denoise = detrend.simple_moving_average(tp.duration.seconds(1.5)).rename(\"denoise\")\n",
    "denoise.plot()"
   ]
  },
  {
   "attachments": {},
   "cell_type": "markdown",
   "id": "ebc84239-7d71-4ef2-ae8b-490e0c85b564",
   "metadata": {},
   "source": [
    "### Selecting and combining features\n",
    "\n",
    "Features can be selected and combined to create new `EventSets` using two operations:\n",
    "1. **Select:** using `evset[\"feature_1\"]` or `evset[[\"feature_1\", \"feature_2\"]]` will return a new `EventSet` object with only one or two features respectively.\n",
    "1. **Glue:** using `tp.glue(evset_1, evset_2)` will return a new `EventSet` combining all features from both inputs. But the feature names cannot be repeated, so you may need to use `prefix()` or `rename()` before combining.\n",
    "\n",
    "Let's add some operations and then plot together everything:\n",
    "- The `slope` of one of the signals is calculated, by subtracting a delayed version of itself. Note that the time axis for this plot is shifted."
   ]
  },
  {
   "cell_type": "code",
   "execution_count": null,
   "id": "d257c190-244c-49e1-927c-54c9b7ca3d50",
   "metadata": {},
   "outputs": [],
   "source": [
    "# Pack results to show all plots together\n",
    "evset_result = tp.glue(\n",
    "    signal,\n",
    "    trend,\n",
    "    detrend,\n",
    "    denoise\n",
    ")\n",
    "\n",
    "evset_result.plot()"
   ]
  },
  {
   "cell_type": "markdown",
   "id": "362b9ebb-1b6d-43bd-ac49-0097eb191308",
   "metadata": {},
   "source": [
    "### Lag and resample\n",
    "\n",
    "Just as another example, let's also calculate the derivative of the denoised signal, numerically."
   ]
  },
  {
   "cell_type": "code",
   "execution_count": null,
   "id": "9d72379e-3e4d-461f-887e-be9e3c6a2edb",
   "metadata": {},
   "outputs": [],
   "source": [
    "# Estimate numeric derivative\n",
    "\n",
    "# Time step\n",
    "delta_t = 1\n",
    "\n",
    "# Increment in y axis\n",
    "y = denoise\n",
    "y_lag = y.lag(delta_t)\n",
    "delta_y = y - y_lag.resample(y)\n",
    "\n",
    "# Remember the formula? :)\n",
    "derivative = delta_y / delta_t\n",
    "\n",
    "# Also, let's use an interactive plot just for fun.\n",
    "derivative.plot(interactive=True, width_px=600)"
   ]
  },
  {
   "cell_type": "markdown",
   "id": "d1aaecee-87c2-4e75-89ac-35daa3c6610d",
   "metadata": {},
   "source": [
    "Pretty accurate! We had a `0.4` amplitude sine wave with unit frequency, so the derivative should be a `0.4` amplitude cosine.\n",
    "\n",
    "\n",
    "Now, taking a look at the operators, the `lag()` call is pretty self-descriptive. But you might be wondering, why is the `resample()` operator needed?\n",
    "\n",
    "That's because the `y.lag(delta_t)` just shifts the timestamps by `delta_t`, and as a result, `y` and `y_lag` are signals with **different samplings**.\n",
    "\n",
    "But, how would you subtract two signals that are defined at different timestamps? In Temporian, we don't like error-prone implicit _magic_ behavior, so you have to do it explicitly. **You can only do arithmetics between signals with the same samplings.**\n",
    "\n",
    "To create matching samplings, we explicitly use `y_lag.resample(y)`, creating a signal using the timestamps from `y`, but taking the values from `y_lag`. It's essentialy the same signal as `y_lag`, but sampled at the same timestamps as `y`."
   ]
  },
  {
   "attachments": {},
   "cell_type": "markdown",
   "id": "341071dc-ce64-4380-9559-6c4058fecf84",
   "metadata": {},
   "source": [
    "### Exporting outputs from Temporian\n",
    "You may need to use this data in different ways for downstream tasks, like training a model using whatever library you need. \n",
    "\n",
    "If you can't use the data directly from Temporian, you can always go back to a pandas DataFrame:"
   ]
  },
  {
   "cell_type": "code",
   "execution_count": null,
   "id": "1ef53eb7",
   "metadata": {},
   "outputs": [],
   "source": [
    "tp.to_pandas(evset_result)"
   ]
  },
  {
   "attachments": {},
   "cell_type": "markdown",
   "id": "de46f604-8d28-4d56-a83d-a13f1073b6b8",
   "metadata": {},
   "source": [
    "## Part 3: Using indexes\n",
    "This is the final important concept to get from this introduction.\n",
    "\n",
    "Indexes are useful to handle multiple signals in parallel (as mentioned at the top of this notebook).\n",
    "For example, working with signals from multiple sensor devices or representing sales from many stores or products. The feature names may be exactly the same for all the data, but we need to separate them by setting the correct `index` for each one.\n",
    "\n",
    "### New example data: multiple devices\n",
    "Let's create two signals with overlapping timestamps, with a different `device_id`:"
   ]
  },
  {
   "cell_type": "code",
   "execution_count": null,
   "id": "50093122-4039-452e-b92e-c0b1faaf9762",
   "metadata": {},
   "outputs": [],
   "source": [
    "\n",
    "# Two devices with overlapping timestamps\n",
    "df_device_1 = df_signals[:900].copy()\n",
    "df_device_2 = df_signals[300:].copy()\n",
    "\n",
    "# Add a column with device_id and concat\n",
    "df_device_1[\"device_id\"] = \"Device 1\"\n",
    "df_device_2[\"device_id\"] = \"Device 2\"\n",
    "df_both_devices = pd.concat([df_device_1, df_device_2])\n",
    "\n",
    "# Create evset using 'device_id' as index\n",
    "evset_devices = tp.from_pandas(df_both_devices, indexes=[\"device_id\"])\n",
    "evset_devices"
   ]
  },
  {
   "attachments": {},
   "cell_type": "markdown",
   "id": "adf60923-862c-4e37-83f4-5944be6edfff",
   "metadata": {},
   "source": [
    "As you can see above, each index has it's own timestamps and feature values. They will always have the same features though, because they're on the same `EventSet`.\n",
    "\n",
    "The plots also accomodate to show each index separately. In particular, see below how the timestamps are different and partly overlapping, and that's completely fine for separate indices. This wouldn't be possible by using different feature names for each sensor, for example."
   ]
  },
  {
   "cell_type": "code",
   "execution_count": null,
   "id": "5e3cc024-37c0-4dd4-8423-e3616b92313f",
   "metadata": {},
   "outputs": [],
   "source": [
    "evset_devices[\"signal\"].plot()"
   ]
  },
  {
   "attachments": {},
   "cell_type": "markdown",
   "id": "c0af6393-ea15-441c-a147-73e4993eca68",
   "metadata": {},
   "source": [
    "### Operations with index\n",
    "\n",
    "Any operator that we apply now, is aware of the `index` and will be performed over each one separately."
   ]
  },
  {
   "cell_type": "code",
   "execution_count": null,
   "id": "0ec8af3b-e0e2-4308-9300-5fbc1230508a",
   "metadata": {},
   "outputs": [],
   "source": [
    "# Apply some operations\n",
    "trend_i = evset_devices[\"signal\"].simple_moving_average(tp.duration.seconds(30))\n",
    "detrend_i = evset_devices[\"signal\"] - trend_i\n",
    "denoise_i = detrend_i.simple_moving_average(tp.duration.seconds(1.5))\n",
    "\n",
    "# Plot for each index\n",
    "tp.glue(evset_devices[\"signal\"],\n",
    "        detrend_i.rename(\"detrend\"),\n",
    "        denoise_i.rename(\"denoise\")\n",
    "       ).plot()"
   ]
  },
  {
   "attachments": {},
   "cell_type": "markdown",
   "id": "25dd9bf9-60d2-4702-9018-0f1b1f821f00",
   "metadata": {},
   "source": [
    "### Multi-indexes\n",
    "\n",
    "Finally, let's point out that multiple columns of the input data may be set as indexes.\n",
    "\n",
    "For example, in the case of sales in a store, we could use both the store and product columns to group the sequences. In this case, each group would contain the sales for a single product in a single store.\n",
    "\n",
    "This is easy to do since the `indexes` argument is actually a list of columns, and each group represented in Temporian by using a tuple `(store, product)` as the index key."
   ]
  },
  {
   "attachments": {},
   "cell_type": "markdown",
   "id": "f80c654a-06b6-4e69-a800-9663c41d7b79",
   "metadata": {},
   "source": [
    "## Summary\n",
    "\n",
    "Congratulations! You now have the basic concepts needed to create a data preprocessing pipeline with Temporian:\n",
    "- Defining an **EventSet** and using **operators** on it.\n",
    "- Combine **features** using **select** and **glue**.\n",
    "- Coverting data back and forth between Temporian's **EventSet** and pandas **DataFrames**.\n",
    "- Visualizing input/output data using **EventSet.plot()**.\n",
    "- Operating and plotting with an **index**.\n",
    "\n",
    "### Other important details\n",
    "\n",
    "To keep it short and concise, there are interesting concepts that were not mentioned above:\n",
    "\n",
    "- Check the [**Time Units** section of the User Guide](https://temporian.readthedocs.io/en/latest/user_guide/#time-units). There are many [**calendar operators**](https://temporian.readthedocs.io/en/stable/reference/temporian/operators/calendar/calendar_day_of_month/) available when working with datetimes.\n",
    "- To combine or operate with events from different sampling sources (potentially non-uniform samplings) check the [**sampling** section of the User Guide](https://temporian.readthedocs.io/en/stable/user_guide/#sampling).\n",
    "- Temporian is **strict on the feature data types** when applying operations, to avoid potentially silent errors or memory issues. Check the [User Guide's **casting** section](https://temporian.readthedocs.io/en/latest/user_guide/#casting) section to learn how to tackle those cases.\n",
    "\n",
    "### Next Steps\n",
    "- The [**Recipes**](https://temporian.readthedocs.io/en/stable/recipes/) are short and self-contained examples showing how to use Temporian in typical use cases.\n",
    "- Try the more advanced [**tutorials**](https://temporian.readthedocs.io/en/stable/tutorials/) to continue learning by example about all these topics and more!\n",
    "- Learn how Temporian is **ready for production**, using [**graph mode**](https://temporian.readthedocs.io/en/stable/user_guide/#eager-mode-vs-graph-mode) or [Apache Beam](https://temporian.readthedocs.io/en/stable/tutorials/temporian_with_beam/).\n",
    "\n",
    "- We could only cover a small fraction of **[all available operators](https://temporian.readthedocs.io/en/stable/reference/temporian/operators/add_index/)**.\n",
    "- We put a lot of ❤️ in the **[User Guide](https://temporian.readthedocs.io/en/stable/user_guide/)**, so make sure to check it out 🙂."
   ]
  }
 ],
 "metadata": {
  "kernelspec": {
   "display_name": "Python 3 (ipykernel)",
   "language": "python",
   "name": "python3"
  },
  "language_info": {
   "codemirror_mode": {
    "name": "ipython",
    "version": 3
   },
   "file_extension": ".py",
   "mimetype": "text/x-python",
   "name": "python",
   "nbconvert_exporter": "python",
   "pygments_lexer": "ipython3",
   "version": "3.10.13"
  }
 },
 "nbformat": 4,
 "nbformat_minor": 5
}
