{
 "cells": [
  {
   "cell_type": "code",
   "execution_count": null,
   "id": "c71dc843",
   "metadata": {},
   "outputs": [],
   "source": [
    "import temporian as tp\n",
    "\n",
    "import pandas as pd\n",
    "import numpy as np"
   ]
  },
  {
   "cell_type": "code",
   "execution_count": null,
   "id": "bb47d14c",
   "metadata": {},
   "outputs": [],
   "source": [
    "# Generate a synthetic dataset\n",
    "timestamps = np.arange(0, 100, 0.1)\n",
    "n = len(timestamps)\n",
    "noise = 0.1 * np.random.randn(n)\n",
    "trend = 0.01 * timestamps\n",
    "season = 0.4 * np.sin(0.5 * timestamps)\n",
    "\n",
    "raw_data = pd.DataFrame(\n",
    "    {\n",
    "        \"timestamp\": timestamps,\n",
    "        # \"noise\": noise,\n",
    "        # \"trend\": trend,\n",
    "        # \"seasoon\": season,\n",
    "        \"signal\": noise + trend + season,\n",
    "    }\n",
    ")\n",
    "\n",
    "raw_data"
   ]
  },
  {
   "cell_type": "code",
   "execution_count": null,
   "id": "b4a2782d",
   "metadata": {},
   "outputs": [],
   "source": [
    "# Convert the dataset into a Temporian dataset\n",
    "\n",
    "source_data = tp.EventSet.from_dataframe(raw_data)\n",
    "\n",
    "source_data"
   ]
  },
  {
   "cell_type": "code",
   "execution_count": null,
   "id": "e0494b95",
   "metadata": {
    "scrolled": true
   },
   "outputs": [],
   "source": [
    "# Plot the dataset\n",
    "_ = source_data.plot()"
   ]
  },
  {
   "cell_type": "code",
   "execution_count": null,
   "id": "34498512",
   "metadata": {},
   "outputs": [],
   "source": [
    "# Compute some signals\n",
    "source = source_data.node()\n",
    "\n",
    "signal = source[\"signal\"]\n",
    "trend = tp.simple_moving_average(signal, 50)\n",
    "detrend = signal - trend\n",
    "trend2 = tp.simple_moving_average(detrend, 10)\n",
    "detrend2 = detrend - trend2\n",
    "slope = trend2 - tp.sample(tp.lag(trend2, 5), trend2)\n",
    "\n",
    "# TODO: Clean feature names with rename.\n",
    "result = tp.glue(\n",
    "    signal,\n",
    "    tp.prefix(\"trend.\", trend),\n",
    "    tp.prefix(\"detrend.\", detrend),\n",
    "    tp.prefix(\"trend2.\", trend2),\n",
    "    tp.prefix(\"detrend2.\", detrend2),\n",
    "    tp.prefix(\"slope.\", slope),\n",
    ")\n",
    "\n",
    "result_data = tp.evaluate(result, {source: source_data})\n",
    "\n",
    "result_data"
   ]
  },
  {
   "cell_type": "code",
   "execution_count": null,
   "id": "2a0454e0",
   "metadata": {
    "tags": []
   },
   "outputs": [],
   "source": [
    "# Plot the results\n",
    "_ = result_data.plot()"
   ]
  }
 ],
 "metadata": {
  "kernelspec": {
   "display_name": "Python 3 (ipykernel)",
   "language": "python",
   "name": "python3"
  },
  "language_info": {
   "codemirror_mode": {
    "name": "ipython",
    "version": 3
   },
   "file_extension": ".py",
   "mimetype": "text/x-python",
   "name": "python",
   "nbconvert_exporter": "python",
   "pygments_lexer": "ipython3",
   "version": "3.10.6"
  }
 },
 "nbformat": 4,
 "nbformat_minor": 5
}
