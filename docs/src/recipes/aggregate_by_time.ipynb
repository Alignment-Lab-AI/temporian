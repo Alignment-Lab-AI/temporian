{
 "cells": [
  {
   "cell_type": "markdown",
   "id": "c74f7111-1b6c-4454-9770-3f67eeadaca6",
   "metadata": {},
   "source": [
    "# Recipe: time-based aggregation\n",
    "\n",
    "The following use cases are covered here:\n",
    " - Use case 1: Sum daily sales, from individual item transactions.\n",
    " - Use case 2: Sum daily sales by store, from store/product sales.\n",
    " - Use case 3: Unify sensor measurements with the same timestamp.\n"
   ]
  },
  {
   "cell_type": "markdown",
   "id": "de274e0e-ab5a-46a0-b4b9-f1026b43076c",
   "metadata": {},
   "source": [
    "## Use case 1: Daily sales\n",
    "\n",
    "Assume we have the sales log from a store, where each event represents one single item sale, with its corresponding timestamp, the price at which the product was sold, and the unit cost of the product."
   ]
  },
  {
   "cell_type": "code",
   "execution_count": null,
   "id": "10a56d43-d011-4e72-aed4-8d460d58c337",
   "metadata": {},
   "outputs": [],
   "source": [
    "import pandas as pd\n",
    "import temporian as tp\n",
    "\n",
    "sales_data = pd.DataFrame(\n",
    "    data=[\n",
    "        [\"2020-01-02 13:04\", 3.0,  1.0],\n",
    "        [\"2020-01-02 13:04\", 5.0,  2.0],  # duplicated timestamp\n",
    "        [\"2020-01-02 15:24\", 7.0,  3.0],\n",
    "        [\"2020-01-03 13:45\", 3.0,  1.0],\n",
    "        [\"2020-01-03 16:10\", 7.0,  3.0],\n",
    "        [\"2020-01-03 17:30\", 10.0, 5.0],\n",
    "    ],\n",
    "    columns=[\n",
    "        \"timestamp\",\n",
    "        \"unit_price\",\n",
    "        \"unit_cost\",\n",
    "    ],\n",
    ")\n",
    "\n",
    "sales_evset = tp.from_pandas(sales_data)\n",
    "sales_evset"
   ]
  },
  {
   "cell_type": "code",
   "execution_count": null,
   "id": "9e930b36-10f6-487f-8466-278a1a08956b",
   "metadata": {},
   "outputs": [],
   "source": [
    "time_span = tp.event_set(timestamps=[\"2020-01-01 00:00\", \"2020-01-07 00:00\"])\n",
    "\n",
    "one_day = tp.duration.days(1)\n",
    "daily_ticks = time_span.tick(one_day)\n",
    "\n",
    "daily_ticks"
   ]
  },
  {
   "cell_type": "code",
   "execution_count": null,
   "id": "7d92dff9-b4b6-42d1-8848-b37ff768ef7e",
   "metadata": {},
   "outputs": [],
   "source": [
    "moving_sum = sales_evset.moving_sum(window_length=one_day, sampling=daily_ticks)\n",
    "\n",
    "moving_sum"
   ]
  },
  {
   "cell_type": "code",
   "execution_count": null,
   "id": "664550bb-12ac-43c2-8216-4308843178b5",
   "metadata": {},
   "outputs": [],
   "source": [
    "daily_sales = moving_sum.rename({\"unit_price\": \"daily_revenue\", \"unit_cost\": \"daily_cost\"})\n",
    "\n",
    "daily_profit = (daily_sales[\"daily_revenue\"] - daily_sales[\"daily_cost\"]).rename(\"daily_profit\")\n",
    "\n",
    "daily_sales = tp.glue(daily_sales, daily_profit)\n",
    "\n",
    "daily_sales\n"
   ]
  },
  {
   "cell_type": "markdown",
   "id": "369d0511-8898-4135-b2bc-69f0ad5a2bd9",
   "metadata": {},
   "source": [
    "## Use case 2: Sales by store\n",
    "\n",
    "In this case, let's assume that we've multiple stores with multiple products being sold.\n",
    "\n",
    "To simplify the data, let's use daily sales indexed by store and product.\n",
    "\n",
    "We want to accumulate all daily sales for each store, adding up all products."
   ]
  },
  {
   "cell_type": "code",
   "execution_count": null,
   "id": "07b25e47-8b27-4dab-baa3-c9b75745372f",
   "metadata": {},
   "outputs": [],
   "source": [
    "import pandas as pd\n",
    "import temporian as tp\n",
    "\n",
    "\n",
    "sales_data = pd.DataFrame(\n",
    "    data=[\n",
    "        # store 1\n",
    "        [\"2020-01-01\", \"store_1\", \"product_1\", 300.0],\n",
    "        [\"2020-01-02\", \"store_1\", \"product_1\", 450.0],\n",
    "        [\"2020-01-03\", \"store_1\", \"product_1\", 600.0],\n",
    "        [\"2020-01-01\", \"store_1\", \"product_2\", 100.0],\n",
    "        [\"2020-01-02\", \"store_1\", \"product_2\", 250.0],\n",
    "        [\"2020-01-03\", \"store_1\", \"product_2\", 100.0],\n",
    "        # store 2\n",
    "        [\"2020-01-01\", \"store_2\", \"product_1\", 900.0],\n",
    "        [\"2020-01-02\", \"store_2\", \"product_1\", 750.0],\n",
    "        [\"2020-01-03\", \"store_2\", \"product_1\", 750.0],\n",
    "        [\"2020-01-01\", \"store_2\", \"product_3\", 20.0],\n",
    "        [\"2020-01-02\", \"store_2\", \"product_3\", 40.0],\n",
    "        [\"2020-01-03\", \"store_2\", \"product_3\", 30.0],\n",
    "    ],\n",
    "    columns=[\n",
    "        \"timestamp\",\n",
    "        \"store_id\",\n",
    "        \"product_id\",\n",
    "        \"sales_usd\",\n",
    "    ],\n",
    ")\n",
    "\n",
    "# Load data indexed by store/product\n",
    "sales_evset = tp.from_pandas(sales_data, indexes=[\"store_id\", \"product_id\"])\n",
    "sales_evset"
   ]
  },
  {
   "cell_type": "markdown",
   "id": "278d15bf-a58e-4ad0-a44c-272ff449150c",
   "metadata": {},
   "source": [
    "Note that for each store/product we've the same 3 days of sales.\n",
    "\n",
    "Now we want to calculate sales for each store, regardless of the `product_id`.\n",
    "\n",
    "So, the first step is to remove that index."
   ]
  },
  {
   "cell_type": "code",
   "execution_count": null,
   "id": "0b54eb39-7e38-479b-b926-40b12dd48a92",
   "metadata": {},
   "outputs": [],
   "source": [
    "store_sales = sales_evset.drop_index(\"product_id\")\n",
    "\n",
    "store_sales"
   ]
  },
  {
   "cell_type": "markdown",
   "id": "d810d461-631d-4453-9ae1-0352024427a7",
   "metadata": {},
   "source": [
    "As you can see, now we've each timestamp duplicated, one for each product.\n",
    "\n",
    "We want to discard the `product_id` in formation, and unify the timestamps adding up the sales."
   ]
  },
  {
   "cell_type": "code",
   "execution_count": null,
   "id": "5f28343c-d3f1-48df-8f1e-0fd4ee58505e",
   "metadata": {},
   "outputs": [],
   "source": [
    "unique_days = store_sales.unique_timestamps()\n",
    "\n",
    "store_daily_sales = store_sales[\"sales_usd\"].moving_sum(window_length=tp.duration.days(1), sampling=unique_days)\n",
    "\n",
    "store_daily_sales"
   ]
  },
  {
   "cell_type": "code",
   "execution_count": null,
   "id": "a5e57e74-ca80-4292-834a-e7cfd9185b2f",
   "metadata": {},
   "outputs": [],
   "source": []
  }
 ],
 "metadata": {
  "kernelspec": {
   "display_name": "Python 3 (ipykernel)",
   "language": "python",
   "name": "python3"
  },
  "language_info": {
   "codemirror_mode": {
    "name": "ipython",
    "version": 3
   },
   "file_extension": ".py",
   "mimetype": "text/x-python",
   "name": "python",
   "nbconvert_exporter": "python",
   "pygments_lexer": "ipython3",
   "version": "3.10.4"
  }
 },
 "nbformat": 4,
 "nbformat_minor": 5
}
