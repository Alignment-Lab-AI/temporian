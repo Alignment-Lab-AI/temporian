{
 "cells": [
  {
   "cell_type": "code",
   "execution_count": 1,
   "metadata": {
    "execution": {
     "iopub.execute_input": "2023-07-27T16:13:12.150434Z",
     "iopub.status.busy": "2023-07-27T16:13:12.149916Z",
     "iopub.status.idle": "2023-07-27T16:13:12.596657Z",
     "shell.execute_reply": "2023-07-27T16:13:12.596211Z"
    }
   },
   "outputs": [],
   "source": [
    "import temporian as tp"
   ]
  },
  {
   "cell_type": "code",
   "execution_count": 2,
   "metadata": {
    "execution": {
     "iopub.execute_input": "2023-07-27T16:13:12.599329Z",
     "iopub.status.busy": "2023-07-27T16:13:12.599133Z",
     "iopub.status.idle": "2023-07-27T16:13:12.606555Z",
     "shell.execute_reply": "2023-07-27T16:13:12.606223Z"
    }
   },
   "outputs": [
    {
     "data": {
      "text/html": [
       "<h3>(a=1, b=hello)</h3><table><tr><th><b>Timestamp</b></th><th>0.1</th><th>0.2</th><th>0.3</th></tr><tr><td><b>a</b></td><td>1.0</td><td>2.0</td><td>3.0</td></tr><tr><td><b>b</b></td><td>4.0</td><td>5.0</td><td>6.0</td></tr><tr><td><b>c</b></td><td>a</td><td>b</td><td>c</td></tr></table><h3>(a=2, b=world)</h3><table><tr><th><b>Timestamp</b></th><th>0.4</th><th>0.5</th></tr><tr><td><b>a</b></td><td>7.0</td><td>8.0</td></tr><tr><td><b>b</b></td><td>9.0</td><td>10.0</td></tr><tr><td><b>c</b></td><td>d</td><td>e</td></tr></table>"
      ],
      "text/plain": [
       "indexes: [('x', int64), ('y', str_)]\n",
       "features: [('a', float64), ('b', float64), ('c', str_)]\n",
       "events:\n",
       "    x=1 y=b'hello' (3 events):\n",
       "        timestamps: [0.1 0.2 0.3]\n",
       "        'a': [1. 2. 3.]\n",
       "        'b': [4. 5. 6.]\n",
       "        'c': [b'a' b'b' b'c']\n",
       "    x=2 y=b'world' (2 events):\n",
       "        timestamps: [0.4 0.5]\n",
       "        'a': [7. 8.]\n",
       "        'b': [ 9. 10.]\n",
       "        'c': [b'd' b'e']\n",
       "memory usage: 1.4 kB"
      ]
     },
     "execution_count": 2,
     "metadata": {},
     "output_type": "execute_result"
    }
   ],
   "source": [
    "evset = tp.event_set(\n",
    "            timestamps=[0.1, 0.2, 0.3, 0.4, 0.5],\n",
    "            features={\n",
    "                \"a\": [1.0, 2.0, 3.0, 7.0, 8.0],\n",
    "                \"b\": [4.0, 5.0, 6.0, 9.0, 10.0],\n",
    "                \"c\": [\"a\", \"b\", \"c\", \"d\", \"e\"],\n",
    "                \"x\": [1, 1, 1, 2, 2],\n",
    "                \"y\": [\"hello\", \"hello\", \"hello\", \"world\", \"world\"],\n",
    "            },\n",
    "            indexes=[\"x\", \"y\"],\n",
    "            is_unix_timestamp=True,\n",
    "        )\n",
    "\n",
    "evset"
   ]
  },
  {
   "cell_type": "code",
   "execution_count": null,
   "metadata": {},
   "outputs": [],
   "source": []
  }
 ],
 "metadata": {
  "kernelspec": {
   "display_name": ".venv",
   "language": "python",
   "name": "python3"
  },
  "language_info": {
   "codemirror_mode": {
    "name": "ipython",
    "version": 3
   },
   "file_extension": ".py",
   "mimetype": "text/x-python",
   "name": "python",
   "nbconvert_exporter": "python",
   "pygments_lexer": "ipython3",
   "version": "3.9.10"
  }
 },
 "nbformat": 4,
 "nbformat_minor": 2
}
