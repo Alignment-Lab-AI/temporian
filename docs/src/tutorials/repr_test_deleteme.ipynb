{
 "cells": [
  {
   "cell_type": "code",
   "execution_count": 2,
   "metadata": {
    "execution": {
     "iopub.execute_input": "2023-07-28T11:25:51.672996Z",
     "iopub.status.busy": "2023-07-28T11:25:51.672215Z",
     "iopub.status.idle": "2023-07-28T11:25:52.214635Z",
     "shell.execute_reply": "2023-07-28T11:25:52.214130Z"
    }
   },
   "outputs": [],
   "source": [
    "import temporian as tp"
   ]
  },
  {
   "cell_type": "code",
   "execution_count": 4,
   "metadata": {
    "execution": {
     "iopub.execute_input": "2023-07-28T11:25:52.217622Z",
     "iopub.status.busy": "2023-07-28T11:25:52.217400Z",
     "iopub.status.idle": "2023-07-28T11:25:52.234029Z",
     "shell.execute_reply": "2023-07-28T11:25:52.233584Z"
    }
   },
   "outputs": [
    {
     "ename": "AttributeError",
     "evalue": "While running operator Operator(key='ADD_INDEX', id=1, attributes={'indexes': ['x', 'y']}).\nEnum Type has no value defined for name 'BYTES'",
     "output_type": "error",
     "traceback": [
      "\u001b[0;31m---------------------------------------------------------------------------\u001b[0m",
      "\u001b[0;31mAttributeError\u001b[0m                            Traceback (most recent call last)",
      "Cell \u001b[0;32mIn[4], line 1\u001b[0m\n\u001b[0;32m----> 1\u001b[0m evset \u001b[39m=\u001b[39m tp\u001b[39m.\u001b[39;49mevent_set(\n\u001b[1;32m      2\u001b[0m             timestamps\u001b[39m=\u001b[39;49m[\u001b[39m0.1\u001b[39;49m, \u001b[39m0.2\u001b[39;49m, \u001b[39m0.3\u001b[39;49m, \u001b[39m0.4\u001b[39;49m, \u001b[39m0.5\u001b[39;49m] \u001b[39m*\u001b[39;49m \u001b[39m100\u001b[39;49m,\n\u001b[1;32m      3\u001b[0m             features\u001b[39m=\u001b[39;49m{\n\u001b[1;32m      4\u001b[0m                 \u001b[39m\"\u001b[39;49m\u001b[39ma\u001b[39;49m\u001b[39m\"\u001b[39;49m: [\u001b[39m1.0\u001b[39;49m, \u001b[39m2.0\u001b[39;49m, \u001b[39m3.0\u001b[39;49m, \u001b[39m7.0\u001b[39;49m, \u001b[39m8.0\u001b[39;49m] \u001b[39m*\u001b[39;49m \u001b[39m100\u001b[39;49m,\n\u001b[1;32m      5\u001b[0m                 \u001b[39m\"\u001b[39;49m\u001b[39mb\u001b[39;49m\u001b[39m\"\u001b[39;49m: [\u001b[39m4.0\u001b[39;49m, \u001b[39m5.0\u001b[39;49m, \u001b[39m6.0\u001b[39;49m, \u001b[39m9.0\u001b[39;49m, \u001b[39m100.0\u001b[39;49m] \u001b[39m*\u001b[39;49m \u001b[39m100\u001b[39;49m,\n\u001b[1;32m      6\u001b[0m                 \u001b[39m\"\u001b[39;49m\u001b[39mc\u001b[39;49m\u001b[39m\"\u001b[39;49m: [\u001b[39m\"\u001b[39;49m\u001b[39ma\u001b[39;49m\u001b[39m\"\u001b[39;49m, \u001b[39m\"\u001b[39;49m\u001b[39mb\u001b[39;49m\u001b[39m\"\u001b[39;49m, \u001b[39m\"\u001b[39;49m\u001b[39mc\u001b[39;49m\u001b[39m\"\u001b[39;49m, \u001b[39m\"\u001b[39;49m\u001b[39md\u001b[39;49m\u001b[39m\"\u001b[39;49m, \u001b[39m\"\u001b[39;49m\u001b[39me\u001b[39;49m\u001b[39m\"\u001b[39;49m] \u001b[39m*\u001b[39;49m \u001b[39m100\u001b[39;49m,\n\u001b[1;32m      7\u001b[0m                 \u001b[39m\"\u001b[39;49m\u001b[39mx\u001b[39;49m\u001b[39m\"\u001b[39;49m: [\u001b[39m1\u001b[39;49m, \u001b[39m1\u001b[39;49m, \u001b[39m1\u001b[39;49m, \u001b[39m2\u001b[39;49m, \u001b[39m2\u001b[39;49m] \u001b[39m*\u001b[39;49m \u001b[39m100\u001b[39;49m,\n\u001b[1;32m      8\u001b[0m                 \u001b[39m\"\u001b[39;49m\u001b[39my\u001b[39;49m\u001b[39m\"\u001b[39;49m: [\u001b[39m\"\u001b[39;49m\u001b[39mhello\u001b[39;49m\u001b[39m\"\u001b[39;49m, \u001b[39m\"\u001b[39;49m\u001b[39mhello\u001b[39;49m\u001b[39m\"\u001b[39;49m, \u001b[39m\"\u001b[39;49m\u001b[39mhello\u001b[39;49m\u001b[39m\"\u001b[39;49m, \u001b[39m\"\u001b[39;49m\u001b[39mworld\u001b[39;49m\u001b[39m\"\u001b[39;49m, \u001b[39m\"\u001b[39;49m\u001b[39mworld\u001b[39;49m\u001b[39m\"\u001b[39;49m] \u001b[39m*\u001b[39;49m \u001b[39m100\u001b[39;49m,\n\u001b[1;32m      9\u001b[0m                 \u001b[39m\"\u001b[39;49m\u001b[39md\u001b[39;49m\u001b[39m\"\u001b[39;49m: [\u001b[39m\"\u001b[39;49m\u001b[39mhellohellohellohellohellohellohellohellohellohellohello\u001b[39;49m\u001b[39m\"\u001b[39;49m, \u001b[39m\"\u001b[39;49m\u001b[39mhello\u001b[39;49m\u001b[39m\"\u001b[39;49m, \u001b[39m\"\u001b[39;49m\u001b[39mhello\u001b[39;49m\u001b[39m\"\u001b[39;49m, \u001b[39m\"\u001b[39;49m\u001b[39mworld\u001b[39;49m\u001b[39m\"\u001b[39;49m, \u001b[39m\"\u001b[39;49m\u001b[39mworld\u001b[39;49m\u001b[39m\"\u001b[39;49m] \u001b[39m*\u001b[39;49m \u001b[39m100\u001b[39;49m,\n\u001b[1;32m     10\u001b[0m                 \u001b[39m\"\u001b[39;49m\u001b[39me\u001b[39;49m\u001b[39m\"\u001b[39;49m: [\u001b[39m\"\u001b[39;49m\u001b[39mhello\u001b[39;49m\u001b[39m\"\u001b[39;49m, \u001b[39m\"\u001b[39;49m\u001b[39mhello\u001b[39;49m\u001b[39m\"\u001b[39;49m, \u001b[39m\"\u001b[39;49m\u001b[39mhello\u001b[39;49m\u001b[39m\"\u001b[39;49m, \u001b[39m\"\u001b[39;49m\u001b[39mworld\u001b[39;49m\u001b[39m\"\u001b[39;49m, \u001b[39m\"\u001b[39;49m\u001b[39mworld\u001b[39;49m\u001b[39m\"\u001b[39;49m] \u001b[39m*\u001b[39;49m \u001b[39m100\u001b[39;49m,\n\u001b[1;32m     11\u001b[0m                 \u001b[39m\"\u001b[39;49m\u001b[39mf\u001b[39;49m\u001b[39m\"\u001b[39;49m: [\u001b[39m\"\u001b[39;49m\u001b[39mhello\u001b[39;49m\u001b[39m\"\u001b[39;49m, \u001b[39m\"\u001b[39;49m\u001b[39mhello\u001b[39;49m\u001b[39m\"\u001b[39;49m, \u001b[39m\"\u001b[39;49m\u001b[39mhello\u001b[39;49m\u001b[39m\"\u001b[39;49m, \u001b[39m\"\u001b[39;49m\u001b[39mworld\u001b[39;49m\u001b[39m\"\u001b[39;49m, \u001b[39m\"\u001b[39;49m\u001b[39mworld\u001b[39;49m\u001b[39m\"\u001b[39;49m] \u001b[39m*\u001b[39;49m \u001b[39m100\u001b[39;49m,\n\u001b[1;32m     12\u001b[0m                 \u001b[39m\"\u001b[39;49m\u001b[39mg\u001b[39;49m\u001b[39m\"\u001b[39;49m: [\u001b[39m\"\u001b[39;49m\u001b[39mhello\u001b[39;49m\u001b[39m\"\u001b[39;49m, \u001b[39m\"\u001b[39;49m\u001b[39mhello\u001b[39;49m\u001b[39m\"\u001b[39;49m, \u001b[39m\"\u001b[39;49m\u001b[39mhello\u001b[39;49m\u001b[39m\"\u001b[39;49m, \u001b[39m\"\u001b[39;49m\u001b[39mworld\u001b[39;49m\u001b[39m\"\u001b[39;49m, \u001b[39m\"\u001b[39;49m\u001b[39mworld\u001b[39;49m\u001b[39m\"\u001b[39;49m] \u001b[39m*\u001b[39;49m \u001b[39m100\u001b[39;49m,\n\u001b[1;32m     13\u001b[0m                 \u001b[39m\"\u001b[39;49m\u001b[39mh\u001b[39;49m\u001b[39m\"\u001b[39;49m: [\u001b[39m\"\u001b[39;49m\u001b[39mhello\u001b[39;49m\u001b[39m\"\u001b[39;49m, \u001b[39m\"\u001b[39;49m\u001b[39mhello\u001b[39;49m\u001b[39m\"\u001b[39;49m, \u001b[39m\"\u001b[39;49m\u001b[39mhello\u001b[39;49m\u001b[39m\"\u001b[39;49m, \u001b[39m\"\u001b[39;49m\u001b[39mworld\u001b[39;49m\u001b[39m\"\u001b[39;49m, \u001b[39m\"\u001b[39;49m\u001b[39mworld\u001b[39;49m\u001b[39m\"\u001b[39;49m] \u001b[39m*\u001b[39;49m \u001b[39m100\u001b[39;49m,\n\u001b[1;32m     14\u001b[0m                 \u001b[39m\"\u001b[39;49m\u001b[39mi\u001b[39;49m\u001b[39m\"\u001b[39;49m: [\u001b[39m\"\u001b[39;49m\u001b[39mhello\u001b[39;49m\u001b[39m\"\u001b[39;49m, \u001b[39m\"\u001b[39;49m\u001b[39mhello\u001b[39;49m\u001b[39m\"\u001b[39;49m, \u001b[39m\"\u001b[39;49m\u001b[39mhello\u001b[39;49m\u001b[39m\"\u001b[39;49m, \u001b[39m\"\u001b[39;49m\u001b[39mworld\u001b[39;49m\u001b[39m\"\u001b[39;49m, \u001b[39m\"\u001b[39;49m\u001b[39mworld\u001b[39;49m\u001b[39m\"\u001b[39;49m] \u001b[39m*\u001b[39;49m \u001b[39m100\u001b[39;49m,\n\u001b[1;32m     15\u001b[0m                 \u001b[39m\"\u001b[39;49m\u001b[39mj\u001b[39;49m\u001b[39m\"\u001b[39;49m: [\u001b[39m\"\u001b[39;49m\u001b[39mhello\u001b[39;49m\u001b[39m\"\u001b[39;49m, \u001b[39m\"\u001b[39;49m\u001b[39mhello\u001b[39;49m\u001b[39m\"\u001b[39;49m, \u001b[39m\"\u001b[39;49m\u001b[39mhello\u001b[39;49m\u001b[39m\"\u001b[39;49m, \u001b[39m\"\u001b[39;49m\u001b[39mworld\u001b[39;49m\u001b[39m\"\u001b[39;49m, \u001b[39m\"\u001b[39;49m\u001b[39mworld\u001b[39;49m\u001b[39m\"\u001b[39;49m] \u001b[39m*\u001b[39;49m \u001b[39m100\u001b[39;49m,\n\u001b[1;32m     16\u001b[0m                 \u001b[39m\"\u001b[39;49m\u001b[39mk\u001b[39;49m\u001b[39m\"\u001b[39;49m: [\u001b[39m\"\u001b[39;49m\u001b[39mhello\u001b[39;49m\u001b[39m\"\u001b[39;49m, \u001b[39m\"\u001b[39;49m\u001b[39mhello\u001b[39;49m\u001b[39m\"\u001b[39;49m, \u001b[39m\"\u001b[39;49m\u001b[39mhello\u001b[39;49m\u001b[39m\"\u001b[39;49m, \u001b[39m\"\u001b[39;49m\u001b[39mworld\u001b[39;49m\u001b[39m\"\u001b[39;49m, \u001b[39m\"\u001b[39;49m\u001b[39mworld\u001b[39;49m\u001b[39m\"\u001b[39;49m] \u001b[39m*\u001b[39;49m \u001b[39m100\u001b[39;49m,\n\u001b[1;32m     17\u001b[0m                 \u001b[39m\"\u001b[39;49m\u001b[39ml\u001b[39;49m\u001b[39m\"\u001b[39;49m: [\u001b[39m\"\u001b[39;49m\u001b[39mhello\u001b[39;49m\u001b[39m\"\u001b[39;49m, \u001b[39m\"\u001b[39;49m\u001b[39mhello\u001b[39;49m\u001b[39m\"\u001b[39;49m, \u001b[39m\"\u001b[39;49m\u001b[39mhello\u001b[39;49m\u001b[39m\"\u001b[39;49m, \u001b[39m\"\u001b[39;49m\u001b[39mworld\u001b[39;49m\u001b[39m\"\u001b[39;49m, \u001b[39m\"\u001b[39;49m\u001b[39mworld\u001b[39;49m\u001b[39m\"\u001b[39;49m] \u001b[39m*\u001b[39;49m \u001b[39m100\u001b[39;49m,\n\u001b[1;32m     18\u001b[0m                 \u001b[39m\"\u001b[39;49m\u001b[39mm\u001b[39;49m\u001b[39m\"\u001b[39;49m: [\u001b[39m\"\u001b[39;49m\u001b[39mhello\u001b[39;49m\u001b[39m\"\u001b[39;49m, \u001b[39m\"\u001b[39;49m\u001b[39mhello\u001b[39;49m\u001b[39m\"\u001b[39;49m, \u001b[39m\"\u001b[39;49m\u001b[39mhello\u001b[39;49m\u001b[39m\"\u001b[39;49m, \u001b[39m\"\u001b[39;49m\u001b[39mworld\u001b[39;49m\u001b[39m\"\u001b[39;49m, \u001b[39m\"\u001b[39;49m\u001b[39mworld\u001b[39;49m\u001b[39m\"\u001b[39;49m] \u001b[39m*\u001b[39;49m \u001b[39m100\u001b[39;49m,\n\u001b[1;32m     19\u001b[0m                 \u001b[39m\"\u001b[39;49m\u001b[39mn\u001b[39;49m\u001b[39m\"\u001b[39;49m: [\u001b[39m\"\u001b[39;49m\u001b[39mhello\u001b[39;49m\u001b[39m\"\u001b[39;49m, \u001b[39m\"\u001b[39;49m\u001b[39mhello\u001b[39;49m\u001b[39m\"\u001b[39;49m, \u001b[39m\"\u001b[39;49m\u001b[39mhello\u001b[39;49m\u001b[39m\"\u001b[39;49m, \u001b[39m\"\u001b[39;49m\u001b[39mworld\u001b[39;49m\u001b[39m\"\u001b[39;49m, \u001b[39m\"\u001b[39;49m\u001b[39mworld\u001b[39;49m\u001b[39m\"\u001b[39;49m] \u001b[39m*\u001b[39;49m \u001b[39m100\u001b[39;49m,\n\u001b[1;32m     20\u001b[0m             },\n\u001b[1;32m     21\u001b[0m             indexes\u001b[39m=\u001b[39;49m[\u001b[39m\"\u001b[39;49m\u001b[39mx\u001b[39;49m\u001b[39m\"\u001b[39;49m, \u001b[39m\"\u001b[39;49m\u001b[39my\u001b[39;49m\u001b[39m\"\u001b[39;49m],\n\u001b[1;32m     22\u001b[0m             is_unix_timestamp\u001b[39m=\u001b[39;49m\u001b[39mTrue\u001b[39;49;00m,\n\u001b[1;32m     23\u001b[0m         )\n\u001b[1;32m     25\u001b[0m evset\n",
      "File \u001b[0;32m~/temporian/temporian/implementation/numpy/data/io.py:162\u001b[0m, in \u001b[0;36mevent_set\u001b[0;34m(timestamps, features, indexes, name, is_unix_timestamp, same_sampling_as)\u001b[0m\n\u001b[1;32m    159\u001b[0m \u001b[39mif\u001b[39;00m indexes:\n\u001b[1;32m    160\u001b[0m     \u001b[39m# Index the data\u001b[39;00m\n\u001b[1;32m    161\u001b[0m     input_node \u001b[39m=\u001b[39m evset\u001b[39m.\u001b[39mnode()\n\u001b[0;32m--> 162\u001b[0m     output_node \u001b[39m=\u001b[39m add_index(input_node, indexes\u001b[39m=\u001b[39;49mindexes)\n\u001b[1;32m    163\u001b[0m     evset \u001b[39m=\u001b[39m run(output_node, {input_node: evset})\n\u001b[1;32m    164\u001b[0m     \u001b[39massert\u001b[39;00m \u001b[39misinstance\u001b[39m(evset, EventSet)\n",
      "File \u001b[0;32m~/temporian/temporian/core/compilation.py:106\u001b[0m, in \u001b[0;36mcompile.<locals>._compile.<locals>.wrapper\u001b[0;34m(*args, **kwargs)\u001b[0m\n\u001b[1;32m    101\u001b[0m \u001b[39mfor\u001b[39;00m k, arg \u001b[39min\u001b[39;00m kwargs\u001b[39m.\u001b[39mitems():\n\u001b[1;32m    102\u001b[0m     kwargs[k], is_eager \u001b[39m=\u001b[39m _process_argument(\n\u001b[1;32m    103\u001b[0m         arg, is_eager\u001b[39m=\u001b[39mis_eager, inputs_map\u001b[39m=\u001b[39minputs_map\n\u001b[1;32m    104\u001b[0m     )\n\u001b[0;32m--> 106\u001b[0m outputs \u001b[39m=\u001b[39m fn(\u001b[39m*\u001b[39;49margs, \u001b[39m*\u001b[39;49m\u001b[39m*\u001b[39;49mkwargs)\n\u001b[1;32m    108\u001b[0m \u001b[39mif\u001b[39;00m is_eager \u001b[39mis\u001b[39;00m \u001b[39mNone\u001b[39;00m:\n\u001b[1;32m    109\u001b[0m     \u001b[39mraise\u001b[39;00m \u001b[39mValueError\u001b[39;00m(\n\u001b[1;32m    110\u001b[0m         \u001b[39m\"\u001b[39m\u001b[39mCannot compile a function without EventSet or EventSetNode\u001b[39m\u001b[39m\"\u001b[39m\n\u001b[1;32m    111\u001b[0m         \u001b[39m\"\u001b[39m\u001b[39m argument.\u001b[39m\u001b[39m\"\u001b[39m\n\u001b[1;32m    112\u001b[0m     )\n",
      "File \u001b[0;32m~/temporian/temporian/core/operators/add_index.py:151\u001b[0m, in \u001b[0;36madd_index\u001b[0;34m(input, indexes)\u001b[0m\n\u001b[1;32m    148\u001b[0m \u001b[39massert\u001b[39;00m \u001b[39misinstance\u001b[39m(\u001b[39minput\u001b[39m, EventSetNode)\n\u001b[1;32m    150\u001b[0m indexes \u001b[39m=\u001b[39m _normalize_indexes(indexes)\n\u001b[0;32m--> 151\u001b[0m \u001b[39mreturn\u001b[39;00m AddIndexOperator(\u001b[39minput\u001b[39;49m, indexes)\u001b[39m.\u001b[39moutputs[\u001b[39m\"\u001b[39m\u001b[39moutput\u001b[39m\u001b[39m\"\u001b[39m]\n",
      "File \u001b[0;32m~/temporian/temporian/core/operators/add_index.py:59\u001b[0m, in \u001b[0;36mAddIndexOperator.__init__\u001b[0;34m(self, input, indexes)\u001b[0m\n\u001b[1;32m     48\u001b[0m \u001b[39mself\u001b[39m\u001b[39m.\u001b[39madd_attribute(\u001b[39m\"\u001b[39m\u001b[39mindexes\u001b[39m\u001b[39m\"\u001b[39m, indexes)\n\u001b[1;32m     50\u001b[0m \u001b[39mself\u001b[39m\u001b[39m.\u001b[39madd_output(\n\u001b[1;32m     51\u001b[0m     \u001b[39m\"\u001b[39m\u001b[39moutput\u001b[39m\u001b[39m\"\u001b[39m,\n\u001b[1;32m     52\u001b[0m     create_node_new_features_new_sampling(\n\u001b[0;32m   (...)\u001b[0m\n\u001b[1;32m     57\u001b[0m     ),\n\u001b[1;32m     58\u001b[0m )\n\u001b[0;32m---> 59\u001b[0m \u001b[39mself\u001b[39;49m\u001b[39m.\u001b[39;49mcheck()\n",
      "File \u001b[0;32m~/temporian/temporian/core/operators/base.py:186\u001b[0m, in \u001b[0;36mOperator.check\u001b[0;34m(self)\u001b[0m\n\u001b[1;32m    184\u001b[0m     \u001b[39m# Check that the value type is as defined for this attribute\u001b[39;00m\n\u001b[1;32m    185\u001b[0m     attr_value \u001b[39m=\u001b[39m \u001b[39mself\u001b[39m\u001b[39m.\u001b[39m_attributes[def_key]\n\u001b[0;32m--> 186\u001b[0m     \u001b[39mself\u001b[39;49m\u001b[39m.\u001b[39;49mcheck_attribute_type(attr_value, def_type)\n\u001b[1;32m    188\u001b[0m \u001b[39m# Check that no unexpected attributes are present\u001b[39;00m\n\u001b[1;32m    189\u001b[0m \u001b[39mfor\u001b[39;00m available_attr \u001b[39min\u001b[39;00m \u001b[39mself\u001b[39m\u001b[39m.\u001b[39m_attributes:\n",
      "File \u001b[0;32m~/temporian/temporian/core/operators/base.py:253\u001b[0m, in \u001b[0;36mOperator.check_attribute_type\u001b[0;34m(cls, value, attr_type)\u001b[0m\n\u001b[1;32m    248\u001b[0m \u001b[39mif\u001b[39;00m (\n\u001b[1;32m    249\u001b[0m     attr_type \u001b[39m==\u001b[39m pb\u001b[39m.\u001b[39mOperatorDef\u001b[39m.\u001b[39mAttribute\u001b[39m.\u001b[39mType\u001b[39m.\u001b[39mSTRING\n\u001b[1;32m    250\u001b[0m     \u001b[39mand\u001b[39;00m \u001b[39mnot\u001b[39;00m \u001b[39misinstance\u001b[39m(value, \u001b[39mstr\u001b[39m)\n\u001b[1;32m    251\u001b[0m ):\n\u001b[1;32m    252\u001b[0m     \u001b[39mraise\u001b[39;00m \u001b[39mValueError\u001b[39;00m(\u001b[39mf\u001b[39m\u001b[39m\"\u001b[39m\u001b[39mAttribute \u001b[39m\u001b[39m{\u001b[39;00mvalue\u001b[39m=}\u001b[39;00m\u001b[39m mismatch: string expected\u001b[39m\u001b[39m\"\u001b[39m)\n\u001b[0;32m--> 253\u001b[0m \u001b[39mif\u001b[39;00m attr_type \u001b[39m==\u001b[39m pb\u001b[39m.\u001b[39;49mOperatorDef\u001b[39m.\u001b[39;49mAttribute\u001b[39m.\u001b[39;49mType\u001b[39m.\u001b[39;49mBYTES \u001b[39mand\u001b[39;00m \u001b[39mnot\u001b[39;00m \u001b[39misinstance\u001b[39m(\n\u001b[1;32m    254\u001b[0m     value, \u001b[39mbytes\u001b[39m\n\u001b[1;32m    255\u001b[0m ):\n\u001b[1;32m    256\u001b[0m     \u001b[39mraise\u001b[39;00m \u001b[39mValueError\u001b[39;00m(\u001b[39mf\u001b[39m\u001b[39m\"\u001b[39m\u001b[39mAttribute \u001b[39m\u001b[39m{\u001b[39;00mvalue\u001b[39m=}\u001b[39;00m\u001b[39m mismatch: string expected\u001b[39m\u001b[39m\"\u001b[39m)\n\u001b[1;32m    257\u001b[0m \u001b[39mif\u001b[39;00m (\n\u001b[1;32m    258\u001b[0m     attr_type \u001b[39m==\u001b[39m pb\u001b[39m.\u001b[39mOperatorDef\u001b[39m.\u001b[39mAttribute\u001b[39m.\u001b[39mType\u001b[39m.\u001b[39mINTEGER_64\n\u001b[1;32m    259\u001b[0m     \u001b[39mand\u001b[39;00m \u001b[39mnot\u001b[39;00m \u001b[39misinstance\u001b[39m(value, \u001b[39mint\u001b[39m)\n\u001b[1;32m    260\u001b[0m ):\n",
      "File \u001b[0;32m~/temporian/.venv/lib/python3.9/site-packages/google/protobuf/internal/enum_type_wrapper.py:123\u001b[0m, in \u001b[0;36mEnumTypeWrapper.__getattr__\u001b[0;34m(self, name)\u001b[0m\n\u001b[1;32m    121\u001b[0m \u001b[39mexcept\u001b[39;00m \u001b[39mKeyError\u001b[39;00m:\n\u001b[1;32m    122\u001b[0m   \u001b[39mpass\u001b[39;00m  \u001b[39m# fall out to break exception chaining\u001b[39;00m\n\u001b[0;32m--> 123\u001b[0m \u001b[39mraise\u001b[39;00m \u001b[39mAttributeError\u001b[39;00m(\u001b[39m'\u001b[39m\u001b[39mEnum \u001b[39m\u001b[39m{}\u001b[39;00m\u001b[39m has no value defined for name \u001b[39m\u001b[39m{!r}\u001b[39;00m\u001b[39m'\u001b[39m\u001b[39m.\u001b[39mformat(\n\u001b[1;32m    124\u001b[0m     \u001b[39mself\u001b[39m\u001b[39m.\u001b[39m_enum_type\u001b[39m.\u001b[39mname, name))\n",
      "\u001b[0;31mAttributeError\u001b[0m: While running operator Operator(key='ADD_INDEX', id=1, attributes={'indexes': ['x', 'y']}).\nEnum Type has no value defined for name 'BYTES'"
     ]
    }
   ],
   "source": [
    "evset = tp.event_set(\n",
    "            timestamps=[0.1, 0.2, 0.3, 0.4, 0.5] * 100,\n",
    "            features={\n",
    "                \"a\": [1.0, 2.0, 3.0, 7.0, 8.0] * 100,\n",
    "                \"b\": [4.0, 5.0, 6.0, 9.0, 100.0] * 100,\n",
    "                \"c\": [\"a\", \"b\", \"c\", \"d\", \"e\"] * 100,\n",
    "                \"x\": [1, 1, 1, 2, 2] * 100,\n",
    "                \"y\": [\"hello\", \"hello\", \"hello\", \"world\", \"world\"] * 100,\n",
    "                \"d\": [\"hellohellohellohellohellohellohellohellohellohellohello\", \"hello\", \"hello\", \"world\", \"world\"] * 100,\n",
    "                \"e\": [\"hello\", \"hello\", \"hello\", \"world\", \"world\"] * 100,\n",
    "                \"f\": [\"hello\", \"hello\", \"hello\", \"world\", \"world\"] * 100,\n",
    "                \"g\": [\"hello\", \"hello\", \"hello\", \"world\", \"world\"] * 100,\n",
    "                \"h\": [\"hello\", \"hello\", \"hello\", \"world\", \"world\"] * 100,\n",
    "                \"i\": [\"hello\", \"hello\", \"hello\", \"world\", \"world\"] * 100,\n",
    "                \"j\": [\"hello\", \"hello\", \"hello\", \"world\", \"world\"] * 100,\n",
    "                \"k\": [\"hello\", \"hello\", \"hello\", \"world\", \"world\"] * 100,\n",
    "                \"l\": [\"hello\", \"hello\", \"hello\", \"world\", \"world\"] * 100,\n",
    "                \"m\": [\"hello\", \"hello\", \"hello\", \"world\", \"world\"] * 100,\n",
    "                \"n\": [\"hello\", \"hello\", \"hello\", \"world\", \"world\"] * 100,\n",
    "            },\n",
    "            indexes=[\"x\", \"y\"],\n",
    "            is_unix_timestamp=True,\n",
    "        )\n",
    "\n",
    "evset"
   ]
  },
  {
   "cell_type": "code",
   "execution_count": 8,
   "metadata": {},
   "outputs": [
    {
     "name": "stderr",
     "output_type": "stream",
     "text": [
      "WARNING:root:Feature \"Feature B\" is an array of numpy.object_ and was casted to numpy.string_ (Note: numpy.string_ is equivalent to numpy.bytes_).\n"
     ]
    },
    {
     "data": {
      "text/html": [
       "<div><h3>Index: ()</h3>5 events × 3 features<table><tr><th><b>timestamp</b></th><th><b>Feature A</b></th><th><b>Feature B</b></th><th><b>Feature C</b></th></tr><tr><td>2023-08-08 00:00:00+00:00</td><td>a</td><td>1.0</td><td>5</td></tr><tr><td>2023-08-09 00:00:00+00:00</td><td>b</td><td>None</td><td>5</td></tr><tr><td>2023-08-09 00:00:00+00:00</td><td>a</td><td>3.0</td><td>100</td></tr><tr><td>2023-08-12 00:00:00+00:00</td><td>a</td><td>7.0</td><td>6</td></tr><tr><td>2023-08-20 00:00:00+00:00</td><td>b</td><td>8.0</td><td>25</td></tr></table></div>"
      ],
      "text/plain": [
       "indexes: []\n",
       "features: [('Feature A', str_), ('Feature B', str_), ('Feature C', int64)]\n",
       "events:\n",
       "     (5 events):\n",
       "        timestamps: [1.6915e+09 1.6915e+09 1.6915e+09 1.6918e+09 1.6925e+09]\n",
       "        'Feature A': [b'a' b'b' b'a' b'a' b'b']\n",
       "        'Feature B': [b'1.0' b'None' b'3.0' b'7.0' b'8.0']\n",
       "        'Feature C': [  5   5 100   6  25]\n",
       "memory usage: 0.8 kB"
      ]
     },
     "execution_count": 8,
     "metadata": {},
     "output_type": "execute_result"
    }
   ],
   "source": [
    "import numpy as np\n",
    "evset = tp.event_set(\n",
    "            timestamps=[\"2023-08-08\", \"2023-08-09\",\"2023-08-09\",\"2023-08-12\",\"2023-08-20\"],\n",
    "            features={\n",
    "                \"Feature A\": [\"a\", \"b\", \"a\", \"a\", \"b\"],\n",
    "                \"Feature B\": [1.0, np.nan, 3.0, 7.0, 8.0],\n",
    "                \"Feature C\": [5, 5, 100, 6, 25],\n",
    "            },\n",
    "            is_unix_timestamp=True,\n",
    "        )\n",
    "\n",
    "evset"
   ]
  },
  {
   "cell_type": "code",
   "execution_count": null,
   "metadata": {},
   "outputs": [],
   "source": []
  }
 ],
 "metadata": {
  "kernelspec": {
   "display_name": ".venv",
   "language": "python",
   "name": "python3"
  },
  "language_info": {
   "codemirror_mode": {
    "name": "ipython",
    "version": 3
   },
   "file_extension": ".py",
   "mimetype": "text/x-python",
   "name": "python",
   "nbconvert_exporter": "python",
   "pygments_lexer": "ipython3",
   "version": "3.9.10"
  }
 },
 "nbformat": 4,
 "nbformat_minor": 2
}
