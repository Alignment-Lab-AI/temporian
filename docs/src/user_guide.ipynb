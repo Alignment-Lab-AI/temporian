{
 "cells": [
  {
   "attachments": {},
   "cell_type": "markdown",
   "id": "4e767688-0f90-47a7-baf0-b8042e282746",
   "metadata": {},
   "source": [
    "# User Guide\n",
    "\n",
    "This is a complete tour of Temporian's capabilities. For a quick hands-on overview, make sure to check the [Getting started guide](https://temporian.readthedocs.io/en/stable/getting_started)."
   ]
  },
  {
   "attachments": {},
   "cell_type": "markdown",
   "id": "d2b71b95-5268-46ca-98e3-83b473f9b518",
   "metadata": {},
   "source": [
    "## What is temporal data?\n",
    "\n",
    "In Temporian, there is only one type of data: **multivariate multi-index time sequences** (MMITS). MMITS extends many commonly used data formats such as time-series and transactions to allow multi-variate data, non-uniform sampling, non-aligned sampling, and hierarchically-structured data. In that, MMITSs are particularly well suited to represent classical time-series, but also transactions, logs, sparse events, asynchronous measurements, and hierarchical records.\n",
    "\n",
    "<!-- TODO: add plot -->"
   ]
  },
  {
   "attachments": {},
   "cell_type": "markdown",
   "id": "d64627bf",
   "metadata": {
    "cell_marker": "\"\"\"",
    "lines_to_next_cell": 0
   },
   "source": [
    "## Events and EventSets\n",
    "\n",
    "The unit of data in Temporian is referred to as an _event_. An event consists of a timestamp and a set of feature values.\n",
    "\n",
    "Here is an example of an event:\n",
    "\n",
    "```\n",
    "timestamp: 2023-02-05\n",
    "feature_1: 0.5\n",
    "feature_2: \"red\"\n",
    "feature_3: 10\n",
    "```\n",
    "\n",
    "Events are not handled individually. Instead, events are grouped together into `EventSets`. When creating one, it is convenient to put similar features together and to sort them according to the timestamps in increasing order.\n",
    "\n",
    "Here is an example of an `EventSet` containing four events and three features:\n",
    "\n",
    "```\n",
    "timestamp: [04-02-2023, 06-02-2023, 07-02-2023, 07-02-2023]\n",
    "feature_1: [0.5, 0.6, NaN, 0.9]\n",
    "feature_2: [\"red\", \"blue\", \"red\", \"blue\"]\n",
    "feature_3:  [10, -1, 5, 5]\n",
    "```\n",
    "\n",
    "**Remarks:**\n",
    "\n",
    "- All values for a given feature are of the same data type. For instance, `feature_1` is float64 while `feature_2` is a string.\n",
    "- Operators handle the value NaN (for _not a number_) as missing (e.g., it's ignored in moving averages).\n",
    "- Timestamps are not necessarily uniformly sampled.\n",
    "- The same timestamp can be repeated.\n",
    "- Timestamps can be floating point numbers (in seconds) that don't represent a datetime.\n",
    "\n",
    "In the next code examples, variables with names like `evset` refer to an `EventSet`.\n",
    "\n",
    "You can create an `EventSet` as follows:"
   ]
  },
  {
   "cell_type": "code",
   "execution_count": null,
   "id": "1d23b4c0",
   "metadata": {},
   "outputs": [],
   "source": [
    "import temporian as tp\n",
    "import pandas as pd\n",
    "import numpy as np\n",
    "\n",
    "evset = tp.event_set(\n",
    "\ttimestamps=[\"2023-02-04\",\"2023-02-06\",\"2023-02-07\",\"2023-02-07\"],\n",
    "\tfeatures={\n",
    "        \"feature_1\": [0.5, 0.6, np.nan, 0.9],\n",
    "        \"feature_2\": [\"red\", \"blue\", \"red\", \"blue\"],\n",
    "        \"feature_3\":  [10, -1, 5, 5],\n",
    "\t}\n",
    ")"
   ]
  },
  {
   "attachments": {},
   "cell_type": "markdown",
   "id": "3678cc72",
   "metadata": {
    "cell_marker": "\"\"\"",
    "lines_to_next_cell": 0
   },
   "source": [
    "\n",
    "`EventSets` can be printed."
   ]
  },
  {
   "cell_type": "code",
   "execution_count": null,
   "id": "17c712f6",
   "metadata": {},
   "outputs": [],
   "source": [
    "evset"
   ]
  },
  {
   "attachments": {},
   "cell_type": "markdown",
   "id": "a09dfdad",
   "metadata": {
    "cell_marker": "\"\"\"",
    "lines_to_next_cell": 0
   },
   "source": [
    "`EventSets` can be plotted."
   ]
  },
  {
   "cell_type": "code",
   "execution_count": null,
   "id": "e3f29b64",
   "metadata": {},
   "outputs": [],
   "source": [
    "evset.plot()"
   ]
  },
  {
   "attachments": {},
   "cell_type": "markdown",
   "id": "fe507137-0c0f-4533-a75d-008352a2566b",
   "metadata": {},
   "source": [
    "\n",
    "**Note:** You'll learn how to create an `EventSet` using other data sources such as pandas DataFrames later.\n",
    "\n",
    "Events can carry various meanings. For instance, events can represent **regular measurements**. Suppose an electronic thermometer that generates temperature measurements every minute. This could be an `EventSet` with one feature called `temperature`. In this scenario, the temperature can change between two measurements. However, for most practical uses, the most recent measurement will be considered the current temperature.\n",
    "\n",
    "<!-- TODO: Temperature plot -->\n",
    "\n",
    "Events can also represent the _occurrence_ of sporadic phenomena. Suppose a sales recording system that records client purchases. Each time a client makes a purchase (i.e., each transaction), a new event is created.\n",
    "\n",
    "<!-- TODO: Sales plot -->\n",
    "\n",
    "You will see that Temporian is agnostic to the semantics of events, and that often, you will mix together measurements and occurrences. For instance, given the _occurrence_ of sales from the previous example, you can compute daily sales (which is a _measurement_).\n"
   ]
  },
  {
   "attachments": {},
   "cell_type": "markdown",
   "id": "e7a88b45-bef7-46ac-88b8-f376cc14ee88",
   "metadata": {},
   "source": [
    "## Operators\n",
    "\n",
    "`EventSets` are transformed using **Operators**. For instance, the `EventSet.simple_moving_average()` operator computes the [simple moving average](https://en.wikipedia.org/wiki/Moving_average) of each feature."
   ]
  },
  {
   "cell_type": "code",
   "execution_count": null,
   "id": "f0c059c3-1412-47d5-8f21-8c034f16a551",
   "metadata": {},
   "outputs": [],
   "source": [
    "# Create an event set with a random walk\n",
    "np.random.seed(1)\n",
    "random_walk = np.cumsum(np.random.choice([-1.0, 0.0, 1.0], size=1000))\n",
    "\n",
    "evset = tp.event_set(\n",
    "\ttimestamps=np.linspace(0,10, num=1000),\n",
    "\tfeatures={\"value\": random_walk}\n",
    ")\n",
    "\n",
    "# Compute a simple moving average (1 second, equivalent to tp.duration.seconds(1))\n",
    "result = evset.simple_moving_average(window_length=1)\n",
    "\n",
    "# Plot the results\n",
    "tp.plot([evset, result])"
   ]
  },
  {
   "cell_type": "markdown",
   "id": "df79875e-7802-4316-94da-9923650c01b5",
   "metadata": {},
   "source": [
    "By default, all durations in Temporian are given in **seconds**. So, `window_length=1` means 1 second of duration.\n",
    "See the next section to see how to specify other time units.\n",
    "\n",
    "The list of all operators is available in the [API Reference](../reference/)."
   ]
  },
  {
   "attachments": {},
   "cell_type": "markdown",
   "id": "b73d3011",
   "metadata": {
    "cell_marker": "\"\"\"",
    "lines_to_next_cell": 0
   },
   "source": [
    "## Time units\n",
    "\n",
    "### Timestamps and datetimes\n",
    "In Temporian, timestamps are always represented by a `float64` value in **seconds**.\n",
    "\n",
    "When datetimes are provided as the timestamps, Temporian internally converts them to the number of seconds since January 1, 1970, at 00:00:00 UTC, also known as Unix or POSIX time. But the printing and plotting functions will still show datetimes, which are easier to interpret by humans."
   ]
  },
  {
   "cell_type": "code",
   "execution_count": null,
   "id": "92ec9711",
   "metadata": {
    "lines_to_next_cell": 0
   },
   "outputs": [],
   "source": [
    "from datetime import datetime\n",
    "\n",
    "a_evset = tp.event_set(\n",
    "    timestamps=[\n",
    "        # strings are interpreted as datetimes\n",
    "        \"2023-03-13\",\n",
    "        \"2023-03-14 13:30:05\",\n",
    "\n",
    "        # python and pandas datetimes are ok too :)\n",
    "        datetime(2023, 4, 22, 12, 00),\n",
    "        pd.to_datetime(\"Tue, Mar 14 12:00:00 2023\", utc=True),\n",
    "    ],\n",
    "    features={\n",
    "        \"feature_1\": [1, 2, 3, 4],\n",
    "        \"feature_2\": [\"a\", \"b\", \"c\", \"d\"],\n",
    "    },\n",
    ")\n",
    "a_evset"
   ]
  },
  {
   "cell_type": "markdown",
   "id": "e23789b4-3b14-47ee-ad49-3980e9d111c7",
   "metadata": {},
   "source": [
    "If you specify floating point numbers as the timestamps (which might be useful to handle signals such as ECG, audio, etc.), then the _calendar operators_ like `EventSet.calendar_hour()` or `EventSet.calendar_day_of_month()` are disabled, they will raise an error unless you indicate that these numbers represent datetimes, by setting `is_unix_timestamp=True` explicitly."
   ]
  },
  {
   "cell_type": "code",
   "execution_count": null,
   "id": "4869f529-350b-43a5-af07-fded47ccad54",
   "metadata": {},
   "outputs": [],
   "source": [
    "a_evset = tp.event_set(\n",
    "    timestamps=[0, 1, 2],\n",
    "    is_unix_timestamp=True\n",
    ")\n",
    "\n",
    "tp.glue(a_evset.calendar_year(), a_evset.calendar_hour(), a_evset.calendar_second())"
   ]
  },
  {
   "attachments": {},
   "cell_type": "markdown",
   "id": "7380c9c7",
   "metadata": {
    "cell_marker": "\"\"\"",
    "lines_to_next_cell": 0
   },
   "source": [
    "### Durations\n",
    "\n",
    "Operators can take _durations_ as input arguments, which are always in seconds, as mentioned above. This is compatible with datetime-like timestamps, as well as floating point timestamps that don't represent a datetime."
   ]
  },
  {
   "cell_type": "code",
   "execution_count": null,
   "id": "899fee67-01d0-4680-a223-7b7b144a46ca",
   "metadata": {},
   "outputs": [],
   "source": [
    "a = tp.event_set(timestamps=[\"2023-03-13\", \"2023-03-14\", \"2023-03-15\"])\n",
    "\n",
    "# Number of seconds in 2 days:\n",
    "a.moving_count(window_length=2 * 24 * 60 * 60)\n",
    "\n",
    "# Better option:\n",
    "a.moving_count(window_length=tp.duration.days(2))"
   ]
  },
  {
   "cell_type": "markdown",
   "id": "374ce207-f369-446a-9b6d-fd5d25939321",
   "metadata": {},
   "source": [
    "**Note:** all window operators work with left-open intervals, so for each `t` in the sampling, events in `(t - window_length, t]` will be considered (i.e., the exact time `t - window_length` is not included). That is why the moving window at `t=2023-03-15` doesn't include the event at `t=2023-03-13`, when using a window length of 2 days."
   ]
  },
  {
   "attachments": {},
   "cell_type": "markdown",
   "id": "6c99993c",
   "metadata": {
    "cell_marker": "\"\"\"",
    "lines_to_next_cell": 0
   },
   "source": [
    "\n",
    "## Plotting\n",
    "\n",
    "Data visualization is crucial for gaining insights into data and the system it represents. It also helps in detecting unexpected behavior and issues, making debugging and iterative development easier.\n",
    "\n",
    "Temporian provides two plotting functions for data visualization: `evset.plot()` and `tp.plot()`.\n",
    "\n",
    "The `evset.plot()` function is shorter to write and is used for displaying a single `EventSet`, while the `tp.plot()` function is used for displaying multiple `EventSets` together. This function is particularly useful when `EventSets` are indexed (see [Index, horizontal and vertical operators](#indexes-horizontal-and-vertical-operators)) or have different samplings (see [Sampling](#sampling)).\n",
    "\n",
    "Here's an example of using the `evset.plot()` function:"
   ]
  },
  {
   "cell_type": "code",
   "execution_count": null,
   "id": "cbf42f42",
   "metadata": {},
   "outputs": [],
   "source": [
    "evset = tp.event_set(\n",
    "\ttimestamps=[1, 2, 3, 4, 5],\n",
    "\tfeatures={\n",
    "        \"feature_1\": [0.5, 0.6, 0.4, 0.4, 0.9],\n",
    "        \"feature_2\": [\"red\", \"blue\", \"red\", \"blue\", \"green\"]\n",
    "    }\n",
    ")\n",
    "evset.plot()"
   ]
  },
  {
   "attachments": {},
   "cell_type": "markdown",
   "id": "39dc9a92",
   "metadata": {
    "cell_marker": "\"\"\"",
    "lines_to_next_cell": 0
   },
   "source": [
    "\n",
    "By default, the plotting style is selected automatically based on the data.\n",
    "\n",
    "For example, uniformly sampled numerical features (i.e., time series) are plotted with a continuous line, while non-uniformly sampled values are plotted with markers. Those and other behaviors can be controlled via the function's arguments.\n",
    "\n",
    "Here's an example of using the `evset.plot()` function with options:"
   ]
  },
  {
   "cell_type": "code",
   "execution_count": null,
   "id": "82552e04",
   "metadata": {},
   "outputs": [],
   "source": [
    "figure = evset.plot(\n",
    "    style=\"marker\",\n",
    "    width_px=400,\n",
    "    min_time=2,\n",
    "    max_time=10,\n",
    "    return_fig=True,\n",
    ")"
   ]
  },
  {
   "attachments": {},
   "cell_type": "markdown",
   "id": "37bd0475",
   "metadata": {
    "cell_marker": "\"\"\"",
    "lines_to_next_cell": 0
   },
   "source": [
    "\n",
    "The plots are static images by default. However, interactive plotting can be very powerful. To enable interactive plotting, use `interactive=True`. Note that interactive plotting requires the `bokeh` Python library to be installed."
   ]
  },
  {
   "cell_type": "code",
   "execution_count": null,
   "id": "37feddd0",
   "metadata": {},
   "outputs": [],
   "source": [
    "!pip install bokeh -q\n",
    "\n",
    "evset.plot(interactive=True, width_px=500)"
   ]
  },
  {
   "attachments": {},
   "cell_type": "markdown",
   "id": "cf4d0c27",
   "metadata": {
    "cell_marker": "\"\"\"",
    "lines_to_next_cell": 0
   },
   "source": [
    "\n",
    "## Feature naming\n",
    "\n",
    "Each feature is identified by a name, and the list of features is available through the `schema.feature_names()` method of an `EventSet`."
   ]
  },
  {
   "cell_type": "code",
   "execution_count": null,
   "id": "38ff0e20",
   "metadata": {},
   "outputs": [],
   "source": [
    "evset = tp.event_set(\n",
    "\ttimestamps=[0],\n",
    "\tfeatures={\n",
    "\t    \"feature_1\": [0.1],\n",
    "\t    \"feature_2\": [0.2]}\n",
    "    )\n",
    "print(evset.schema.feature_names())"
   ]
  },
  {
   "attachments": {},
   "cell_type": "markdown",
   "id": "2cd29020",
   "metadata": {
    "cell_marker": "\"\"\"",
    "lines_to_next_cell": 0
   },
   "source": [
    "\n",
    "Most operators do not change the input feature's names."
   ]
  },
  {
   "cell_type": "code",
   "execution_count": null,
   "id": "838449d4",
   "metadata": {},
   "outputs": [],
   "source": [
    "evset.moving_sum(window_length=10).schema.feature_names()"
   ]
  },
  {
   "attachments": {},
   "cell_type": "markdown",
   "id": "b70cc298",
   "metadata": {
    "cell_marker": "\"\"\"",
    "lines_to_next_cell": 0
   },
   "source": [
    "\n",
    "Some operators combine two input features with different names, in which case the output name is also combined."
   ]
  },
  {
   "cell_type": "code",
   "execution_count": null,
   "id": "b10fdec3",
   "metadata": {},
   "outputs": [],
   "source": [
    "(evset[\"feature_1\"] * evset[\"feature_2\"]).schema.feature_names()"
   ]
  },
  {
   "attachments": {},
   "cell_type": "markdown",
   "id": "87731369",
   "metadata": {
    "cell_marker": "\"\"\"",
    "lines_to_next_cell": 0
   },
   "source": [
    "\n",
    "The calendar operators don't depend on input features but only on the timestamps, so the output feature name doesn't\n",
    "relate to the input feature names."
   ]
  },
  {
   "cell_type": "code",
   "execution_count": null,
   "id": "4182d3f8",
   "metadata": {},
   "outputs": [],
   "source": [
    "date_events = tp.event_set(\n",
    "\ttimestamps=[\"2020-02-15\", \"2020-06-20\"],\n",
    "\tfeatures={\"some_feature\": [10, 20]}\n",
    "    )\n",
    "print(date_events.calendar_month().schema.feature_names())"
   ]
  },
  {
   "attachments": {},
   "cell_type": "markdown",
   "id": "61127d7f",
   "metadata": {
    "cell_marker": "\"\"\"",
    "lines_to_next_cell": 0
   },
   "source": [
    "\n",
    "You can modify feature names using the `EventSet.rename()` and `EventSet.prefix()` operators. `EventSet.rename()` changes the name of features, while `EventSet.prefix()` adds a prefix in front of existing feature names. Note that they do not modify the content of the input `EventSet`, but return a new one with the modified feature names."
   ]
  },
  {
   "cell_type": "code",
   "execution_count": null,
   "id": "bc36bc1f",
   "metadata": {},
   "outputs": [],
   "source": [
    "# Rename a single feature.\n",
    "evset[\"feature_1\"].rename(\"renamed_1\")"
   ]
  },
  {
   "cell_type": "code",
   "execution_count": null,
   "id": "a44f6e7a",
   "metadata": {},
   "outputs": [],
   "source": [
    "# Rename all features.\n",
    "evset.rename({\"feature_1\": \"renamed_1\", \"feature_2\": \"renamed_2\"})"
   ]
  },
  {
   "cell_type": "code",
   "execution_count": null,
   "id": "3126cbed",
   "metadata": {},
   "outputs": [],
   "source": [
    "# Prefix all features.\n",
    "evset.prefix(\"prefixed.\")"
   ]
  },
  {
   "attachments": {},
   "cell_type": "markdown",
   "id": "085e79c3",
   "metadata": {
    "cell_marker": "\"\"\"",
    "lines_to_next_cell": 0
   },
   "source": [
    "\n",
    "It is recommended to use `EventSet.rename()` and `EventSet.prefix()` to organize your data, and avoid duplicated feature names."
   ]
  },
  {
   "cell_type": "code",
   "execution_count": null,
   "id": "852abbdd",
   "metadata": {},
   "outputs": [],
   "source": [
    "sma_7_node = evset.simple_moving_average(tp.duration.days(7)).prefix(\"sma_7.\")\n",
    "sma_14_node = evset.simple_moving_average(tp.duration.days(14)).prefix(\"sma_14.\")"
   ]
  },
  {
   "attachments": {},
   "cell_type": "markdown",
   "id": "ac25eb4a",
   "metadata": {
    "cell_marker": "\"\"\"",
    "lines_to_next_cell": 0
   },
   "source": [
    "\n",
    "The `tp.glue()` operator can be used to concatenate different features into a single `EventSet`, but it will fail if two features with the same name are provided. The following pattern is commonly used in Temporian programs to avoid errors:"
   ]
  },
  {
   "cell_type": "code",
   "execution_count": null,
   "id": "f7d85e33",
   "metadata": {},
   "outputs": [],
   "source": [
    "result = tp.glue(\n",
    "    evset.simple_moving_average(tp.duration.days(7)).prefix(\"sma_7.\"),\n",
    "    evset.simple_moving_average(tp.duration.days(14)).prefix(\"sma_14.\"),\n",
    ")"
   ]
  },
  {
   "attachments": {},
   "cell_type": "markdown",
   "id": "749df3cc",
   "metadata": {
    "cell_marker": "\"\"\"",
    "lines_to_next_cell": 0
   },
   "source": [
    "\n",
    "## Casting\n",
    "\n",
    "Temporian is strict on feature data types (also called dtype). This means that often, you cannot perform operations between features of different types. For example, you cannot subtract a `tp.float64` and a `tp.int64`. Instead, you must manually cast the features to the same type before performing the operation."
   ]
  },
  {
   "cell_type": "code",
   "execution_count": null,
   "id": "e1276be1",
   "metadata": {},
   "outputs": [],
   "source": [
    "evset = tp.event_set(timestamps=[0, 1],\n",
    "                     features={'f1': [0.5, 1.1],\n",
    "                               'f2': [1, 2]\n",
    "                              }\n",
    "                    )\n",
    "# Can't add float64 and int64, explicit cast required:\n",
    "result = evset['f1'] + evset['f2'].cast(float)"
   ]
  },
  {
   "attachments": {},
   "cell_type": "markdown",
   "id": "d45a37bb",
   "metadata": {
    "lines_to_next_cell": 0
   },
   "source": [
    "Using python's `float` above is equivalent to using `tp.float64`, like using `int` is equivalent to `tp.int64`.\n",
    "\n",
    "Casting is especially useful to reduce memory usage. For example, if a feature only contains values between 0 and 10000, using `tp.int32` instead of `tp.int64` will halve memory usage. These optimizations are critical when working with large datasets.\n",
    "\n",
    "Casting can also be a necessary step before calling operators that only accept certain input data types.\n",
    "\n",
    "When using `EventSet.cast()`, destination data types can be specified in three different ways:\n",
    "\n",
    "1. Single data type: converts all input features to the same destination data type.\n"
   ]
  },
  {
   "cell_type": "code",
   "execution_count": null,
   "id": "6c2444ba",
   "metadata": {},
   "outputs": [],
   "source": [
    "numbers_to_str = evset.cast(str)"
   ]
  },
  {
   "attachments": {},
   "cell_type": "markdown",
   "id": "59c449d9",
   "metadata": {
    "cell_marker": "\"\"\"",
    "lines_to_next_cell": 0
   },
   "source": [
    "\n",
    "2. Feature name to data type mapping: converts each feature (specified by name) to a specific data type."
   ]
  },
  {
   "cell_type": "code",
   "execution_count": null,
   "id": "05ee00a7",
   "metadata": {},
   "outputs": [],
   "source": [
    "evset.cast({\"f1\": str, \"f2\": tp.int32})"
   ]
  },
  {
   "attachments": {},
   "cell_type": "markdown",
   "id": "3f85a531",
   "metadata": {
    "cell_marker": "\"\"\"",
    "lines_to_next_cell": 0
   },
   "source": [
    "\n",
    "3. Data type to data type mapping: converts all features of a specific data type to another data type."
   ]
  },
  {
   "cell_type": "code",
   "execution_count": null,
   "id": "6deaff88",
   "metadata": {},
   "outputs": [],
   "source": [
    "half_precision = evset.cast({float: tp.float32, int: tp.int32})"
   ]
  },
  {
   "attachments": {},
   "cell_type": "markdown",
   "id": "915df6c5",
   "metadata": {
    "cell_marker": "\"\"\"",
    "lines_to_next_cell": 0
   },
   "source": [
    "\n",
    "Keep in mind that casting may fail when the graph is evaluated. For instance, attempting to cast `\"word\"` to `tp.float64` will result in an error. These errors cannot be caught prior to graph evaluation.\n",
    "\n",
    "## Arithmetic operators\n",
    "\n",
    "Arithmetic operators can be used between the features of an `EventSetNode`, to perform element-wise calculations.\n",
    "\n",
    "Common mathematical and bit operations are supported, such as addition (`+`), subtraction (`-`), product (`*`), division (`/`), floor division (`//`), modulo (`%`), comparisons (`>, >=, <, <=`), and bitwise operators (`&, |, ~`).\n",
    "\n",
    "These operators are applied index-wise and timestamp-wise, between features in the same position."
   ]
  },
  {
   "cell_type": "code",
   "execution_count": null,
   "id": "2c673b17",
   "metadata": {
    "lines_to_next_cell": 0
   },
   "outputs": [],
   "source": [
    "evset = tp.event_set(\n",
    "    timestamps=[1, 10],\n",
    "    features={\n",
    "        \"f1\": [0, 1],\n",
    "        \"f2\": [10.0, 20.0],\n",
    "        \"f3\": [100, 100],\n",
    "        \"f4\": [1000.0, 1000.0],\n",
    "    },\n",
    ")\n",
    "evset[[\"f1\", \"f2\"]] + evset[[\"f3\", \"f4\"]]"
   ]
  },
  {
   "attachments": {},
   "cell_type": "markdown",
   "id": "03bd54cc",
   "metadata": {
    "cell_marker": "\"\"\"",
    "lines_to_next_cell": 0
   },
   "source": [
    "Note that we're adding both `int64` and both `float64` features, otherwise the operation would fail without an explicit cast (see the previous casting section)."
   ]
  },
  {
   "attachments": {},
   "cell_type": "markdown",
   "id": "1675fa25",
   "metadata": {
    "cell_marker": "\"\"\"",
    "lines_to_next_cell": 0
   },
   "source": [
    "```python\n",
    ">>> evset[\"f1\"] + evset[\"f2\"]  # Attempt to mix dtypes int and float.\n",
    "Traceback (most recent call last):\n",
    "    ...\n",
    "ValueError: corresponding features should have the same dtype. ...\n",
    "```"
   ]
  },
  {
   "attachments": {},
   "cell_type": "markdown",
   "id": "7b50cf71",
   "metadata": {
    "cell_marker": "\"\"\"",
    "lines_to_next_cell": 0
   },
   "source": [
    "Refer to the [Casting](#casting) section to learn how to cast features and solve this issue."
   ]
  },
  {
   "attachments": {},
   "cell_type": "markdown",
   "id": "d65bd8de",
   "metadata": {
    "cell_marker": "\"\"\"",
    "lines_to_next_cell": 0
   },
   "source": [
    "### Comparisons\n",
    "\n",
    "The usual comparison and logic operators perform element-wise comparison (except `==`, see below)."
   ]
  },
  {
   "cell_type": "code",
   "execution_count": null,
   "id": "f1462eea",
   "metadata": {},
   "outputs": [],
   "source": [
    "is_greater = evset[[\"f1\", \"f2\"]] > evset[[\"f3\", \"f4\"]]\n",
    "is_less_or_equal = evset[[\"f1\", \"f2\"]] <= evset[[\"f3\", \"f4\"]]\n",
    "is_wrong = is_greater & is_less_or_equal"
   ]
  },
  {
   "attachments": {},
   "cell_type": "markdown",
   "id": "9f01eee7",
   "metadata": {
    "cell_marker": "\"\"\"",
    "lines_to_next_cell": 0
   },
   "source": [
    "The results are `EventSets` with boolean features, which can be used with other operators such as `filter()` or  `where()`.\n",
    "\n",
    "**Warning:** The Python equality operator (`==`) does not compute element-wise equality between features. Use the `evset.equal()` operator instead."
   ]
  },
  {
   "cell_type": "code",
   "execution_count": null,
   "id": "c67262d9-0a72-41ed-b020-12d95c5d2879",
   "metadata": {},
   "outputs": [],
   "source": [
    "# This is NOT event-wise comparison, just a python boolean\n",
    "evset[\"f1\"] == evset[\"f2\"]"
   ]
  },
  {
   "cell_type": "markdown",
   "id": "d65cbeb6-8de3-4824-8bca-815d88055a45",
   "metadata": {},
   "source": [
    "For this particular comparison to work event-wise, use the `EventSet.equal()` method instead:"
   ]
  },
  {
   "cell_type": "code",
   "execution_count": null,
   "id": "c610a0d0",
   "metadata": {},
   "outputs": [],
   "source": [
    "# Works element-wise as expected\n",
    "evset[\"f1\"].equal(evset[\"f3\"])"
   ]
  },
  {
   "attachments": {},
   "cell_type": "markdown",
   "id": "0fa4a2d1",
   "metadata": {
    "cell_marker": "\"\"\"",
    "lines_to_next_cell": 0
   },
   "source": [
    "All these operators act feature-wise, i.e. they perform index-feature-wise operations (for each feature in each index key). This implies that the input `EventSets` must have the same number of features."
   ]
  },
  {
   "attachments": {},
   "cell_type": "markdown",
   "id": "8dd1d7f4",
   "metadata": {
    "cell_marker": "\"\"\"",
    "lines_to_next_cell": 0
   },
   "source": [
    "\n",
    "The input `EventSets` must also have the same sampling and index. Otherwise, Temporian raises an error:"
   ]
  },
  {
   "attachments": {},
   "cell_type": "markdown",
   "id": "00990d1e",
   "metadata": {
    "cell_marker": "\"\"\"",
    "lines_to_next_cell": 0
   },
   "source": [
    "```python\n",
    ">>> sampling_1 = tp.event_set(\n",
    "...    timestamps=[0, 1],\n",
    "...    features={\"f1\": [1, 2]},\n",
    "... )\n",
    ">>> sampling_2 = tp.event_set(\n",
    "...    timestamps=[1, 2],\n",
    "...    features={\"f1\": [3, 4]},\n",
    "... )\n",
    ">>> sampling_1 + sampling_2\n",
    "Traceback (most recent call last):\n",
    "    ...\n",
    "ValueError: Arguments should have the same sampling. ...\n",
    "\n",
    "```\n",
    "\n",
    "If you want to create two `EventSets` associated to the same sampling source (same timestamps and indexes), use the `same_sampling_as` argument:"
   ]
  },
  {
   "cell_type": "code",
   "execution_count": null,
   "id": "1415ede1-3fbc-43d7-94e6-dd5d5ec93bbb",
   "metadata": {},
   "outputs": [],
   "source": [
    "evset_2 = tp.event_set(\n",
    "    timestamps=[1, 10],\n",
    "    features={'f': [1, 2]},\n",
    "    same_sampling_as=evset\n",
    ")\n",
    "# Now evset and evset_2 have the same sampling source\n",
    "result = evset['f1'] + evset_2['f']"
   ]
  },
  {
   "attachments": {},
   "cell_type": "markdown",
   "id": "217fa8f5",
   "metadata": {
    "cell_marker": "\"\"\"",
    "lines_to_next_cell": 0
   },
   "source": [
    "If you want to apply arithmetic operators on `EventSets` with different samplings, take a look at\n",
    "[Sampling](#sampling) section.\n",
    "\n",
    "If you want to apply them on `EventSets` with different indexes, check the\n",
    "[Vertical operators](#indexes-horizontal-and-vertical-operators) section.\n",
    "\n",
    "Operations involving scalars are applied index-feature-element-wise."
   ]
  },
  {
   "cell_type": "code",
   "execution_count": null,
   "id": "58fe7d8e",
   "metadata": {
    "lines_to_next_cell": 0
   },
   "outputs": [],
   "source": [
    "evset * 10"
   ]
  },
  {
   "attachments": {},
   "cell_type": "markdown",
   "id": "a229408c",
   "metadata": {
    "cell_marker": "\"\"\"",
    "lines_to_next_cell": 0
   },
   "source": [
    "## Sampling\n",
    "\n",
    "Arithmetic operators, require their input arguments to have the same timestamps and [Index](#indexes-horizontal-and-vertical-operators), as seen in the previous section. The unique combination of timestamps and indexes is called a _sampling_.\n",
    "\n",
    "To use arithmetic operators on `EventSets` with different samplings, one of the `EventSets` needs to be resampled to the sampling of the other `EventSet`. Resampling is done with the `EventSet.resample()` operator.\n",
    "\n",
    "The `EventSet.resample(new_sampling)` operator returns the resampling of the features of the calling `EventSet` with the timestamps of `new_sampling` according to the following rules:\n",
    "\n",
    "1. For each timestamp in `new_sampling`, use the feature values from the _closest_ event in `EventSet` that is previous or has exactly equal timestamp (future events are ignored as that would induce future leakage). This rule is especially useful for events that represent measurements (see [Events and `EventSets`](#events-and-eventsets)).\n",
    "2. If there's no previous event for some timestamps in `new_sampling`, fill with a missing value, which depends on the feature type (`NaN` will be used for `float` features, `0` for `int` features, and `''` for `str` features).\n",
    "\n",
    "**Note:** Features in `sampling` are ignored. This also happens in some other operators that take a `sampling` argument of type `EventSet`.\n",
    "\n",
    "Given this example:"
   ]
  },
  {
   "cell_type": "code",
   "execution_count": null,
   "id": "087b6fd6",
   "metadata": {
    "lines_to_next_cell": 0
   },
   "outputs": [],
   "source": [
    "evset = tp.event_set(\n",
    "    timestamps=[10, 20, 30],\n",
    "    features={\n",
    "        \"x\": [1.0, 2.0, 3.0],\n",
    "    },\n",
    ")\n",
    "sampling_evset = tp.event_set(\n",
    "    timestamps=[0, 9, 10, 11, 19, 20, 21],\n",
    ")\n",
    "resampled = evset.resample(sampling=sampling_evset)"
   ]
  },
  {
   "attachments": {},
   "cell_type": "markdown",
   "id": "11496f59",
   "metadata": {
    "cell_marker": "\"\"\"",
    "lines_to_next_cell": 0
   },
   "source": [
    "\n",
    "The following would be the matching between the timestamps of `sampling_evset` and `evset`:\n",
    "\n",
    "| `sampling` timestamp         | 0   | 9   | 10  | 11  | 19  | 20  | 21  |\n",
    "| ---------------------------- | --- | --- | --- | --- | --- | --- | --- |\n",
    "| previous `evset` timestamp   | -   | -   | 10  | 10  | 10  | 20  | 20  |\n",
    "| value for `\"x\"`              | NaN | NaN | 1   | 1   | 1   | 2   | 2   |\n",
    "\n",
    "Back to the example of the arithmetics operators, `a` and `b` with different sampling can be added as follows:"
   ]
  },
  {
   "cell_type": "code",
   "execution_count": null,
   "id": "df3bbc7d",
   "metadata": {
    "lines_to_next_cell": 0
   },
   "outputs": [],
   "source": [
    "a = tp.event_set(\n",
    "    timestamps=[0, 1, 2],\n",
    "    features={\"f1\": [10, 20, 30]},\n",
    ")\n",
    "b = tp.event_set(\n",
    "    timestamps=[1, 2, 3],\n",
    "    features={\"f1\": [5, 4, 3]},\n",
    ")\n",
    "result = a + b.resample(a)"
   ]
  },
  {
   "attachments": {},
   "cell_type": "markdown",
   "id": "56313ff2",
   "metadata": {
    "cell_marker": "\"\"\"",
    "lines_to_next_cell": 0
   },
   "source": [
    "\n",
    "`EventSet.resample()` is critical to combine events from different, non-synchronized sources. For example, consider a system with two sensors, a thermometer for temperature and a manometer for pressure. The temperature sensor produces measurements every 1 to 10 minutes, while the pressure sensor returns measurements every second. Additionally assume that both sensors are not synchronized. Finally, assume that you need to combine the temperature and pressure measurements with the equation `temperature / pressure`.\n",
    "\n",
    "<!-- TODO: image -->\n",
    "\n",
    "Since the temperature and pressure `EventSets` have different sampling, you will need to resample one of them. The pressure sensor has higher resolution. Therefore, resampling the temperature to the pressure yields higher resolution than resampling the pressure to the temperature.\n",
    "\n",
    "```python\n",
    "r = termometer[\"temperature\"].resample(manometer) / manometer[\"pressure\"]\n",
    "```"
   ]
  },
  {
   "attachments": {},
   "cell_type": "markdown",
   "id": "ae131e37",
   "metadata": {
    "cell_marker": "\"\"\"",
    "lines_to_next_cell": 0
   },
   "source": [
    "\n",
    "When handling non-uniform timestamps it is also common to have a common resampling source.\n",
    "\n",
    "```python\n",
    "sampling_source = # Uniform timestamps every 10 seconds.\n",
    "r = termometer[\"temperature\"].resample(sampling_source) / manometer[\"pressure\"].resample(sampling_source)\n",
    "```\n",
    "\n",
    "Moving window operators, such as the `EventSet.simple_moving_average()` or `EventSet.moving_count()` operators, have an optional `sampling` argument. For example, the signature of the simple moving average operator is `EventSet.simple_moving_average(window_length: Duration, sampling: Optional[EventSet] = None)`. If `sampling` is not set, the result will maintain the sampling of the original `EventSet`. If `sampling` is set, the moving window will be sampled at each timestamp of `sampling` instead, and the result will have those new ones.\n",
    "\n",
    "```python\n",
    "a.simple_moving_average(window_length=10)\n",
    "a.simple_moving_average(window_length=10, sampling=d)\n",
    "```\n",
    "\n",
    "Note that if planning to resample the result of a moving window operator, passing the `sampling` argument is both more efficient and more accurate than calling `.resample()` on the result.\n",
    "\n",
    "## Indexes, horizontal and vertical operators\n",
    "\n",
    "All operators presented so far work on a sequence of related events. For instance, the simple moving average operator computes the average of events within a specific time window. These types of operators are called _horizontal operators_ (which makes sense if we think of events as advancing in time from left to right).\n",
    "\n",
    "It is sometimes desirable for events in an `EventSet` not to interact with each other. For example, assume a dataset containing the sum of daily sales of a set of products. The objective is to compute the sum of weekly sales of each product independently. In this scenario, the weekly moving sum should be applied individually to each product. If not, you would compute the weekly sales of all the products together.\n",
    "\n",
    "To compute the weekly sales of individual products, you can define the `product` feature as the _index_."
   ]
  },
  {
   "cell_type": "code",
   "execution_count": null,
   "id": "54a71cae",
   "metadata": {
    "lines_to_next_cell": 0
   },
   "outputs": [],
   "source": [
    "daily_sales = tp.event_set(\n",
    "\ttimestamps=[\"2020-01-01\", \"2020-01-01\", \"2020-01-02\", \"2020-01-02\"],\n",
    "\tfeatures={\n",
    "        \"product\": [1, 2, 1, 2],\n",
    "        \"sale\": [100.0, 300.0, 90.0, 400.0],\n",
    "    },\n",
    "    indexes=[\"product\"]\n",
    ")\n",
    "daily_sales.plot()"
   ]
  },
  {
   "attachments": {},
   "cell_type": "markdown",
   "id": "40dacbb4",
   "metadata": {
    "cell_marker": "\"\"\"",
    "lines_to_next_cell": 0
   },
   "source": [
    "\n",
    "The moving sum operator will then be applied independently to the events corresponding to each product."
   ]
  },
  {
   "cell_type": "code",
   "execution_count": null,
   "id": "2c87a680",
   "metadata": {
    "lines_to_next_cell": 2
   },
   "outputs": [],
   "source": [
    "# Compute the moving sum of each index group (a.k.a. each product) individually.\n",
    "b = a.moving_sum(window_length=tp.duration.weeks(1))"
   ]
  },
  {
   "attachments": {},
   "cell_type": "markdown",
   "id": "e096897d",
   "metadata": {
    "cell_marker": "\"\"\"",
    "lines_to_next_cell": 0
   },
   "source": [
    "\n",
    "Horizontal operators can be understood as operators that are applied independently on each index.\n",
    "\n",
    "Operators that modify an `EventSet`'s indexes are called _vertical operators_ (note that they affect the vertical layout of the plots above). The most important vertical operators are:\n",
    "\n",
    "- `EventSet.add_index()`: Add features to the index.\n",
    "- `EventSet.drop_index()`: Remove features from the index, optionally keeping them as features.\n",
    "- `EventSet.set_index()`: Changes the index.\n",
    "- `EventSet.propagate()`: Expand indexes based on another `EventSet`’s indexes.\n",
    "\n",
    "By default, `EventSets` are _flat_, which means they have no index, and therefore all events are in a single global group.\n",
    "\n",
    "Also, keep in mind that only string and integer features can be used as indexes.\n",
    "\n",
    "`EventSets` can have multiple features as index. In the next example, assume our daily sale aggregates are also annotated with `store` data."
   ]
  },
  {
   "cell_type": "code",
   "execution_count": null,
   "id": "8badbebf",
   "metadata": {},
   "outputs": [],
   "source": [
    "daily_sales = tp.event_set(\n",
    "\ttimestamps=[\"2020-01-01\", \"2020-01-01\", \"2020-01-02\", \"2020-01-02\"],\n",
    "\tfeatures={\n",
    "        \"store\": [1, 1, 1, 2],\n",
    "        \"product\": [1, 2, 1, 2],\n",
    "        \"sale\": [100.0, 200.0, 110.0, 300.0],\n",
    "    },\n",
    ")"
   ]
  },
  {
   "attachments": {},
   "cell_type": "markdown",
   "id": "69b3c03c",
   "metadata": {
    "cell_marker": "\"\"\"",
    "lines_to_next_cell": 0
   },
   "source": [
    "\n",
    "Since we haven't defined the `indexes` yet, `store` and `product` are just regular features above.\n",
    "Let's add the `(product, store)` pair as the index."
   ]
  },
  {
   "cell_type": "code",
   "execution_count": null,
   "id": "479096c3",
   "metadata": {
    "lines_to_next_cell": 2
   },
   "outputs": [],
   "source": [
    "sales_per_product_store = daily_sales.add_index([\"product\", \"store\"])\n",
    "sales_per_product_store"
   ]
  },
  {
   "attachments": {},
   "cell_type": "markdown",
   "id": "c2dc98f6",
   "metadata": {
    "cell_marker": "\"\"\"",
    "lines_to_next_cell": 0
   },
   "source": [
    "\n",
    "The `moving_sum` operator can be used to calculate the weekly sum of sales\n",
    "for each `(product, store)` pair."
   ]
  },
  {
   "cell_type": "code",
   "execution_count": null,
   "id": "4df0d8cf",
   "metadata": {
    "lines_to_next_cell": 0
   },
   "outputs": [],
   "source": [
    "# Weekly sales by product and store\n",
    "per_product_weekly = sales_per_product_store.moving_sum(window_length=tp.duration.weeks(1))"
   ]
  },
  {
   "attachments": {},
   "cell_type": "markdown",
   "id": "2295d4ee",
   "metadata": {
    "cell_marker": "\"\"\"",
    "lines_to_next_cell": 0
   },
   "source": [
    "\n",
    "If we want the weekly sum of sales per `store`, we can just drop the `product` index."
   ]
  },
  {
   "cell_type": "code",
   "execution_count": null,
   "id": "8d9448a2",
   "metadata": {
    "lines_to_next_cell": 0
   },
   "outputs": [],
   "source": [
    "# Weekly sales by store (including all products)\n",
    "per_store_weekly = per_product_weekly.drop_index(\"product\", keep=False).moving_sum(tp.duration.weeks(1))"
   ]
  },
  {
   "attachments": {},
   "cell_type": "markdown",
   "id": "f67b3f0c",
   "metadata": {
    "cell_marker": "\"\"\"",
    "lines_to_next_cell": 0
   },
   "source": [
    "\n",
    "Finally, let's calculate the ratio of sales of each `(product, store)` pair compared to the whole `store` sales.\n",
    "\n",
    "Since `c` (weekly sales for each product and store) and `e` (weekly sales for each store) have different indexes, we cannot use `tp.divide` (or `/`) directly - we must first `propagate` `e` to the `[\"product\", \"store\"]` index."
   ]
  },
  {
   "cell_type": "code",
   "execution_count": null,
   "id": "4e12a9e0",
   "metadata": {
    "lines_to_next_cell": 0
   },
   "outputs": [],
   "source": [
    "# Copy the content of per_store_weekly (indexed by (store)) into each (store, product).\n",
    "f = per_product_weekly / per_store_weekly.propagate(sampling=per_product_weekly, resample=True)"
   ]
  },
  {
   "attachments": {},
   "cell_type": "markdown",
   "id": "e73da62c",
   "metadata": {
    "cell_marker": "\"\"\"",
    "lines_to_next_cell": 0
   },
   "source": [
    "\n",
    "The `EventSet.propagate()` operator expands the indexes of its input to match the indexes of its `sampling` by copying the contents of the former into each corresponding index group of `sampling`. Note that `sampling`'s indexes must be a superset of `input`'s indexes.\n",
    "\n",
    "## Future leakage\n",
    "\n",
    "In supervised learning, [leakage](<https://en.wikipedia.org/wiki/Leakage_(machine_learning)>) is the use of data not available at serving time by a machine learning model. A common example of leakage is _label leakage_, which involves the invalid use of labels in the model input features. Leakage tends to bias model evaluation by making it appear much better than it is in reality. Unfortunately, leakage is often subtle, easy to inject, and challenging to detect.\n",
    "\n",
    "Another type of leakage is future leakage, where a model uses data before it is available. Future leakage is particularly easy to create, as all feature data is ultimately available to the model, the problem being it being accessed at the wrong time.\n",
    "\n",
    "To avoid future leakage, Temporian operators are guaranteed to not cause future leakage, except for the `EventSet.leak()` operator. This means that it is impossible to inadvertently add future leakage to a Temporian program.\n",
    "\n",
    "`EventSet.leak()` can be useful for precomputing labels or evaluating machine learning models. However, its outputs shouldn’t be used as input features."
   ]
  },
  {
   "cell_type": "code",
   "execution_count": null,
   "id": "c07453fa",
   "metadata": {},
   "outputs": [],
   "source": [
    "a = tp.event_set(timestamps=[10, 20])\n",
    "b = a.leak(1)\n",
    "b"
   ]
  },
  {
   "cell_type": "markdown",
   "id": "d2e37ee5",
   "metadata": {},
   "source": [
    "In this example, `b` has a future leakage because it depends on `EventSet.leak()`.\n",
    "\n",
    "To check programmatically if an `EventSet` depends on `leak()`, we can use the `tp.has_leak()` function."
   ]
  },
  {
   "cell_type": "code",
   "execution_count": null,
   "id": "ab15c133",
   "metadata": {},
   "outputs": [],
   "source": [
    "print(tp.has_leak(a.node()))"
   ]
  },
  {
   "cell_type": "code",
   "execution_count": null,
   "id": "cd455fc1",
   "metadata": {},
   "outputs": [],
   "source": [
    "print(tp.has_leak(b.node()))"
   ]
  },
  {
   "attachments": {},
   "cell_type": "markdown",
   "id": "8d973547",
   "metadata": {
    "cell_marker": "\"\"\"",
    "lines_to_next_cell": 0
   },
   "source": [
    "By using `tp.has_leak()`, we can programmatically identify future leakage and modify our code accordingly.\n",
    "\n",
    "## Accessing `EventSet` data\n",
    "\n",
    "`EventSet` data can be accessed using their `data` attribute. Temporian internally relies on NumPy, which means that the data access functions always return NumPy arrays."
   ]
  },
  {
   "cell_type": "code",
   "execution_count": null,
   "id": "7da63117",
   "metadata": {},
   "outputs": [],
   "source": [
    "evset = tp.event_set(\n",
    "\ttimestamps=[1, 2, 3, 5, 6],\n",
    "\tfeatures={\n",
    "        \"f1\": [0.1, 0.2, 0.3, 1.1, 1.2],\n",
    "        \"f2\": [\"red\", \"red\", \"red\", \"blue\", \"blue\"],\n",
    "\t},\n",
    "\tindexes=[\"f2\"],\n",
    ")\n",
    "\n",
    "# Access the data for the index group `f2=red`.\n",
    "evset.get_index_value((\"red\",))"
   ]
  },
  {
   "attachments": {},
   "cell_type": "markdown",
   "id": "eddfa88e",
   "metadata": {
    "cell_marker": "\"\"\"",
    "lines_to_next_cell": 0
   },
   "source": [
    "<!--\n",
    "`EventSet` data can be accessed using the `index()` and `feature()` functions. Temporian internally relies on NumPy, which means that the data access functions always return NumPy arrays.\n",
    "\n",
    "evset = tp.event_set(\n",
    "\ttimestamps=[1, 2, 3, 5, 6],\n",
    "\tfeatures={\n",
    "        \"f1\": [0.1, 0.2, 0.3, 1.1, 1.2],\n",
    "        \"f2\": [\"red\", \"red\", \"red\", \"blue\", \"blue\"],\n",
    "\t},\n",
    "\tindexes=[\"f2\"],\n",
    ")\n",
    "\n",
    "# Access the data for the index group `f2=red`.\n",
    "evset.index(\"red\")\n",
    "\n",
    "\n",
    "# Equivalent.\n",
    "evset.index((\"red\", ))\n",
    "\n",
    "\n",
    "# Access the data for the index group `f2=red` and feature `f1`.\n",
    "evset.index(\"red\").feature(\"f1\")\n",
    "\n",
    "\n",
    "If an `EventSet` does not have an index, `feature` can be called directly:\n",
    "\n",
    "evset = tp.event_set(\n",
    "\ttimestamps=[1, 2, 3, 5, 6],\n",
    "\tfeatures={\n",
    "        \"f1\": [0.1, 0.2, 0.3, 1.1, 1.2],\n",
    "        \"f2\": [\"red\", \"red\", \"red\", \"blue\", \"blue\"],\n",
    "\t},\n",
    ")\n",
    "evset.feature(\"f1\")\n",
    "-->\n",
    "\n",
    "## Import and export data\n",
    "\n",
    "`EventSets` can be read from and saved to csv files via the `tp.from_csv()` and `tp.to_csv()` functions.\n",
    "\n",
    "```python\n",
    "evset = tp.from_csv(  # Read EventSet from a .csv file.\n",
    "    path=\"path/to/file.csv\",\n",
    "    timestamps=\"timestamp\",\n",
    "    indexes=[\"product_id\"],\n",
    ")\n",
    "\n",
    "tp.to_csv(evset, path=\"path/to/file.csv\")  # Save EventSet to a .csv file.\n",
    "```\n",
    "\n",
    "Converting `EventSet` data to and from pandas DataFrames is also easily done via `tp.to_pandas()` and `tp.from_pandas()`."
   ]
  },
  {
   "cell_type": "code",
   "execution_count": null,
   "id": "da239494",
   "metadata": {},
   "outputs": [],
   "source": [
    "df = pd.DataFrame({\n",
    "    \"timestamp\": [1, 2, 3, 5, 6],\n",
    "    \"f1\": [0.1, 0.2, 0.3, 1.1, 1.2],\n",
    "    \"f2\": [\"red\", \"red\", \"red\", \"blue\", \"blue\"],\n",
    "})\n",
    "\n",
    "# Create EventSet from DataFrame.\n",
    "evset = tp.from_pandas(df)\n",
    "\n",
    "# Convert EventSet to DataFrame.\n",
    "df = tp.to_pandas(evset)"
   ]
  },
  {
   "attachments": {},
   "cell_type": "markdown",
   "id": "64cb7ff2-945d-461d-ba4b-b5ac1e127f85",
   "metadata": {},
   "source": [
    "## Eager mode vs Graph mode\n",
    "\n",
    "Temporian has two execution modes: **eager** and **graph**. In eager mode (default), operators are applied immediately. This mode is useful for learning Temporian, for iterative and interactive development, and for lightweight/small data use cases where performance isn't a priority.\n",
    "\n",
    "In graph mode, operators are combined together into \"Temporian programs\" before being executed. Graph mode is more efficient and it consumes less memory. Temporian programs can be saved, inspected, and distributed by users.\n",
    "\n",
    "Migrating a Temporian program from eager to graph mode is easy and requires little work. Most of the time, adding a `@tp.compile` annotation is enough. Therefore, it is recommended to develop programs in eager mode and then to productize them in graph mode.\n",
    "\n",
    "Below, we see the same program written three times: First, in eager mode, then in graph mode using `@tp.compile`, and finally in graph mode without `@tp.compile`."
   ]
  },
  {
   "cell_type": "code",
   "execution_count": null,
   "id": "d5405837-c801-40e9-8b41-4d4dc901d429",
   "metadata": {},
   "outputs": [],
   "source": [
    "# Eager mode\n",
    "#\n",
    "# Note: This Temporian program contains three operators: two \"simple_moving_average\" and one \"tp.substract\" operators.\n",
    "result = evset['f1'].simple_moving_average(window_length=2) - evset['f1'].simple_moving_average(window_length=4)\n",
    "result.plot()"
   ]
  },
  {
   "cell_type": "code",
   "execution_count": null,
   "id": "9c854408-0804-4435-8d44-f521ef1b379e",
   "metadata": {},
   "outputs": [],
   "source": [
    "# Graph mode with @tp.compile\n",
    "\n",
    "@tp.compile\n",
    "def my_function(x):\n",
    "    f1 = x['f1']\n",
    "    sma_2 = f1.simple_moving_average(window_length=2)\n",
    "    sma_4 = f1.simple_moving_average(window_length=4)\n",
    "    return sma_2 - sma_4\n",
    "\n",
    "result = my_function(evset)\n",
    "\n",
    "result.plot()"
   ]
  },
  {
   "cell_type": "code",
   "execution_count": null,
   "id": "e4aa008f-aa8e-486f-a96c-854fb5b2bd83",
   "metadata": {},
   "outputs": [],
   "source": [
    "# Graph mode without @tp.compile\n",
    "\n",
    "# Input can be specified before having the actual data\n",
    "# input_node = tp.input_node([(\"f1\", tp.float64), (\"f2\", tp.str_)])\n",
    "\n",
    "# Since we already have the evset, create a proper node for it\n",
    "input_node = evset.node()\n",
    "\n",
    "f1_node = input_node['f1']\n",
    "sma_2_node = f1_node.simple_moving_average(window_length=2)\n",
    "sma_4_node = f1_node.simple_moving_average(window_length=4)\n",
    "result_node = sma_2_node - sma_4_node\n",
    "result = tp.run(result_node, {input_node: evset}, verbose=1)\n",
    "\n",
    "result.plot()"
   ]
  },
  {
   "attachments": {},
   "cell_type": "markdown",
   "id": "6f961cee-c813-46b8-bf49-cecd95916b31",
   "metadata": {},
   "source": [
    "## More on graph mode\n",
    "\n",
    "**Remark:** While you will likely use the graph mode with `@tp.compile` , it is useful for you to understand the graph model without `@tp.compile`.\n",
    "\n",
    "A Temporian program is a graph of `EventSetNodes` connecting operators. A graph is executed with the function `tp.run(<outputs>, <inputs>)`.\n",
    "\n",
    "<img src=\"https://raw.githubusercontent.com/google/temporian/main/docs/src/assets/eager_and_graph.svg\" width=\"100%\" alt=\"eager vs graph mode\">\n",
    "\n",
    "The `<outputs>` can be specified as an `EventSetNode`, a list of `EventSetNodes`, or a dictionary of names to `EventSetNodes`, and the result of `tp.run()` will be of the same type. For example, if `<outputs>` is a list of three `EventSetNodes`, the result will be a list of the three corresponding `EventSets`.\n",
    "\n",
    "The `<inputs>` can be specified as:\n",
    "\n",
    "- A dictionary of `EventSetNodes` to `EventSets`, or \n",
    "- A dictionary of names to `EventSets`, or,\n",
    "- A list of `EventSets`, or\n",
    "- A single `EventSet`\n",
    "\n",
    "This lets Temporian know the `EventSetNodes` of the graph that each input `EventSet` corresponds to. If `<inputs>` is a dictionary of names to `EventSets`, the names must match the names of `EventSetNodes` in the graph.  If `<inputs>` is a list or a single `EventSet`, the names of those `EventSets` must do the same. If we specify the inputs as a dictionary, we could skip passing a name to `a_evset`."
   ]
  },
  {
   "cell_type": "code",
   "execution_count": null,
   "id": "dd4142a0-df47-4ca3-aafe-7a105b4f2deb",
   "metadata": {},
   "outputs": [],
   "source": [
    "input_node = tp.input_node([(\"f1\", tp.float64), (\"f2\", tp.str_)])\n",
    "feat_1_node = input_node[\"f1\"]\n",
    "result_1_node = feat_1_node.simple_moving_average(window_length=2)\n",
    "result_2_node = feat_1_node.simple_moving_average(window_length=4)\n",
    "result_3_node = result_1_node - result_2_node\n",
    "\n",
    "result = tp.run([result_1_node,result_2_node, result_3_node], {input_node: evset})"
   ]
  },
  {
   "attachments": {},
   "cell_type": "markdown",
   "id": "bca4258f-cdb2-4b2b-992d-4c2937a2868f",
   "metadata": {},
   "source": [
    "**Remarks:**\n",
    "\n",
    "- It's important to distinguish between a `tp.EventSet`, such as `evset`, that contains data, and a `tp.EventSetNode`, like `input_node`, that connect operators together and compose the computation graph, but do not contain data.\n",
    "- No computation is performed when defining the graph (i.e., when calling the operator functions). All computation is done during `tp.run()`.\n",
    "- In `tp.run()`, the second argument defines a mapping between input `EventSetNodes` and `EventSets`. If all necessary input `EventSetNodes` are not fed, an error will be raised.\n",
    "- In most cases you will only pass `EventSets` that correspond to the graph's input `EventSetNodes`, but Temporian also supports passing `EventSets` to intermediate `EventSetNodes` in the graph."
   ]
  },
  {
   "attachments": {},
   "cell_type": "markdown",
   "id": "5b445f9c-725b-47b1-bd8c-fc0502b99016",
   "metadata": {},
   "source": [
    "The `@tp.compile` annotation takes a function inputing and outputing `tp.EventSetNode`, and automatically calls `tp.run` on the result of the function if a `tp.EventSet` is provided as input."
   ]
  },
  {
   "cell_type": "code",
   "execution_count": null,
   "id": "b0b0220b-9869-454c-8f3b-afeabaca06bc",
   "metadata": {},
   "outputs": [],
   "source": [
    "@tp.compile\n",
    "def my_function(x : tp.types.EventSetOrNode) -> tp.types.EventSetOrNode:\n",
    "    return x.simple_moving_average(window_length=0.5)\n",
    "\n",
    "# Feeding an EventSet\n",
    "input_evset = tp.event_set(timestamps=[1, 2, 3],features={\"value\": [5., 6., 7.]})\n",
    "assert isinstance(my_function(input_evset), tp.EventSet)\n",
    "\n",
    "# Feeding an EventSetNode\n",
    "input_node = tp.input_node([(\"value\", tp.float64)])\n",
    "assert isinstance(my_function(input_node), tp.EventSetNode)"
   ]
  },
  {
   "attachments": {},
   "cell_type": "markdown",
   "id": "282ec163-1d0e-442a-bb18-ac961010b28e",
   "metadata": {},
   "source": [
    "Importantly, variables in a `tp.compile` function are `EventSetNode` and not `EventSet`. Therefore, you cannot directly access the event set data.\n",
    "\n",
    "In addition, the compiled function execution first generates the graph. The graph is then executed. In the next example, the compiled function generates a graph with 10 operators."
   ]
  },
  {
   "cell_type": "code",
   "execution_count": null,
   "id": "945d8f39-18ad-44df-a4d2-9d8986e7825b",
   "metadata": {},
   "outputs": [],
   "source": [
    "@tp.compile\n",
    "def my_function(x : tp.EventSetNode) -> tp.EventSetNode:\n",
    "    for i in range(10):\n",
    "        x = x.simple_moving_average(window_length=i+1)\n",
    "    return x"
   ]
  },
  {
   "attachments": {},
   "cell_type": "markdown",
   "id": "660e2930-38b5-4eaa-af3e-97b97b1a422c",
   "metadata": {},
   "source": [
    "You can create a compiled function with a `if`. However, the condition of the `if` cannot depend on the EventSet data."
   ]
  },
  {
   "cell_type": "code",
   "execution_count": null,
   "id": "941a5fc4-edfc-4fba-8bc8-22f3a7387e91",
   "metadata": {},
   "outputs": [],
   "source": [
    "@tp.compile\n",
    "def my_function(x : tp.types.EventSetOrNode, a:bool) -> tp.types.EventSetOrNode:\n",
    "    if a:\n",
    "        return x.rename(\"a_branch\")\n",
    "    else:\n",
    "        return x.rename(\"non_a_branch\")\n",
    "\n",
    "print(my_function(input_evset, a=True).schema.features)\n",
    "\n",
    "print(my_function(input_evset, a=False).schema.features)"
   ]
  },
  {
   "attachments": {},
   "cell_type": "markdown",
   "id": "57eff095-9188-4add-b904-7679ed86a2de",
   "metadata": {},
   "source": [
    "If you want to create a program conditional on EventSet data, you can use `EventSet.filter()`."
   ]
  },
  {
   "cell_type": "code",
   "execution_count": null,
   "id": "a9ab68f3-91a6-445e-99c2-7f2379185f21",
   "metadata": {},
   "outputs": [],
   "source": [
    "@tp.compile\n",
    "def my_function(x : tp.types.EventSetOrNode) -> tp.types.EventSetOrNode:\n",
    "    return x[\"value\"].filter(x[\"condition\"])\n",
    "\n",
    "my_function(tp.event_set(\n",
    "\ttimestamps=[1,2,3],\n",
    "\tfeatures={\n",
    "        \"value\": [10, 11, 12],\n",
    "        \"condition\":[True, True, False]}\n",
    "))"
   ]
  },
  {
   "attachments": {},
   "cell_type": "markdown",
   "id": "80ebc42e-4cc4-4928-b815-af353ae41a11",
   "metadata": {},
   "source": [
    "To simplify its usage when the graph contains a single output `EventSetNode`, `node.run(...)` is equivalent to `tp.run(node, ...)`."
   ]
  },
  {
   "attachments": {},
   "cell_type": "markdown",
   "id": "79ed1db9-43cf-4d8d-8d19-c6594565b71e",
   "metadata": {},
   "source": [
    "\n",
    "<!-- TODO\n",
    "# Not implemented yet:\n",
    "# d_evset = tp.run(d_node, {\"a\": a_evset})\n",
    "# d_evset = tp.run(d_node, [a_evset])\n",
    "# d_evset = tp.run(d_node, a_evset)\n",
    "# d_evset = d_node.run({\"a\": a_evset})\n",
    "# d_evset = d_node.run([a_evset])\n",
    "# d_evset = d_node.run(a_evset)\n",
    "-->\n",
    "\n",
    "**Warning:** It is more efficient to run multiple output `EventSetNodes` together with `tp.run()` than to run them separately with `node_1.run(...)`, `node_2.run(...)`, etc."
   ]
  },
  {
   "attachments": {},
   "cell_type": "markdown",
   "id": "0da789f5-a0dd-4b7b-8887-b5a9c2801678",
   "metadata": {
    "cell_marker": "\"\"\"",
    "lines_to_next_cell": 0
   },
   "source": [
    "Previously, we defined the input of the graph with `tp.input_node()`. This way of listing features manually and their respective data type is cumbersome.\n",
    "\n",
    "If an `EventSet` is available (i.e., data is available) this step can be changed to use `evset.node()` instead, which will return an `EventSetNode` that is compatible with it. This is especially useful when creating `EventSets` from existing data, such as pandas DataFrames or CSV files."
   ]
  },
  {
   "cell_type": "code",
   "execution_count": null,
   "id": "d4fc33b0",
   "metadata": {
    "lines_to_next_cell": 0
   },
   "outputs": [],
   "source": [
    "# Define an EventSet.\n",
    "a_evset = tp.event_set(\n",
    "\ttimestamps=[0, 1, 2],\n",
    "\tfeatures={\n",
    "        \"feature_1\": [1.0, 2.0, 3.0],\n",
    "        \"feature_2\": [\"hello\", \"little\", \"dog\"],\n",
    "        \"feature_3\": [\"A\", \"A\", \"B\"],\n",
    "\t}\n",
    ")\n",
    "\n",
    "# The following three statements are (almost) equivalent.\n",
    "a_node = tp.input_node(\n",
    "    features=[\n",
    "        (\"feature_1\", tp.float64),\n",
    "        (\"feature_2\", tp.str_),\n",
    "    ],\n",
    "    indexes=[(\"feature_3\", tp.str_)])\n",
    "\n",
    "a_node = tp.input_node(\n",
    "    features=a_evset.schema.features,\n",
    "    indexes=a_evset.schema.indexes\n",
    ")\n",
    "\n",
    "a_node = a_evset.node()"
   ]
  },
  {
   "attachments": {},
   "cell_type": "markdown",
   "id": "a96084af",
   "metadata": {
    "cell_marker": "\"\"\"",
    "lines_to_next_cell": 0
   },
   "source": [
    "\n",
    "## Serialization and deserialization of a graph\n",
    "\n",
    "Temporian graphs can be exported and imported to a safe-to-share file with `tp.save_graph()` and `tp.load_graph()`. In both functions input and output `EventSetNodes` need to be named, or be assigned a name by passing them as a dictionary."
   ]
  },
  {
   "cell_type": "code",
   "execution_count": null,
   "id": "56a28657",
   "metadata": {},
   "outputs": [],
   "source": [
    "# Define a graph.\n",
    "evset = tp.event_set(\n",
    "\ttimestamps=[1, 2, 3],\n",
    "\tfeatures={\"f1\": [0.1, 0.2, 0.3]},\n",
    ")\n",
    "a = evset.node()\n",
    "b = a.moving_count(1)\n",
    "\n",
    "# Save the graph.\n",
    "tp.save_graph(inputs={\"input_a\": a}, outputs={\"output_b\": b}, path=\"/tmp/my_graph.tem\")\n",
    "\n",
    "# Equivalent.\n",
    "a.name = \"input_a\"\n",
    "b.name = \"output_b\"\n",
    "tp.save_graph(inputs=a, outputs=[b], path=\"/tmp/my_graph.tem\")\n",
    "\n",
    "# Load the graph.\n",
    "loaded_inputs, loaded_outputs = tp.load_graph(path=\"/tmp/my_graph.tem\")\n",
    "\n",
    "# Run data on the restored graph.\n",
    "tp.run(loaded_outputs[\"output_b\"], {loaded_inputs[\"input_a\"]: evset})"
   ]
  },
  {
   "cell_type": "code",
   "execution_count": null,
   "id": "942b9568-9cd2-455a-b750-1bd877d0fcf1",
   "metadata": {},
   "outputs": [],
   "source": []
  }
 ],
 "metadata": {
  "jupytext": {
   "cell_metadata_filter": "-all",
   "main_language": "python",
   "notebook_metadata_filter": "-all"
  },
  "kernelspec": {
   "display_name": "Python 3 (ipykernel)",
   "language": "python",
   "name": "python3"
  },
  "language_info": {
   "codemirror_mode": {
    "name": "ipython",
    "version": 3
   },
   "file_extension": ".py",
   "mimetype": "text/x-python",
   "name": "python",
   "nbconvert_exporter": "python",
   "pygments_lexer": "ipython3",
   "version": "3.10.13"
  }
 },
 "nbformat": 4,
 "nbformat_minor": 5
}
