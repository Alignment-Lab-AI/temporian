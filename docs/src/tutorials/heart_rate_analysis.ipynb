{
 "cells": [
  {
   "attachments": {},
   "cell_type": "markdown",
   "metadata": {},
   "source": [
    "# Heart Rate Analysis\n",
    "\n",
    "[![Open in Colab](https://colab.research.google.com/assets/colab-badge.svg)](https://colab.research.google.com/github/google/temporian/blob/main/docs/src/tutorials/heart_rate_analysis.ipynb)\n",
    "\n",
    "In this notebook, we will explore how to use Temporian to load, visualize, and process medical data. Our main goal is to create a Temporian program that can detect heartbeats and calculate both the heart rate and heart rate variability from raw [ECG](https://en.wikipedia.org/wiki/Electrocardiography) signals.\n",
    "\n",
    "To do this, we will use the ECG and respiratory waveforms data of three patients from the [Apnea-ECG](https://www.physionet.org/content/apnea-ecg/1.0.0/) vital sign dataset, which is available on the [PhysioNet](https://physionet.org/) repository. We will load this data into Temporian using the [WFDB](https://wfdb.readthedocs.io/en/latest/) python package, which is a widely used tool for working with physiological signals."
   ]
  },
  {
   "attachments": {},
   "cell_type": "markdown",
   "metadata": {
    "tags": []
   },
   "source": [
    "## Install and import dependencies"
   ]
  },
  {
   "cell_type": "code",
   "execution_count": null,
   "metadata": {},
   "outputs": [],
   "source": [
    "# Skip this cell if you are running the notebook locally and have already installed temporian.\n",
    "%pip install temporian"
   ]
  },
  {
   "cell_type": "code",
   "execution_count": null,
   "metadata": {},
   "outputs": [],
   "source": [
    "# wfdb: Load data from PhysioNet.\n",
    "%pip install wfdb -q\n",
    "\n",
    "# bokeh: Use by Temporian for interactive plotting.\n",
    "# If bokeh is not installed, only static plotting is available.\n",
    "%pip install bokeh -q"
   ]
  },
  {
   "cell_type": "code",
   "execution_count": null,
   "metadata": {},
   "outputs": [],
   "source": [
    "import temporian as tp\n",
    "\n",
    "import os\n",
    "import wfdb\n",
    "import pandas as pd\n",
    "import numpy as np"
   ]
  },
  {
   "attachments": {},
   "cell_type": "markdown",
   "metadata": {},
   "source": [
    "## Download patient data\n",
    "\n",
    "We download the data of the patients `a1-3`. The records `a1-3`contain the ECG, while the records `a1-3r` contain the respiratory signals."
   ]
  },
  {
   "cell_type": "code",
   "execution_count": null,
   "metadata": {},
   "outputs": [],
   "source": [
    "patients = [\"a01\", \"a02\", \"a03\"]\n",
    "\n",
    "tmp_directory = \"tmp_vital_signs\"\n",
    "if not os.path.isdir(tmp_directory):\n",
    "    wfdb.dl_database(\n",
    "        \"apnea-ecg\",\n",
    "        dl_dir=tmp_directory,\n",
    "        records=patients + [f\"{p}r\" for p in patients],\n",
    "    )"
   ]
  },
  {
   "attachments": {},
   "cell_type": "markdown",
   "metadata": {},
   "source": [
    "## Convert patient data to PhysioNet to Temporian format\n",
    "\n",
    "We convert the PhysioNet data into Temporian data. The ECG and respiratory records are exported into two event sets `ecg_data` and `resp_data`."
   ]
  },
  {
   "cell_type": "code",
   "execution_count": null,
   "metadata": {},
   "outputs": [],
   "source": [
    "def load_patient(patient: list[str]) -> tuple:\n",
    "    \"\"\"Returns the ECG and Respiratory signals\"\"\"\n",
    "    signals_ecg, fields_ecg = wfdb.rdsamp(f\"{tmp_directory}/{patient}\")\n",
    "    signals_resp, fields_resp = wfdb.rdsamp(f\"{tmp_directory}/{patient}r\")\n",
    "\n",
    "    # TODO: Skip DataFrame conversion.\n",
    "    df_ecg = pd.DataFrame(signals_ecg, columns=fields_ecg[\"sig_name\"])\n",
    "    df_resp = pd.DataFrame(signals_resp, columns=fields_resp[\"sig_name\"])\n",
    "\n",
    "    df_ecg[\"timestamp\"] = np.arange(fields_ecg[\"sig_len\"]) / fields_ecg[\"fs\"]\n",
    "    df_resp[\"timestamp\"] = np.arange(fields_resp[\"sig_len\"]) / fields_resp[\"fs\"]\n",
    "\n",
    "    return df_ecg, df_resp\n",
    "\n",
    "\n",
    "def load_all_patients(patients: list[str]) -> tuple[tp.EventSet, tp.EventSet]:\n",
    "    data = [load_patient(p) for p in patients]\n",
    "\n",
    "    merged_df_ecg = pd.concat(\n",
    "        [d[0].assign(patient=p) for d, p in zip(data, patients)]\n",
    "    )\n",
    "    merged_df_resp = pd.concat(\n",
    "        [d[1].assign(patient=p) for d, p in zip(data, patients)]\n",
    "    )\n",
    "\n",
    "    return (\n",
    "        tp.EventSet.from_dataframe(merged_df_ecg, index_names=[\"patient\"]),\n",
    "        tp.EventSet.from_dataframe(merged_df_resp, index_names=[\"patient\"]),\n",
    "    )\n",
    "\n",
    "\n",
    "ecg_data, resp_data = load_all_patients(patients)"
   ]
  },
  {
   "attachments": {},
   "cell_type": "markdown",
   "metadata": {},
   "source": [
    "`ecg_data`contains the ECG data indexed by patient."
   ]
  },
  {
   "cell_type": "code",
   "execution_count": null,
   "metadata": {
    "tags": []
   },
   "outputs": [],
   "source": [
    "ecg_data"
   ]
  },
  {
   "attachments": {},
   "cell_type": "markdown",
   "metadata": {},
   "source": [
    "`resp_data` contains the respiratory signals indexed by patient."
   ]
  },
  {
   "cell_type": "code",
   "execution_count": null,
   "metadata": {
    "tags": []
   },
   "outputs": [],
   "source": [
    "resp_data"
   ]
  },
  {
   "attachments": {},
   "cell_type": "markdown",
   "metadata": {},
   "source": [
    "## Data processing and visualization\n",
    "\n",
    "Plotting the data is a great way to understand the data and to spot potential issues. Let's plot the whole data."
   ]
  },
  {
   "cell_type": "code",
   "execution_count": null,
   "metadata": {},
   "outputs": [],
   "source": [
    "tp.plot([ecg_data, resp_data])\n",
    "\n",
    "# Alternatively, individual event sets can also be plotted individually with:\n",
    "#   ecg_data.plot()\n",
    "#   resp_data.plot()"
   ]
  },
  {
   "attachments": {},
   "cell_type": "markdown",
   "metadata": {},
   "source": [
    "The range of the values look right. For example, SpO2 is expected to be between 0 and 100, and most of the time close to 100 for a patient in good health.\n",
    "However, we cannot see much details. Let's simplify the plot by only printing the first 20 seconds of data for the first patient.\n",
    "\n",
    "In addition, let's enable interactive plotting with `interactive=True`.\n",
    "\n",
    "**Remarks:**\n",
    "- Interactive plotting is not suited to print large amount of data like in the plot above. It will make the plot unresponsive.\n",
    "- Temporian uses the Bokeh library for interactive plotting. Bokeh need to be separately with `pip install bokeh`.\n",
    "- Try to zoom and pan in the interactive plots. Looking closely at the data is often interesting."
   ]
  },
  {
   "cell_type": "code",
   "execution_count": null,
   "metadata": {},
   "outputs": [],
   "source": [
    "plot_args = {\n",
    "    \"min_time\": 0,  # Start of the plotting time\n",
    "    \"max_time\": 20,  # End of the plotting time\n",
    "    \"indexes\": \"a01\",  # Only plot the data of the patient \"a01\"\n",
    "    \"interactive\": True,  # Enable interactive plotting\n",
    "}\n",
    "tp.plot([ecg_data, resp_data], **plot_args)"
   ]
  },
  {
   "attachments": {},
   "cell_type": "markdown",
   "metadata": {},
   "source": [
    "On the ECG, you can see the heart rate. Each large up spike is a beat.\n",
    "Right now, we have raw ECG data sampled at 100Hz, so there aez 100 events every seconds with the ECG value.\n",
    "To compute heart rate, we need to detect the heat beats, so lets extract heat breat events i.e. an event each time there is an heart beat.\n",
    "\n",
    "A heart beat is detected when two criteria are true:\n",
    "- Criterion #1: The ecg value is in the above 70% of the moving range computed over the last 3 seconds.\n",
    "- Criterion #2: There is at least 60/200=300ms (i.e. 200bpm) since the last detected heart beat.\n",
    "\n",
    "**Note:** The moving range is the difference between the moving maximum and moving minimum.\n"
   ]
  },
  {
   "cell_type": "code",
   "execution_count": null,
   "metadata": {},
   "outputs": [],
   "source": [
    "ecg_node = ecg_data.node()\n",
    "\n",
    "ecg = ecg_node[\"ECG\"]\n",
    "\n",
    "# === Begin of heart beat detection code ===\n",
    "\n",
    "# Compute the moving min, max and range of the ECG\n",
    "mmin = tp.moving_min(ecg, 3.0)\n",
    "mmax = tp.moving_max(ecg, 3.0)\n",
    "mrange = mmax - mmin\n",
    "\n",
    "# TODO: Replace with \"ecg > mmin + ecg_mrange * 0.7\"\n",
    "criterion_1_is_valid = ecg - (mmin + mrange * 0.7) > 0.0\n",
    "# TODO: Make \"filter\" able to take an \"events\" without features as input (or a single argument)?\n",
    "criterion_1_candidates = tp.filter(criterion_1_is_valid)\n",
    "criterion_2_is_valid = tp.since_last(criterion_1_candidates) > 60.0 / 200\n",
    "\n",
    "heart_beats = tp.rename(tp.filter(criterion_2_is_valid), \"heart beat\")\n",
    "# === End of heart beat detection code ===\n",
    "\n",
    "# Let' plot the raw ECG, criteron 1 and 2, and the heart beats.\n",
    "to_plot = [\n",
    "    ecg,\n",
    "    tp.rename(criterion_1_is_valid, \"criteria 1 is valid\"),\n",
    "    tp.rename(criterion_2_is_valid, \"criteria 2 is valid\"),\n",
    "    heart_beats,\n",
    "    # Add more intermediate results here to better understand the detection of heart beats.\n",
    "]\n",
    "\n",
    "tp.plot(tp.evaluate(to_plot, {ecg_node: ecg_data}), **plot_args)"
   ]
  },
  {
   "attachments": {},
   "cell_type": "markdown",
   "metadata": {},
   "source": [
    "From heart beats, we can compute the *heart rate* and *heart rate variability*, two important measure to monitor patient health.\n",
    "\n",
    "The heart rate is the average heart beat frequency over the last 10 expressed in beats-per-minutes (bpm). It is computed by counting the number of beats in 60 seconds.\n",
    "\n",
    "**Note:** The heart reate can also be computed by counting the number of beats in a shorter window (e.g. 20 seconds) and multiplying the number to get a number of beats per seconds."
   ]
  },
  {
   "cell_type": "code",
   "execution_count": null,
   "metadata": {
    "tags": []
   },
   "outputs": [],
   "source": [
    "heart_rate = tp.rename(tp.moving_count(heart_beats, 60.0), \"heart rate\")\n",
    "\n",
    "to_plot = [\n",
    "    heart_beats,\n",
    "    heart_rate,\n",
    "]\n",
    "\n",
    "tp.plot(\n",
    "    tp.evaluate(to_plot, {ecg_node: ecg_data}),\n",
    "    min_time=0,\n",
    "    max_time=tp.duration.hours(6),\n",
    "    indexes=\"a01\",\n",
    "    interactive=True,\n",
    ")"
   ]
  },
  {
   "attachments": {},
   "cell_type": "markdown",
   "metadata": {},
   "source": [
    "One way to compute the heart rate variability (HRV) is by using the standard deviation of the interval between successive heart beats (called RR interval) and expressed in ms.\n",
    "We can compute it over 60s like for the heart beat or with a longer time windows for more stability (e.g., 240 seconds)"
   ]
  },
  {
   "cell_type": "code",
   "execution_count": null,
   "metadata": {
    "tags": []
   },
   "outputs": [],
   "source": [
    "rr_interval = tp.since_last(heart_beats)\n",
    "\n",
    "heart_rate_variability = tp.rename(\n",
    "    tp.moving_standard_deviation(rr_interval, 240.0) * 1000.0,\n",
    "    \"heart rate variability\",\n",
    ")\n",
    "\n",
    "to_plot = [\n",
    "    heart_beats,\n",
    "    heart_rate,\n",
    "    heart_rate_variability,\n",
    "]\n",
    "\n",
    "tp.plot(\n",
    "    tp.evaluate(to_plot, {ecg_node: ecg_data}),\n",
    "    min_time=0,\n",
    "    max_time=tp.duration.hours(6),\n",
    "    indexes=\"a01\",\n",
    "    interactive=True,\n",
    ")"
   ]
  },
  {
   "attachments": {},
   "cell_type": "markdown",
   "metadata": {},
   "source": [
    "Currently, heart rate and heart rate variability are calculated at every heartbeat, resulting in a large amount of non-uniform data. To enhance compatibility with other systems, a better approach would be to compute the heart rate at exact 10-second intervals instead. This approach will simplify the data analysis process and provide more consistent and uniform results.\n",
    "\n",
    "The `tp.tick` function generates a uniform timestamp.\n",
    "The `tp.sample` function sample a signal according to a secondary sampling.\n",
    "\n",
    "**Note:** Window functions like tp.`moving_count` have an optional `sampling` argument which is equivalent, but currently more efficient than calling `tp.moving_count` and `tp.sample` separately. Our dataset is small enought that it does not matter."
   ]
  },
  {
   "cell_type": "code",
   "execution_count": null,
   "metadata": {
    "tags": []
   },
   "outputs": [],
   "source": [
    "# TODO: Replace with tick operator when implemented.\n",
    "# uniform_sampling_10s = tp.tick(heart_rate, interval=10)\n",
    "uniform_sampling_10s = tp.cast(tp.moving_count(ecg, 10000000.0), tp.int64)\n",
    "uniform_sampling_10s = uniform_sampling_10s // 1000\n",
    "uniform_sampling_10s = tp.equal(\n",
    "    uniform_sampling_10s,\n",
    "    tp.sample(tp.lag(uniform_sampling_10s, 0.01), uniform_sampling_10s) + 1,\n",
    ")\n",
    "uniform_sampling_10s = tp.filter(\n",
    "    tp.select(uniform_sampling_10s, []), uniform_sampling_10s\n",
    ")\n",
    "\n",
    "heart_rate_every_10s = tp.rename(\n",
    "    tp.sample(heart_rate, sampling=uniform_sampling_10s), \"heart rate (10s)\"\n",
    ")\n",
    "heart_rate_variability_every_10s = tp.rename(\n",
    "    tp.sample(heart_rate_variability, sampling=uniform_sampling_10s),\n",
    "    \"heart rate variability (10s)\",\n",
    ")\n",
    "\n",
    "to_plot = [\n",
    "    uniform_sampling_10s,\n",
    "    heart_beats,\n",
    "    heart_rate,\n",
    "    heart_rate_every_10s,\n",
    "    heart_rate_variability,\n",
    "    heart_rate_variability_every_10s,\n",
    "]\n",
    "\n",
    "tp.plot(\n",
    "    tp.evaluate(to_plot, {ecg_node: ecg_data}),\n",
    "    min_time=500,\n",
    "    max_time=560,\n",
    "    indexes=\"a01\",\n",
    "    interactive=True,\n",
    ")"
   ]
  },
  {
   "attachments": {},
   "cell_type": "markdown",
   "metadata": {},
   "source": [
    "Finally, let's apply our temporian processing on the whole record of all the patients"
   ]
  },
  {
   "cell_type": "code",
   "execution_count": null,
   "metadata": {
    "tags": []
   },
   "outputs": [],
   "source": [
    "to_plot = [\n",
    "    heart_rate_every_10s,\n",
    "    heart_rate_variability_every_10s,\n",
    "]\n",
    "\n",
    "tp.plot(tp.evaluate(to_plot, {ecg_node: ecg_data}), interactive=True)"
   ]
  },
  {
   "attachments": {},
   "cell_type": "markdown",
   "metadata": {
    "tags": []
   },
   "source": [
    "## Save Temporian program"
   ]
  },
  {
   "attachments": {},
   "cell_type": "markdown",
   "metadata": {},
   "source": [
    "Temporian preprocessing program can be exported to file to be re-loaded later."
   ]
  },
  {
   "cell_type": "code",
   "execution_count": null,
   "metadata": {
    "tags": []
   },
   "outputs": [],
   "source": [
    "tp.save(\n",
    "    inputs={\"ecg\": ecg_node},\n",
    "    outputs={\n",
    "        \"hb\": heart_beats,\n",
    "        \"hr\": heart_rate_every_10s,\n",
    "        \"hrv\": heart_rate_variability_every_10s,\n",
    "    },\n",
    "    path=\"/tmp/heart_graph.tem\",\n",
    ")"
   ]
  },
  {
   "attachments": {},
   "cell_type": "markdown",
   "metadata": {
    "tags": []
   },
   "source": [
    "An then, later, you can load and execute this preprocessing again."
   ]
  },
  {
   "cell_type": "code",
   "execution_count": null,
   "metadata": {
    "tags": []
   },
   "outputs": [],
   "source": [
    "loaded_inputs, loaded_outputs = tp.load(path=\"/tmp/heart_graph.tem\")\n",
    "print(\"loaded_inputs:\", loaded_inputs.keys())\n",
    "print(\"loaded_outputs:\", loaded_outputs.keys())\n",
    "\n",
    "tp.plot(\n",
    "    tp.evaluate(\n",
    "        [loaded_outputs[\"hb\"], loaded_outputs[\"hr\"], loaded_outputs[\"hrv\"]],\n",
    "        {loaded_inputs[\"ecg\"]: ecg_data},\n",
    "    )\n",
    ")\n",
    "\n",
    "# Or, equivalently:\n",
    "# tp.plot(tp.evaluate(\n",
    "#         loaded_outputs,\n",
    "#         {loaded_inputs[\"ecg\"]: ecg_data})\n",
    "# )"
   ]
  },
  {
   "attachments": {},
   "cell_type": "markdown",
   "metadata": {},
   "source": [
    "## Homework\n",
    "\n",
    "At the beginning of a recording, it may take some time to detect enough beats for an accurate heart rate reading. Update the definition of `heart_rate_every_10s` such that it does not compute the heart beat during the first minute of the record.\n",
    "\n",
    "**Help:**\n",
    "- The `tp.begin(x)` function create a single event at the beginning of the record for each index value of `x`.\n",
    "- `tp.since_last(event=tp.begin(x), sampling=x)` is the time since the start of the record for each timestamp of `x`."
   ]
  },
  {
   "cell_type": "code",
   "execution_count": null,
   "metadata": {
    "tags": []
   },
   "outputs": [],
   "source": [
    "## Solution\n",
    "\n",
    "# TODO: Reaplce with \"begin\" operator when available\n",
    "# begin = tp.begin(heart_rate)\n",
    "begin = tp.cast(tp.moving_count(ecg, 10.0), tp.int64)\n",
    "begin = tp.equal_scalar(begin, 1)\n",
    "begin = tp.filter(begin)\n",
    "\n",
    "more_than_60s_since_begin = tp.since_last(begin, heart_rate_every_10s) > 60.0\n",
    "improved_heart_rate = tp.rename(\n",
    "    tp.filter(heart_rate_every_10s, more_than_60s_since_begin),\n",
    "    \"improved_heart_rate\",\n",
    ")\n",
    "\n",
    "to_plot = [\n",
    "    heart_rate_every_10s,\n",
    "    improved_heart_rate,\n",
    "]\n",
    "\n",
    "tp.plot(\n",
    "    tp.evaluate(to_plot, {ecg_node: ecg_data}),\n",
    "    min_time=0,\n",
    "    max_time=60 * 5,\n",
    "    indexes=\"a01\",\n",
    "    interactive=True,\n",
    ")"
   ]
  }
 ],
 "metadata": {
  "kernelspec": {
   "display_name": "Python 3 (ipykernel)",
   "language": "python",
   "name": "python3"
  },
  "language_info": {
   "codemirror_mode": {
    "name": "ipython",
    "version": 3
   },
   "file_extension": ".py",
   "mimetype": "text/x-python",
   "name": "python",
   "nbconvert_exporter": "python",
   "pygments_lexer": "ipython3",
   "version": "3.10.8"
  }
 },
 "nbformat": 4,
 "nbformat_minor": 4
}
