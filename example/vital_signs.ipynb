{
 "cells": [
  {
   "cell_type": "markdown",
   "metadata": {},
   "source": [
    "# Vital signs\n",
    "\n",
    "This example shows how to use Temporian on one of the PhysioNet datasets using [wfdb](https://wfdb.readthedocs.io/en/latest/). We will load the EKG and respiratory records of four patients from the [Apnea-ECG Database](https://www.physionet.org/content/apnea-ecg/1.0.0/), and extract various features, including the detection of the heart beats and the heart beat variability."
   ]
  },
  {
   "cell_type": "markdown",
   "metadata": {},
   "source": [
    "## Install the dependencies"
   ]
  },
  {
   "cell_type": "code",
   "execution_count": null,
   "metadata": {},
   "outputs": [],
   "source": [
    "pip install wfdb -q"
   ]
  },
  {
   "cell_type": "code",
   "execution_count": null,
   "metadata": {
    "tags": []
   },
   "outputs": [],
   "source": [
    "import temporian as tp\n",
    "\n",
    "import os\n",
    "import wfdb\n",
    "import pandas as pd\n",
    "import numpy as np"
   ]
  },
  {
   "cell_type": "markdown",
   "metadata": {},
   "source": [
    "## Download patient data"
   ]
  },
  {
   "cell_type": "code",
   "execution_count": null,
   "metadata": {
    "vscode": {
     "languageId": "python"
    }
   },
   "outputs": [],
   "source": [
    "patients = [\"a01\", \"a02\", \"a03\"]\n",
    "\n",
    "tmp_directory = \"tmp_vital_signs\"\n",
    "if not os.path.isdir(tmp_directory):\n",
    "    # Note: The ECG and Respiratory signals are recorded by different devices and with different sampling rates.\n",
    "    wfdb.dl_database(\n",
    "        \"apnea-ecg\",\n",
    "        dl_dir=tmp_directory,\n",
    "        records=[p for p in patients] + [p + \"r\" for p in patients],\n",
    "    )"
   ]
  },
  {
   "cell_type": "markdown",
   "metadata": {},
   "source": [
    "## Convert patient data to PhysioNet to Temporian format"
   ]
  },
  {
   "cell_type": "code",
   "execution_count": null,
   "metadata": {
    "vscode": {
     "languageId": "python"
    }
   },
   "outputs": [],
   "source": [
    "def load_patient(patient: list[str]) -> tuple:\n",
    "    \"\"\"Returns the ECG and Respiratory signals\"\"\"\n",
    "    signals_ecg, fields_ecg = wfdb.rdsamp(f\"{tmp_directory}/{patient}\")\n",
    "    signals_resp, fields_resp = wfdb.rdsamp(f\"{tmp_directory}/{patient}r\")\n",
    "\n",
    "    df_ecg = pd.DataFrame(signals_ecg, columns=fields_ecg[\"sig_name\"])\n",
    "    df_resp = pd.DataFrame(signals_resp, columns=fields_resp[\"sig_name\"])\n",
    "\n",
    "    df_ecg[\"timestamp\"] = np.arange(fields_ecg[\"sig_len\"]) / fields_ecg[\"fs\"]\n",
    "    df_resp[\"timestamp\"] = np.arange(fields_resp[\"sig_len\"]) / fields_resp[\"fs\"]\n",
    "\n",
    "    return df_ecg, df_resp\n",
    "\n",
    "\n",
    "def load_all_patients(patients: list[str]) -> tuple[tp.EventSet, tp.EventSet]:\n",
    "    data = [load_patient(p) for p in patients]\n",
    "\n",
    "    merged_df_ecg = pd.concat(\n",
    "        [d[0].assign(patient=p) for d, p in zip(data, patients)]\n",
    "    )\n",
    "    merged_df_resp = pd.concat(\n",
    "        [d[1].assign(patient=p) for d, p in zip(data, patients)]\n",
    "    )\n",
    "\n",
    "    return (\n",
    "        tp.EventSet.from_dataframe(merged_df_ecg, index_names=[\"patient\"]),\n",
    "        tp.EventSet.from_dataframe(merged_df_resp, index_names=[\"patient\"]),\n",
    "    )\n",
    "\n",
    "\n",
    "ecg_data, resp_data = load_all_patients(patients)"
   ]
  },
  {
   "cell_type": "markdown",
   "metadata": {},
   "source": [
    "## Data processing and visualization\n",
    "\n",
    "Let's plot the full data data (can take a few seconds)."
   ]
  },
  {
   "cell_type": "code",
   "execution_count": null,
   "metadata": {
    "vscode": {
     "languageId": "python"
    }
   },
   "outputs": [],
   "source": [
    "tp.plot([ecg_data, resp_data])"
   ]
  },
  {
   "cell_type": "markdown",
   "metadata": {},
   "source": [
    "This is too much data to visualize. Instead, let's print the first 15 seconds of the first patient."
   ]
  },
  {
   "cell_type": "code",
   "execution_count": null,
   "metadata": {
    "vscode": {
     "languageId": "python"
    }
   },
   "outputs": [],
   "source": [
    "plot_args = {\"min_time\": 0, \"max_time\": 15, \"indexes\": \"a01\"}\n",
    "tp.plot([ecg_data, resp_data], **plot_args)"
   ]
  },
  {
   "cell_type": "markdown",
   "metadata": {},
   "source": [
    "Using Temporian, let's detect the heart beats from the ecg.\n",
    "\n",
    "A heart beat is detected when two criteria are true:\n",
    "- Criterion #1: The instantanious ecg is in the top 70% of the moving range computed over the last 3 seconds.\n",
    "- Criterion #2: There is at least 60/200=300ms (i.e. 200bpm) since the last criteria 1 candidate.\n"
   ]
  },
  {
   "cell_type": "code",
   "execution_count": null,
   "metadata": {
    "vscode": {
     "languageId": "python"
    }
   },
   "outputs": [],
   "source": [
    "ecg_node = ecg_data.node()\n",
    "\n",
    "ecg = ecg_node[\"ECG\"]\n",
    "\n",
    "# === Begin of heart beat detection code ===\n",
    "# Compute the moving min, max and range of the ECG\n",
    "mmin = tp.moving_min(ecg, 3)\n",
    "mmax = tp.moving_max(ecg, 3)\n",
    "mrange = mmax - mmin\n",
    "\n",
    "# TODO: Replace with \"ecg > mmin + ecg_mrange * 0.7\"\n",
    "criteria_1_is_valid = ecg - (mmin + mrange * 0.7) > 0.0\n",
    "# TODO: Make \"filter\" able to take an \"events\" without features as input (or a single argument)?\n",
    "criteria_1_candidates = tp.filter(criteria_1_is_valid, criteria_1_is_valid)\n",
    "criteria_2_is_valid = tp.since_last(criteria_1_candidates) > 60.0 / 200\n",
    "\n",
    "heart_beats = tp.rename(\n",
    "    tp.filter(criteria_2_is_valid, criteria_2_is_valid), \"heart beat\"\n",
    ")\n",
    "# === End of heart beat detection code ===\n",
    "\n",
    "to_plot = [\n",
    "    ecg,\n",
    "    tp.rename(criteria_1_is_valid, \"criteria 1 is valid\"),\n",
    "    tp.rename(criteria_2_is_valid, \"criteria 2 is valid\"),\n",
    "    heart_beats,\n",
    "    # Add more intermediate results here to better understand the detection of heart beats.\n",
    "]\n",
    "\n",
    "tp.plot(tp.evaluate(to_plot, {ecg_node: ecg_data}), **plot_args)"
   ]
  },
  {
   "cell_type": "markdown",
   "metadata": {},
   "source": [
    "From the heartbeats, let's compute the *heart rate* and *heart rate variability*.\n",
    "\n",
    "The heart rate is the average heart beat frequency over the last 10 expressed in beats-per-minutes (bpm). It can be computed by counting the number of beats in 60 seconds."
   ]
  },
  {
   "cell_type": "code",
   "execution_count": null,
   "metadata": {
    "tags": []
   },
   "outputs": [],
   "source": [
    "heart_rate = tp.rename(tp.moving_count(heart_beats, 60.0), \"heart rate\")\n",
    "\n",
    "# Right now, the heart rate is computed at each heart beat.\n",
    "# This resolution is great for computation, but this is an overkill for plotting.\n",
    "# Let's compute the heart beat once every 20 seconds instead.\n",
    "#\n",
    "# TODO: Uniform resampling.\n",
    "# low_resolution_heart_rate = tp.rename(heart_rate, \"low res heart rate\")\n",
    "\n",
    "to_plot = [\n",
    "    heart_beats,\n",
    "    heart_rate,\n",
    "    # low_resolution_heart_rate\n",
    "]\n",
    "\n",
    "tp.plot(\n",
    "    tp.evaluate(to_plot, {ecg_node: ecg_data}),\n",
    "    min_time=0,\n",
    "    max_time=tp.duration.hours(6),\n",
    "    indexes=\"a01\",\n",
    ")"
   ]
  },
  {
   "cell_type": "markdown",
   "metadata": {},
   "source": [
    "The heart rate variability (HRV) is the standard deviation of the interval between successive heart beats and expressed in ms."
   ]
  },
  {
   "cell_type": "code",
   "execution_count": null,
   "metadata": {
    "tags": []
   },
   "outputs": [],
   "source": [
    "rr_interval = tp.since_last(heart_beats)\n",
    "\n",
    "heart_rate_variability = tp.rename(\n",
    "    tp.moving_standard_deviation(rr_interval, 240.0) * 1000.0,\n",
    "    \"heart rate variability\",\n",
    ")\n",
    "\n",
    "to_plot = [\n",
    "    heart_beats,\n",
    "    heart_rate,\n",
    "    heart_rate_variability,\n",
    "]\n",
    "\n",
    "tp.plot(\n",
    "    tp.evaluate(to_plot, {ecg_node: ecg_data}),\n",
    "    min_time=0,\n",
    "    max_time=tp.duration.hours(6),\n",
    "    indexes=\"a01\",\n",
    ")"
   ]
  },
  {
   "cell_type": "markdown",
   "metadata": {},
   "source": [
    "Now that we have temporian programs to compute the HR and HRV, let's apply it to all ours patients and on the full data:"
   ]
  },
  {
   "cell_type": "code",
   "execution_count": null,
   "metadata": {
    "tags": []
   },
   "outputs": [],
   "source": [
    "tp.plot(tp.evaluate(to_plot, {ecg_node: ecg_data}))"
   ]
  },
  {
   "cell_type": "markdown",
   "metadata": {},
   "source": [
    "Finally, we can export our temporian programs for later re-use:"
   ]
  },
  {
   "cell_type": "code",
   "execution_count": null,
   "metadata": {
    "tags": []
   },
   "outputs": [],
   "source": [
    "pip install bokeh -q -U"
   ]
  },
  {
   "cell_type": "code",
   "execution_count": null,
   "metadata": {
    "tags": []
   },
   "outputs": [],
   "source": [
    "import bokeh.settings\n",
    "\n",
    "bokeh.settings.settings.log_level = \"error\""
   ]
  },
  {
   "cell_type": "code",
   "execution_count": null,
   "metadata": {},
   "outputs": [],
   "source": [
    "from bokeh.plotting import figure\n",
    "from bokeh.io import output_notebook, show\n",
    "import numpy as np\n",
    "from bokeh.layouts import gridplot, column\n",
    "from bokeh.models import ColumnDataSource, CategoricalColorMapper, HoverTool\n",
    "from bokeh.models import ColumnDataSource, CustomJS\n",
    "\n",
    "\n",
    "# # Only once\n",
    "# import bokeh.settings\n",
    "# bokeh.settings.settings.log_level  = \"fatal\"\n",
    "# bokeh.settings.settings.py_log_level  = \"fatal\"\n",
    "\n",
    "tools = [\n",
    "    \"xpan\",\n",
    "    \"pan\",\n",
    "    \"xwheel_zoom\",\n",
    "    \"ywheel_zoom\",\n",
    "    \"box_zoom\",\n",
    "    \"reset\",\n",
    "    \"undo\",\n",
    "    \"save\",\n",
    "    \"hover\",\n",
    "]\n",
    "\n",
    "# , title=\"Line Plot 1\"\n",
    "p1 = figure(\n",
    "    width=800,\n",
    "    height=200,\n",
    "    tools=tools\n",
    "    # [\n",
    "    # \"xpan\",\n",
    "    # \"pan\",\n",
    "    # \"xwheel_zoom\",\n",
    "    # \"ywheel_zoom\",\n",
    "    #  \"box_zoom\",\n",
    "    # \"reset\",\n",
    "    # \"undo\",\n",
    "    # \"save\",\n",
    "    # \"hover\"\n",
    "    #    ]\n",
    ")\n",
    "# p1.toolbar.logo = None\n",
    "\n",
    "n = 10000\n",
    "x = np.arange(n)\n",
    "y = np.random.random(n)\n",
    "s = ColumnDataSource(data=dict(x=x, y=y))\n",
    "\n",
    "\n",
    "p1.line(x=\"x\", y=\"y\", source=s, color=\"navy\", alpha=0.5)\n",
    "\n",
    "# p.scatter(x, np.random.random(10), size=4)\n",
    "\n",
    "p1.yaxis.axis_label = \"Price\"\n",
    "\n",
    "p2 = figure(\n",
    "    width=800,\n",
    "    height=200,\n",
    "    tools=tools,\n",
    "    # =[\n",
    "    #     \"xpan\",\n",
    "    #     \"pan\",\n",
    "    #     \"xwheel_zoom\",\n",
    "    #     \"ywheel_zoom\",\n",
    "    #      \"box_zoom\",\n",
    "    #     \"reset\",\n",
    "    #     \"undo\",\n",
    "    #     \"save\",\n",
    "    #     \"hover\",\n",
    "    # ]\n",
    ")\n",
    "# p2.line(x, y, color=\"navy\", alpha=0.5)\n",
    "y = np.random.random(n)\n",
    "s2 = ColumnDataSource(data=dict(x=x, y=y))\n",
    "p2.line(x=\"x\", y=\"y\", source=s2, color=\"navy\", alpha=0.5)\n",
    "p2.yaxis.axis_label = \"Price\"\n",
    "# p2.toolbar.logo = None\n",
    "\n",
    "callback = CustomJS(\n",
    "    args=dict(\n",
    "        p1_id=p1.id, p2_id=p2.id, p1_x_range=p1.x_range, p2_x_range=p2.x_range\n",
    "    ),\n",
    "    code=\"\"\"\n",
    "    if (cb_obj == p1_x_range) {\n",
    "        const x = p1_x_range.start;\n",
    "        const y = p1_x_range.end;\n",
    "        p2_x_range.start = x;\n",
    "        p2_x_range.end = y;\n",
    "    } else if (cb_obj == p2_x_range) {\n",
    "        const x = p2_x_range.start;\n",
    "        const y = p2_x_range.end;\n",
    "        p1_x_range.start = x;\n",
    "        p1_x_range.end = y;\n",
    "    }\n",
    "    p1_x_range.no_change = true;\n",
    "    p2_x_range.no_change = true;\n",
    "\"\"\",\n",
    ")\n",
    "\n",
    "\n",
    "# add the callback to the first plot's x_range\n",
    "p1.x_range.js_on_change(\"start\", callback)\n",
    "p1.x_range.js_on_change(\"end\", callback)\n",
    "p2.x_range.js_on_change(\"start\", callback)\n",
    "p2.x_range.js_on_change(\"end\", callback)\n",
    "\n",
    "output_notebook(hide_banner=True)\n",
    "show(\n",
    "    gridplot(\n",
    "        [[p1], [p2]],\n",
    "        merge_tools=True,\n",
    "        toolbar_location=\"right\",\n",
    "        toolbar_options=dict(logo=None),\n",
    "    )\n",
    ")"
   ]
  },
  {
   "cell_type": "code",
   "execution_count": null,
   "metadata": {
    "tags": []
   },
   "outputs": [],
   "source": [
    "from bokeh.io import output_notebook, show\n",
    "from bokeh.plotting import figure\n",
    "from bokeh.models import ColumnDataSource, CategoricalColorMapper, HoverTool\n",
    "from bokeh.palettes import Category10_10\n",
    "\n",
    "# generate some random data\n",
    "x = [1, 2, 3, 4, 5]\n",
    "y = [3, 5, 2, 4, 1]\n",
    "color = [\"red\", \"blue\", \"green\", \"yellow\", \"purple\"]\n",
    "size = [10, 20, 30, 40, 50]\n",
    "label = [\"A\", \"B\", \"C\", \"D\", \"E\"]\n",
    "\n",
    "# create a ColumnDataSource object to hold the data\n",
    "source = ColumnDataSource(\n",
    "    data=dict(x=x, y=y, color=color, size=size, label=label)\n",
    ")\n",
    "\n",
    "# create a color mapper to map the colors to the labels\n",
    "color_mapper = CategoricalColorMapper(factors=label, palette=Category10_10)\n",
    "\n",
    "# create a scatter plot\n",
    "p = figure(\n",
    "    title=\"Interactive Scatter Plot\",\n",
    "    tools=\"pan,box_zoom,reset,hover\",\n",
    "    x_axis_label=\"X\",\n",
    "    y_axis_label=\"Y\",\n",
    ")\n",
    "p.scatter(\n",
    "    x=\"x\",\n",
    "    y=\"y\",\n",
    "    size=\"size\",\n",
    "    color={\"field\": \"label\", \"transform\": color_mapper},\n",
    "    alpha=0.8,\n",
    "    source=source,\n",
    ")\n",
    "\n",
    "# configure the hover tool to display additional information when hovering over a data point\n",
    "hover = p.select_one(HoverTool)\n",
    "hover.tooltips = [\n",
    "    (\"Label\", \"@label\"),\n",
    "    (\"X\", \"@x\"),\n",
    "    (\"Y\", \"@y\"),\n",
    "]\n",
    "\n",
    "# show the plot in the notebook\n",
    "output_notebook()\n",
    "show(p)"
   ]
  }
 ],
 "metadata": {
  "kernelspec": {
   "display_name": "Python 3 (ipykernel)",
   "language": "python",
   "name": "python3"
  },
  "language_info": {
   "codemirror_mode": {
    "name": "ipython",
    "version": 3
   },
   "file_extension": ".py",
   "mimetype": "text/x-python",
   "name": "python",
   "nbconvert_exporter": "python",
   "pygments_lexer": "ipython3",
   "version": "3.10.6"
  }
 },
 "nbformat": 4,
 "nbformat_minor": 4
}
