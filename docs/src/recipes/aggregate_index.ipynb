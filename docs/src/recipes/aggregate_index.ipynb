{
 "cells": [
  {
   "cell_type": "markdown",
   "id": "c74f7111-1b6c-4454-9770-3f67eeadaca6",
   "metadata": {},
   "source": [
    "# Aggregate events from different indexes\n",
    "\n",
    "[![Open in Colab](https://colab.research.google.com/assets/colab-badge.svg)](https://colab.research.google.com/github/google/temporian/blob/last-release/docs/src/recipes/aggregate_index.ipynb)\n",
    "\n",
    "This recipe applies when you have events indexed by one or more features, and you want to drop some index levels and unify the events with the same timestamps.\n",
    "\n",
    "In this example, we aggregate daily sales by store and product, into daily revenue for each individual store (i.e., the total sales for each day)."
   ]
  },
  {
   "cell_type": "markdown",
   "id": "369d0511-8898-4135-b2bc-69f0ad5a2bd9",
   "metadata": {},
   "source": [
    "## Example data\n",
    "\n",
    "Let's define 2 stores, each one with 2 products. The product IDs might be the same across stores or not.\n",
    "\n",
    "For each store/product, we'll create the sales (in USD) for the same 3 days (1, 2 and 3 of January, 2020)."
   ]
  },
  {
   "cell_type": "code",
   "execution_count": null,
   "id": "07b25e47-8b27-4dab-baa3-c9b75745372f",
   "metadata": {},
   "outputs": [],
   "source": [
    "import pandas as pd\n",
    "import temporian as tp\n",
    "\n",
    "\n",
    "sales_data = pd.DataFrame(\n",
    "    data=[\n",
    "        # date,    store ID (1),  product ID, sales (USD)  \n",
    "        [\"2020-01-01\", \"store_1\", \"product_1\", 300.0],\n",
    "        [\"2020-01-02\", \"store_1\", \"product_1\", 450.0],\n",
    "        [\"2020-01-03\", \"store_1\", \"product_1\", 600.0],\n",
    "        [\"2020-01-01\", \"store_1\", \"product_2\", 100.0],\n",
    "        [\"2020-01-02\", \"store_1\", \"product_2\", 250.0],\n",
    "        [\"2020-01-03\", \"store_1\", \"product_2\", 100.0],\n",
    "        # date,    store ID (2),  product ID, sales (USD)  \n",
    "        [\"2020-01-01\", \"store_2\", \"product_1\", 900.0],\n",
    "        [\"2020-01-02\", \"store_2\", \"product_1\", 750.0],\n",
    "        [\"2020-01-03\", \"store_2\", \"product_1\", 750.0],\n",
    "        [\"2020-01-01\", \"store_2\", \"product_3\", 20.0],\n",
    "        [\"2020-01-02\", \"store_2\", \"product_3\", 40.0],\n",
    "        [\"2020-01-03\", \"store_2\", \"product_3\", 30.0],\n",
    "    ],\n",
    "    columns=[\n",
    "        \"timestamp\",\n",
    "        \"store_id\",\n",
    "        \"product_id\",\n",
    "        \"sales_usd\",\n",
    "    ],\n",
    ")\n",
    "\n",
    "# Load data indexed by store/product\n",
    "sales_evset = tp.from_pandas(sales_data, indexes=[\"store_id\", \"product_id\"])\n",
    "sales_evset.plot()"
   ]
  },
  {
   "cell_type": "markdown",
   "id": "278d15bf-a58e-4ad0-a44c-272ff449150c",
   "metadata": {},
   "source": [
    "## Solution\n",
    "We want to aggregate all product sales per store, so this is what we can do:\n",
    "1. Drop the `product_id` index, and ignore it.\n",
    "2. Unify sales with the same timestamp and same store, adding them up.\n",
    "\n",
    "### 1. Drop index\n",
    "\n",
    "We don't care about the different `product_id` that we're adding up in each store."
   ]
  },
  {
   "cell_type": "code",
   "execution_count": null,
   "id": "0b54eb39-7e38-479b-b926-40b12dd48a92",
   "metadata": {},
   "outputs": [],
   "source": [
    "store_sales = sales_evset.drop_index(\"product_id\")\n",
    "\n",
    "store_sales[\"sales_usd\"].plot()"
   ]
  },
  {
   "cell_type": "markdown",
   "id": "d810d461-631d-4453-9ae1-0352024427a7",
   "metadata": {},
   "source": [
    "As you can see, now we've each timestamp duplicated, one for each product.\n",
    "\n",
    "### 2. Unify events\n",
    "\n",
    "We want to unify the events with the same timestamps, adding up their sales."
   ]
  },
  {
   "cell_type": "code",
   "execution_count": null,
   "id": "5f28343c-d3f1-48df-8f1e-0fd4ee58505e",
   "metadata": {},
   "outputs": [],
   "source": [
    "unique_days = store_sales.unique_timestamps()\n",
    "\n",
    "store_daily_sales = store_sales[\"sales_usd\"].moving_sum(window_length=tp.duration.days(1), sampling=unique_days)\n",
    "\n",
    "store_daily_sales.plot()"
   ]
  },
  {
   "cell_type": "code",
   "execution_count": null,
   "id": "f3a9c6e6-5cba-4950-900f-1878e87a98be",
   "metadata": {},
   "outputs": [],
   "source": []
  }
 ],
 "metadata": {
  "kernelspec": {
   "display_name": "Python 3 (ipykernel)",
   "language": "python",
   "name": "python3"
  },
  "language_info": {
   "codemirror_mode": {
    "name": "ipython",
    "version": 3
   },
   "file_extension": ".py",
   "mimetype": "text/x-python",
   "name": "python",
   "nbconvert_exporter": "python",
   "pygments_lexer": "ipython3",
   "version": "3.10.4"
  }
 },
 "nbformat": 4,
 "nbformat_minor": 5
}
