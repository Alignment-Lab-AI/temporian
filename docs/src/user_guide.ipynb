{
 "cells": [
  {
   "cell_type": "markdown",
   "metadata": {},
   "source": [
    "# User Guide\n",
    "This is a complete tour of Temporian's capabilities. For a brief introduction to how the library works, please refer to [3 minutes to Temporian](./3_minutes).\n",
    "## What is temporal data?\n",
    "For Temporian, temporal data is a **multivariate and multi-index time sequence**: an extension of multivariate time-series to non-uniform and hierarchically-structured data. This allows for representing time series, but also other common time data such as transactions, logs, sparse events, asynchronous measurements, or hierarchical records. Temporian unifies all of those into a powerful and concise framework.\n",
    "<!-- TODO: add plot -->\n",
    "## Events and EventSets\n",
    "The most basic unit of data in Temporian is referred to as an _event_. An event consists of a timestamp and a set of feature values.\n",
    "Here is an example of an event:\n",
    "```\n",
    "timestamp: 05-02-2023\n",
    "feature_1: 0.5\n",
    "feature_2: \"red\"\n",
    "feature_3: 10\n",
    "```\n",
    "Events are not handled individually. Instead, events are grouped together into **[`EventSets`][temporian.EventSet]**. When representing an [`EventSet`][temporian.EventSet], it is convenient to group similar features together and to sort them according to the timestamps in increasing order.\n",
    "Here is an example of an [`EventSet`][temporian.EventSet] containing four events, each with three features:\n",
    "```\n",
    "timestamp: [04-02-2023, 06-02-2023, 07-02-2023, 07-02-2023]\n",
    "feature_1: [0.5, 0.6, NaN, 0.9]\n",
    "feature_2: [\"red\", \"blue\", \"red\", \"blue\"]\n",
    "feature_3:  [10, -1, 5, 5]\n",
    "```\n",
    "**Remarks:**\n",
    "- All values for a given feature are of the same data type. For instance, `feature_1` is float64 while `feature_2` is a string.\n",
    "- The value NaN (for _not a number_) indicates that a value is missing.\n",
    "- Timestamps are not necessarily uniformly sampled.\n",
    "- The same timestamp can be repeated.\n",
    "In the next code examples, variables with names like `evset` refer to an [`EventSet`][temporian.EventSet].\n",
    "You can create an [`EventSet`][temporian.EventSet] as follows:"
   ]
  },
  {
   "cell_type": "code",
   "execution_count": null,
   "metadata": {},
   "outputs": [],
   "source": [
    "import temporian as tp\n",
    "import pandas as pd\n",
    "import numpy as np\n",
    "\n",
    "evset = tp.event_set(\n",
    "\ttimestamps=[\"2023-02-04\",\"2023-02-06\",\"2023-02-07\",\"2023-02-07\"],\n",
    "\tfeatures={\n",
    "        \"feature_1\": [0.5, 0.6, np.nan, 0.9],\n",
    "        \"feature_2\": [\"red\", \"blue\", \"red\", \"blue\"],\n",
    "        \"feature_3\":  [10, -1, 5, 5],\n",
    "\t}\n",
    ")"
   ]
  },
  {
   "cell_type": "markdown",
   "metadata": {},
   "source": [
    "[`EventSets`][temporian.EventSet] can be printed."
   ]
  },
  {
   "cell_type": "code",
   "execution_count": null,
   "metadata": {},
   "outputs": [],
   "source": [
    "print(evset)"
   ]
  },
  {
   "cell_type": "markdown",
   "metadata": {},
   "source": [
    "[`EventSets`][temporian.EventSet] can be plotted."
   ]
  },
  {
   "cell_type": "code",
   "execution_count": null,
   "metadata": {},
   "outputs": [],
   "source": [
    "evset.plot()"
   ]
  },
  {
   "cell_type": "markdown",
   "metadata": {},
   "source": [
    "**Note:** You'll learn how to create an [`EventSet`][temporian.EventSet] using other data sources such as pandas DataFrames later.\n",
    "Events can carry various meanings. For instance, events can represent **regular measurements**. Suppose an electronic thermometer that generates temperature measurements every minute. This could be an [`EventSet`][temporian.EventSet] with one feature called `temperature`. In this scenario, the temperature can change between two measurements. However, for most practical uses, the most recent measurement will be considered the current temperature.\n",
    "<!-- TODO: Temperature plot -->\n",
    "Events can also represent the _occurrence_ of sporadic phenomena. Suppose a sales recording system that records client purchases. Each time a client makes a purchase (i.e., each transaction), a new event is created.\n",
    "<!-- TODO: Sales plot -->\n",
    "You will see that Temporian is agnostic to the semantics of events, and that often, you will mix together measurements and occurrences. For instance, given the _occurrence_ of sales from the previous example, you can compute daily sales (which is a _measurement_).\n",
    "## Graph and Operators\n",
    "Processing operations are performed by **Operators**. For instance, the [`tp.simple_moving_average()`][temporian.simple_moving_average] operator computes the [simple moving average](https://en.wikipedia.org/wiki/Moving_average) of each feature in an [`EventSet`][temporian.EventSet].\n",
    "Operators are not executed individually, but rather combined to form an operator **Graph**. A graph takes one or multiple [`EventSets`][temporian.EventSet] as input and produces one or multiple [`EventSets`][temporian.EventSet] as output. Graphs can contain an arbitrary number of operators, which can consume the output of other operators as input. You can see a graph as a computation graph where [`Nodes`][temporian.Node] are operators.\n",
    "<!-- TODO: Graph plot -->\n",
    "Let's see how to compute the simple moving average of two features `feature_1` and `feature_2` using two different window lengths, and then sum the results:"
   ]
  },
  {
   "cell_type": "code",
   "execution_count": null,
   "metadata": {},
   "outputs": [],
   "source": [
    "# Define the input of the graph.\n",
    "a_node = tp.input_node(\n",
    "    features=[\n",
    "        (\"feature_1\", tp.float64),\n",
    "        (\"feature_2\", tp.float64),\n",
    "    ],\n",
    "    indexes=[(\"feature_3\", tp.str_)],\n",
    "    name=\"a\",\n",
    ")\n",
    "\n",
    "# Define the operators in the graph.\n",
    "b_node = tp.simple_moving_average(a_node, window_length=5)\n",
    "c_node = tp.simple_moving_average(a_node, window_length=10)\n",
    "d_node = b_node + c_node\n",
    "\n",
    "# Create an EventSet compatible with the graph.\n",
    "a_evset = tp.event_set(\n",
    "\ttimestamps=[0, 1, 2, 3, 4, 5, 6, 7, 8, 9],\n",
    "\tfeatures={\n",
    "        \"feature_1\": [1.0, 2.0, 3.0, 4.0, 2.0, 3.0, 4.0, 5.0, 6.0, 3.0],\n",
    "        \"feature_2\": [54.0, 23.0, 53.0, 12.0, 12.0, 32.0, 23.0, 12.0, 2.0, 4.0],\n",
    "        \"feature_3\": [\"i1\", \"i1\", \"i1\", \"i1\", \"i1\", \"i2\", \"i2\", \"i2\", \"i2\", \"i2\",],\n",
    "\t},\n",
    "    indexes=[\"feature_3\"],\n",
    "    name=\"a\",\n",
    ")\n",
    "\n",
    "# Feed the EventSet to the graph. The result is also an EventSet.\n",
    "d_evset = tp.run(d_node, {a_node: a_evset})\n",
    "\n",
    "# Print the result.\n",
    "print(d_evset)"
   ]
  },
  {
   "cell_type": "markdown",
   "metadata": {},
   "source": [
    "The [`tp.run()`][temporian.run] function's signature is `tp.run(<outputs>, <inputs>)`.\n",
    "The `<outputs>` can be specified as a [`Node`][temporian.Node], a list of [`Nodes`][temporian.Node], or a dictionary of names to [`Nodes`][temporian.Node], and the result of [`tp.run()`][temporian.run] will be of the same type. For example, if `<outputs>` is a list of three [`Nodes`][temporian.Node], the result will be a list of the three corresponding [`EventSets`][temporian.EventSet].\n",
    "The `<inputs>` can be specified as a dictionary of [`Nodes`][temporian.Node] to [`EventSets`][temporian.EventSet], a dictionary of names to [`EventSets`][temporian.EventSet], a list of [`EventSets`][temporian.EventSet] or a single [`EventSet`][temporian.EventSet], which lets Temporian know the [`Nodes`][temporian.Node] of the graph that each input [`EventSet`][temporian.EventSet] corresponds to. In the case of a dictionary of names to [`EventSets`][temporian.EventSet], the names must match the names of [`Nodes`][temporian.Node] in the graph, and in the case of a list or single [`EventSet`][temporian.EventSet], the names of those [`EventSets`][temporian.EventSet] must do the same. If we specify the inputs as a dictionary, we could skip passing a name to `a_evset`.\n",
    "**Remarks:**\n",
    "- It's important to distinguish between _[`EventSets`][temporian.EventSet]_, such as `a_evset`, that contain data, and _[`Nodes`][temporian.Node]_, like `a_node` and `b_node`, that connect operators together and compose the computation graph, but do not contain data.\n",
    "- No computation is performed when defining the graph (i.e., when calling the operator functions). All computation is done during [`tp.run()`][temporian.run].\n",
    "- In [`tp.run()`][temporian.run], the second argument defines a mapping between input [`Nodes`][temporian.Node] and [`EventSets`][temporian.EventSet]. If all necessary input [`Nodes`][temporian.Node] are not fed, an error will be raised.\n",
    "- In most cases you will only pass [`EventSets`][temporian.EventSet] that correspond to the graph's input [`Nodes`][temporian.Node], but Temporian also supports passing [`EventSets`][temporian.EventSet] to intermediate [`Nodes`][temporian.Node] in the graph. In the example provided, `a_node` is fed, but we could also feed `b_node` and `c_node`. In that case we would not need to feed `a_node`, since no [`Nodes`][temporian.Node] need to be computed from it anymore.\n",
    "To simplify its usage when the graph contains a single output [`Node`][temporian.Node], `node.run(...)` is equivalent to `tp.run(node, ...)`."
   ]
  },
  {
   "cell_type": "code",
   "execution_count": null,
   "metadata": {},
   "outputs": [],
   "source": [
    "# These statements are equivalent.\n",
    "d_evset = tp.run(d_node, {a_node: a_evset})\n",
    "d_evset = d_node.run({a_node: a_evset})"
   ]
  },
  {
   "cell_type": "markdown",
   "metadata": {},
   "source": [
    "<!-- TODO\n",
    "# Not implemented yet:\n",
    "# d_evset = tp.run(d_node, {\"a\": a_evset})\n",
    "# d_evset = tp.run(d_node, [a_evset])\n",
    "# d_evset = tp.run(d_node, a_evset)\n",
    "# d_evset = d_node.run({\"a\": a_evset})\n",
    "# d_evset = d_node.run([a_evset])\n",
    "# d_evset = d_node.run(a_evset)\n",
    "-->\n",
    "**Warning:** It is more efficient to run multiple output [`Nodes`][temporian.Node] together with [`tp.run()`][temporian.run] than to run them separately with `node_1.run(...)`, `node_2.run(...)`, etc. Only use [`node.run()`][temporian.Node.run] for debugging purposes or when you only have a single output [`Node`][temporian.Node].\n",
    "\n",
    "## Creating a Node from an EventSet\n",
    "Previously, we defined the input of the graph `a_node` with [`tp.input_node()`][temporian.input_node]. This way of listing features manually and their respective data type is cumbersome.\n",
    "If an [`EventSet`][temporian.EventSet] is available (i.e., data is available) this step can be changed to use `evset.node()` instead, which will return a [`Node`][temporian.Node] that is compatible with it. This is especially useful when creating [`EventSets`][temporian.EventSet] from existing data, such as pandas DataFrames or CSV files."
   ]
  },
  {
   "cell_type": "code",
   "execution_count": null,
   "metadata": {},
   "outputs": [],
   "source": [
    "# Define an EventSet.\n",
    "a_evset = tp.event_set(\n",
    "\ttimestamps=[0, 1, 2, 3, 4, 5, 6, 7, 8, 9],\n",
    "\tfeatures={\n",
    "        \"feature_1\": [1.0, 2.0, 3.0, 4.0, 2.0, 3.0, 4.0, 5.0, 6.0, 3.0],\n",
    "        \"feature_2\": [54, 23, 53, 12, 12, 32, 23, 12, 2, 4],\n",
    "\t},\n",
    "    name=\"a\",\n",
    ")\n",
    "\n",
    "# Define the input of a graph using an existing EventSet.\n",
    "# This line is equivalent to the `tp.input_node` line above.\n",
    "a_node = a_evset.node()\n",
    "\n",
    "# Define operators and run the graph as above."
   ]
  },
  {
   "cell_type": "markdown",
   "metadata": {},
   "source": [
    "## Time units\n",
    "In Temporian, times are always represented by a float64 value. Users have the freedom to choose the semantic to this value. For example, the time can be the number of nanoseconds since the start of the day, the number of cycles of a process, the number of years since the big bang, or the number of seconds since January 1, 1970, at 00:00:00 UTC, also known as Unix or POSIX time.\n",
    "To ease the feature engineering of dates, Temporian contains a set of _calendar operators_. These operators specialize in creating features from dates and datetimes. For instance, the [`tp.calendar_hour()`][temporian.calendar_hour] operator returns the hour of the date in the range `0-23`.\n",
    "Calendar operators require the time in their inputs to be Unix time, so applying them on non-Unix timestamps will raise errors. Temporian can sometimes automatically recognize if input timestamps correspond to Unix time (e.g. when an [`EventSet`][temporian.EventSet] is created from a pandas DataFrame with a datetime column, or when passing a list of datetime objects as timestamps in [`EventSet`][temporian.EventSet]'s constructor). If creating [`EventSets`][temporian.EventSet] manually and passing floats directly to `timestamps`, you need to explicitly specify whether they correspond to Unix times or not via the `is_unix_timestamp` argument."
   ]
  },
  {
   "cell_type": "code",
   "execution_count": null,
   "metadata": {},
   "outputs": [],
   "source": [
    "a_evset = tp.event_set(\n",
    "    timestamps=[\n",
    "        pd.to_datetime(\"Monday Mar 13 12:00:00 2023\", utc=True),\n",
    "        pd.to_datetime(\"Tuesday Mar 14 12:00:00 2023\", utc=True),\n",
    "        pd.to_datetime(\"Friday Mar 17 00:00:01 2023\", utc=True),\n",
    "    ],\n",
    "    features={\n",
    "        \"feature_1\": [1, 2, 3],\n",
    "        \"feature_2\": [\"a\", \"b\", \"c\"],\n",
    "    },\n",
    ")\n",
    "a_node = a_evset.node()\n",
    "b_node = tp.glue(a_node, tp.calendar_day_of_week(a_node))\n",
    "b_node.run(a_evset)"
   ]
  },
  {
   "cell_type": "markdown",
   "metadata": {},
   "source": [
    "Temporian accepts time inputs in various formats, including integer, float, Python date or datetime, NumPy datetime, and pandas datetime. Date and datetime objects are internally converted to floats as Unix time in seconds, compatible with the calendar operators.\n",
    "Operators can take _durations_ as input arguments. For example, the simple moving average operator takes a `window_length` argument. Temporian exposes several utility functions to help creating those duration arguments when using Unix timestamps:"
   ]
  },
  {
   "cell_type": "code",
   "execution_count": null,
   "metadata": {},
   "outputs": [],
   "source": [
    "a = tp.input_node(features=[(\"feature_1\", tp.float64)])\n",
    "\n",
    "# Define a 1-day moving average.\n",
    "b = tp.simple_moving_average(a, window_length=tp.duration.days(1))\n",
    "\n",
    "# Equivalent.\n",
    "b = tp.simple_moving_average(a, window_length=24 * 60 * 60)"
   ]
  },
  {
   "cell_type": "markdown",
   "metadata": {},
   "source": [
    "## Plotting\n",
    "Data visualization is crucial for gaining insights into data and the system it represents. It also helps in detecting unexpected behavior and issues, making debugging and iterative development easier.\n",
    "Temporian provides two plotting functions for data visualization: [`evset.plot()`][temporian.EventSet.plot] and [`tp.plot()`][temporian.plot].\n",
    "The [`evset.plot()`][temporian.EventSet.plot] function is shorter to write and is used for displaying a single [`EventSet`][temporian.EventSet], while the [`tp.plot()`][temporian.plot] function is used for displaying multiple [`EventSets`][temporian.EventSet] together. This function is particularly useful when [`EventSets`][temporian.EventSet] are indexed (see [Index, horizontal and vertical operators](#indexes-horizontal-and-vertical-operators)) or have different samplings (see [Sampling](#sampling)).\n",
    "Here's an example of using the [`evset.plot()`][temporian.EventSet.plot] function:"
   ]
  },
  {
   "cell_type": "code",
   "execution_count": null,
   "metadata": {},
   "outputs": [],
   "source": [
    "evset = tp.event_set(\n",
    "\ttimestamps=[1, 2, 3, 4, 5],\n",
    "\tfeatures={\n",
    "        \"feature_1\": [0.5, 0.6, 0.4, 0.4, 0.9],\n",
    "        \"feature_2\": [\"red\", \"blue\", \"red\", \"blue\", \"green\"]\n",
    "    }\n",
    ")\n",
    "evset.plot()"
   ]
  },
  {
   "cell_type": "markdown",
   "metadata": {},
   "source": [
    "By default, the plotting style is selected automatically based on the data.\n",
    "For example, uniformly sampled numerical features (i.e., time series) are plotted with a continuous line, while non-uniformly sampled values are plotted with markers. Those and other behaviors can be controlled via the function's arguments.\n",
    "Here's an example of using the `evset.plot()` function with options:"
   ]
  },
  {
   "cell_type": "code",
   "execution_count": null,
   "metadata": {},
   "outputs": [],
   "source": [
    "figure = evset.plot(\n",
    "    style=\"marker\",\n",
    "    width_px=400,\n",
    "    min_time=2,\n",
    "    max_time=10,\n",
    "    return_fig=True,\n",
    ")"
   ]
  },
  {
   "cell_type": "markdown",
   "metadata": {},
   "source": [
    "The plots are static images by default. However, interactive plotting can be very powerful. To enable interactive plotting, use `interactive=True`. Note that interactive plotting requires the `bokeh` Python library to be installed."
   ]
  },
  {
   "cell_type": "code",
   "execution_count": null,
   "metadata": {},
   "outputs": [],
   "source": [
    "!pip install bokeh -q"
   ]
  },
  {
   "cell_type": "code",
   "execution_count": null,
   "metadata": {},
   "outputs": [],
   "source": [
    "evset.plot(interactive=True, width_px=500)"
   ]
  },
  {
   "cell_type": "markdown",
   "metadata": {},
   "source": [
    "## Feature naming\n",
    "Each feature is identified by a name, and the list of features is available through the `features` property of a [`Node`][temporian.Node]."
   ]
  },
  {
   "cell_type": "code",
   "execution_count": null,
   "metadata": {},
   "outputs": [],
   "source": [
    "events = tp.event_set(\n",
    "\ttimestamps=[1,2,3,4,5],\n",
    "\tfeatures={\n",
    "\t    \"feature_1\": [0.5, 0.6, 0.4, 0.4, 0.9],\n",
    "\t    \"feature_2\": [1.0, 2.0, 3.0, 2.0, 1.0]}\n",
    "    )\n",
    "node = events.node()\n",
    "print(node.features)"
   ]
  },
  {
   "cell_type": "markdown",
   "metadata": {},
   "source": [
    "Most operators do not change the input feature's names."
   ]
  },
  {
   "cell_type": "code",
   "execution_count": null,
   "metadata": {},
   "outputs": [],
   "source": [
    "tp.moving_sum(node, window_length=10).features"
   ]
  },
  {
   "cell_type": "markdown",
   "metadata": {},
   "source": [
    "Some operators combine two input features with different names, in which case the output name is also combined."
   ]
  },
  {
   "cell_type": "code",
   "execution_count": null,
   "metadata": {},
   "outputs": [],
   "source": [
    "result = node[\"feature_1\"] * node[\"feature_2\"]\n",
    "result.features"
   ]
  },
  {
   "cell_type": "markdown",
   "metadata": {},
   "source": [
    "The calendar operators don't depend on input features but on the timestamps, so the output feature name doesn't\n",
    "relate to the input feature names."
   ]
  },
  {
   "cell_type": "code",
   "execution_count": null,
   "metadata": {},
   "outputs": [],
   "source": [
    "date_events = tp.event_set(\n",
    "\ttimestamps=[\"2020-02-15\", \"2020-06-20\"],\n",
    "\tfeatures={\"some_feature\": [10, 20]}\n",
    "    )\n",
    "date_node = date_events.node()\n",
    "print(tp.calendar_month(date_node).features)"
   ]
  },
  {
   "cell_type": "markdown",
   "metadata": {},
   "source": [
    "You can modify feature names using the [`tp.rename()`][temporian.rename] and [`tp.prefix()`][temporian.prefix] operators. [`tp.rename()`][temporian.rename] changes the name of features, while [`tp.prefix()`][temporian.prefix] adds a prefix in front of existing feature names. Note that they do not modify the content of the input [`Node`][temporian.Node], but return a new [`Node`][temporian.Node] with the modified feature names."
   ]
  },
  {
   "cell_type": "code",
   "execution_count": null,
   "metadata": {},
   "outputs": [],
   "source": [
    "# Rename a single feature.\n",
    "renamed_f1 = tp.rename(node[\"feature_1\"], \"renamed_1\")\n",
    "print(renamed_f1.features)"
   ]
  },
  {
   "cell_type": "code",
   "execution_count": null,
   "metadata": {},
   "outputs": [],
   "source": [
    "# Rename all features.\n",
    "renamed_node = tp.rename(node,\n",
    "    {\"feature_1\": \"renamed_1\", \"feature_2\": \"renamed_2\"}\n",
    ")\n",
    "print(renamed_node.features)"
   ]
  },
  {
   "cell_type": "markdown",
   "metadata": {},
   "source": []
  },
  {
   "cell_type": "code",
   "execution_count": null,
   "metadata": {},
   "outputs": [],
   "source": [
    "# Prefix a single feature.\n",
    "prefixed_f1 = tp.prefix(\"prefixed.\", node[\"feature_1\"])\n",
    "print(prefixed_f1.features)"
   ]
  },
  {
   "cell_type": "code",
   "execution_count": null,
   "metadata": {},
   "outputs": [],
   "source": [
    "# Prefix all features.\n",
    "prefixed_node = tp.prefix(\"prefixed.\", node)\n",
    "print(prefixed_node.features)"
   ]
  },
  {
   "cell_type": "markdown",
   "metadata": {},
   "source": [
    "It is recommended to use [`tp.rename()`][temporian.rename] and [`tp.prefix()`][temporian.prefix] to organize your data, and avoid duplicated feature names."
   ]
  },
  {
   "cell_type": "code",
   "execution_count": null,
   "metadata": {},
   "outputs": [],
   "source": [
    "sma_7_node = tp.prefix(\"sma_7.\", tp.simple_moving_average(node, tp.duration.days(7)))\n",
    "sma_14_node = tp.prefix(\"sma_14.\", tp.simple_moving_average(node, tp.duration.days(14)))"
   ]
  },
  {
   "cell_type": "markdown",
   "metadata": {},
   "source": [
    "The [`tp.glue()`][temporian.glue] operator can be used to concatenate different features into a single [`Node`][temporian.Node], but it will fail if two features with the same name are provided. The following pattern is commonly used in Temporian programs."
   ]
  },
  {
   "cell_type": "code",
   "execution_count": null,
   "metadata": {},
   "outputs": [],
   "source": [
    "result = tp.glue(\n",
    "    tp.prefix(\"sma_7.\", tp.simple_moving_average(node, tp.duration.days(7))),\n",
    "    tp.prefix(\"sma_14.\", tp.simple_moving_average(node, tp.duration.days(14))),\n",
    ")"
   ]
  },
  {
   "cell_type": "markdown",
   "metadata": {},
   "source": [
    "## Casting\n",
    "Temporian is strict on feature data types (also called dtype). This means that often, you cannot perform operations between features of different types. For example, you cannot subtract a `tp.float32` and a `tp.float64`. Instead, you must manually cast the features to the same type before performing the operation."
   ]
  },
  {
   "cell_type": "code",
   "execution_count": null,
   "metadata": {},
   "outputs": [],
   "source": [
    "node = tp.input_node(features=[(\"f1\", tp.float32), (\"f2\", tp.float64)])\n",
    "added = tp.cast(node[\"f1\"], tp.float64) + node[\"f2\"]"
   ]
  },
  {
   "cell_type": "markdown",
   "metadata": {},
   "source": [
    "Casting is especially useful to reduce memory usage. For example, if a feature only contains values between 0 and 10000, using `tp.int32` instead of `tp.int64` will halve memory usage. These optimizations are critical when working with large datasets.\n",
    "Casting can also be a necessary step before calling operators that only accept certain input data types.\n",
    "Note that in Python, the values `1.0` and `1` are respectively `float64` and `int64`.\n",
    "Temporian supports data type casting through the [`tp.cast()`][temporian.cast] operator. Destination data types can be specified in three different ways:\n",
    "1. Single data type: converts all input features to the same destination data type."
   ]
  },
  {
   "cell_type": "code",
   "execution_count": null,
   "metadata": {},
   "outputs": [],
   "source": [
    "node.features"
   ]
  },
  {
   "cell_type": "code",
   "execution_count": null,
   "metadata": {},
   "outputs": [],
   "source": [
    "print(tp.cast(node, tp.str_).features)"
   ]
  },
  {
   "cell_type": "markdown",
   "metadata": {},
   "source": [
    "2. Feature name to data type mapping: converts each feature (specified by name) to a specific data type."
   ]
  },
  {
   "cell_type": "code",
   "execution_count": null,
   "metadata": {},
   "outputs": [],
   "source": [
    "print(tp.cast(node, {\"f1\": tp.str_, \"f2\": tp.int64}).features)"
   ]
  },
  {
   "cell_type": "markdown",
   "metadata": {},
   "source": [
    "3. Data type to data type mapping: converts all features of a specific data type to another data type."
   ]
  },
  {
   "cell_type": "code",
   "execution_count": null,
   "metadata": {},
   "outputs": [],
   "source": [
    "print(tp.cast(node, {tp.float32: tp.str_, tp.float64: tp.int64}).features)"
   ]
  },
  {
   "cell_type": "markdown",
   "metadata": {},
   "source": [
    "Keep in mind that casting may fail when the graph is evaluated. For instance, attempting to cast `\"word\"` to `tp.float64` will result in an error. These errors cannot be caught prior to graph evaluation.\n",
    "## Arithmetic operators\n",
    "Arithmetic operators can be used between the features of a [`Node`][temporian.Node], to perform element-wise calculations.\n",
    "Common mathematical and bit operations are supported, such as addition (`+`), subtraction (`-`), product (`*`), division (`/`), floor division (`//`), modulo (`%`), comparisons (`>, >=, <, <=`), and bitwise operators (`&, |, ~`).\n",
    "These operators are applied index-wise and timestamp-wise, between features in the same position."
   ]
  },
  {
   "cell_type": "code",
   "execution_count": null,
   "metadata": {},
   "outputs": [],
   "source": [
    "evset = tp.event_set(\n",
    "    timestamps=[1, 10],\n",
    "    features={\n",
    "        \"f1\": [0, 1],\n",
    "        \"f2\": [10.0, 20.0],\n",
    "        \"f3\": [100, 100],\n",
    "        \"f4\": [1000.0, 1000.0],\n",
    "    },\n",
    ")\n",
    "node = evset.node()\n",
    "\n",
    "node_added = node[[\"f1\", \"f2\"]] + node[[\"f3\", \"f4\"]]\n",
    "\n",
    "evset_added = node_added.run(evset)\n",
    "print(evset_added)"
   ]
  },
  {
   "cell_type": "markdown",
   "metadata": {},
   "source": [
    "Note that features of type `int64` and `float64` are not mixed above, because otherwise the operation would fail without an explicit type cast."
   ]
  },
  {
   "cell_type": "markdown",
   "metadata": {},
   "source": [
    "```python\n",
    "# Attempt to mix dtypes.\n",
    ">>> node[\"f1\"] + node[\"f2\"]\n",
    "Traceback (most recent call last):\n",
    "...\n",
    "ValueError: corresponding features should have the same dtype. ...\n",
    "```"
   ]
  },
  {
   "cell_type": "markdown",
   "metadata": {},
   "source": [
    "Refer to the [Casting](#casting) section for more on this.\n",
    "All the operators have an equivalent functional form. The example above using `+`, could be rewritten with [`tp.add()`][temporian.add]."
   ]
  },
  {
   "cell_type": "code",
   "execution_count": null,
   "metadata": {},
   "outputs": [],
   "source": [
    "# Equivalent.\n",
    "node_added = tp.add(node[[\"f1\", \"f2\"]], node[[\"f3\", \"f4\"]])"
   ]
  },
  {
   "cell_type": "markdown",
   "metadata": {},
   "source": [
    "Other usual comparison and logic operators also work (except `==`, see below)."
   ]
  },
  {
   "cell_type": "code",
   "execution_count": null,
   "metadata": {},
   "outputs": [],
   "source": [
    "is_greater = node[[\"f1\", \"f2\"]] > node[[\"f3\", \"f4\"]]\n",
    "is_less_or_equal = node[[\"f1\", \"f2\"]] <= node[[\"f3\", \"f4\"]]\n",
    "is_wrong = is_greater & is_less_or_equal"
   ]
  },
  {
   "cell_type": "markdown",
   "metadata": {},
   "source": [
    "**Warning:** The Python equality operator (`==`) does not compute element-wise equality between features. Use the [`tp.equal()`][temporian.equal] operator instead."
   ]
  },
  {
   "cell_type": "code",
   "execution_count": null,
   "metadata": {},
   "outputs": [],
   "source": [
    "# Works element-wise as expected\n",
    "tp.equal(node[\"f1\"], node[\"f3\"])"
   ]
  },
  {
   "cell_type": "code",
   "execution_count": null,
   "metadata": {},
   "outputs": [],
   "source": [
    "# This is just a boolean\n",
    "(node[\"f1\"] == node[\"f3\"])\n",
    "False"
   ]
  },
  {
   "cell_type": "markdown",
   "metadata": {},
   "source": [
    "All these operators act feature-wise, i.e. they perform index-feature-wise operations (for each feature in each index key). This implies that the input [`Nodes`][temporian.Node] must have the same number of features."
   ]
  },
  {
   "cell_type": "markdown",
   "metadata": {},
   "source": [
    "```python\n",
    "node[[\"f1\", \"f2\"]] + node[\"f3\"]\n",
    "Traceback (most recent call last):\n",
    "...\n",
    "ValueError: The left and right arguments should have the same number of features. ...\n",
    "```"
   ]
  },
  {
   "cell_type": "markdown",
   "metadata": {},
   "source": [
    "The input [`Nodes`][temporian.Node] must also have the same sampling and index."
   ]
  },
  {
   "cell_type": "markdown",
   "metadata": {},
   "source": [
    "```python\n",
    "sampling_1 = tp.event_set(\n",
    "timestamps=[0, 1],\n",
    "features={\"f1\": [1, 2]},\n",
    ")\n",
    "sampling_2 = tp.event_set(\n",
    "timestamps=[1, 2],\n",
    "features={\"f1\": [3, 4]},\n",
    ")\n",
    "sampling_1.node() + sampling_2.node()\n",
    "Traceback (most recent call last):\n",
    "...\n",
    "ValueError: Arguments should have the same sampling. ...\n",
    "```"
   ]
  },
  {
   "cell_type": "markdown",
   "metadata": {},
   "source": [
    "If you want to apply arithmetic operators on [`Nodes`][temporian.Node] with different samplings, take a look at\n",
    "[Sampling](#sampling) section.\n",
    "If you want to apply them on [`Nodes`][temporian.Node] with different indexes, check the\n",
    "[Vertical operators](#indexes-horizontal-and-vertical-operators) section.\n",
    "Operations involving scalars are applied index-feature-element-wise."
   ]
  },
  {
   "cell_type": "code",
   "execution_count": null,
   "metadata": {},
   "outputs": [],
   "source": [
    "node_scalar = node * 10\n",
    "print(node_scalar.run(evset))"
   ]
  },
  {
   "cell_type": "markdown",
   "metadata": {},
   "source": [
    "## Sampling\n",
    "Arithmetic operators, such as [`tp.add()`][temporian.add], require their input arguments to have the same timestamps and [Index](#indexes-horizontal-and-vertical-operators). The unique combination of timestamps and indexes is called a _sampling_.\n",
    "<!-- TODO: example -->\n",
    "For example, if [`Nodes`][temporian.Node] `a` and `b` have different samplings, `a[\"feature_1\"] + b[\"feature_2\"]` will fail.\n",
    "To use arithmetic operators on [`EventSets`][temporian.EventSet] with different samplings, one of the [`EventSets`][temporian.EventSet] needs to be resampled to the sampling of the other [`EventSet`][temporian.EventSet]. Resampling is done with the [`tp.resample()`][temporian.resample] operator.\n",
    "The [`tp.resample()`][temporian.resample] operator takes two [`EventSets`][temporian.EventSet] called `input` and `sampling`, and returns the resampling of the features of `input` according to the timestamps of `sampling` according to the following rules:\n",
    "If a timestamp is present in `input` but not in `sampling`, the timestamp is dropped.\n",
    "If a timestamp is present in both `input` and `sampling`, the timestamp is kept.\n",
    "If a timestamp is present in `sampling` but not in `input`, a new timestamp is created using the feature values from the _closest anterior_ (not the closest, as that could induce future leakage) timestamp of `input`. This rule is especially useful for events that represent measurements (see [Events and [`EventSets`][temporian.EventSet]](#events-and-eventsets)).\n",
    "**Note:** Features in `sampling` are ignored. This also happens in some other operators that take a `sampling` argument of type [`Node`][temporian.Node] - it indicates that only the sampling (a.k.a. the indexes and timestamps) of that [`Node`][temporian.Node] are being used by that operator.\n",
    "Given this example:"
   ]
  },
  {
   "cell_type": "code",
   "execution_count": null,
   "metadata": {},
   "outputs": [],
   "source": [
    "evset = tp.event_set(\n",
    "    timestamps=[10, 20, 30],\n",
    "    features={\n",
    "        \"x\": [1.0, 2.0, 3.0],\n",
    "    },\n",
    ")\n",
    "node = evset.node()\n",
    "sampling_evset = tp.event_set(\n",
    "    timestamps=[0, 9, 10, 11, 19, 20, 21],\n",
    ")\n",
    "sampling_node = sampling_evset.node()\n",
    "resampled = tp.resample(input=node, sampling=sampling_node)\n",
    "resampled.run({node: evset, sampling_node: sampling_evset})"
   ]
  },
  {
   "cell_type": "markdown",
   "metadata": {},
   "source": [
    "The following would be the matching between the timestamps of `sampling` and `input`:\n",
    "\n",
    "| `sampling` timestamp         | 0   | 9   | 10  | 11  | 19  | 20  | 21  |\n",
    "| ---------------------------- | --- | --- | --- | --- | --- | --- | --- |\n",
    "| matching `input` timestamp   | -   | -   | 10  | 10  | 10  | 20  | 20  |\n",
    "| matching `\"x\"` feature value | NaN | NaN | 1   | 1   | 1   | 2   | 2   |\n",
    "\n",
    "\n",
    "If `sampling` contains a timestamp anterior to any timestamp in the `input` (like 0 and 9 in the example above), the feature of the sampled event will be missing. The representation of a missing value depends on its dtype:\n",
    "float: `NaN`\n",
    "integer: `0`\n",
    "string: `\"\"`\n",
    "Back to the example of the [`tp.add()`][temporian.add] operator, `a` and `b` with different sampling can be added as follows:"
   ]
  },
  {
   "cell_type": "code",
   "execution_count": null,
   "metadata": {},
   "outputs": [],
   "source": [
    "sampling_a = tp.event_set(\n",
    "    timestamps=[0, 1, 2],\n",
    "    features={\"f1\": [10, 20, 30]},\n",
    ")\n",
    "sampling_b = tp.event_set(\n",
    "    timestamps=[1, 2, 3],\n",
    "    features={\"f1\": [5, 4, 3]},\n",
    ")\n",
    "a = sampling_a.node()\n",
    "b = sampling_b.node()\n",
    "result = a + tp.resample(b, a)\n",
    "result.run({a: sampling_a, b: sampling_b})"
   ]
  },
  {
   "cell_type": "markdown",
   "metadata": {},
   "source": [
    "[`tp.resample()`][temporian.resample] is critical to combine events from different, non-synchronized sources. For example, consider a system with two sensors, a thermometer for temperature and a manometer for pressure. The temperature sensor produces measurements every 1 to 10 minutes, while the pressure sensor returns measurements every second. Additionally assume that both sensors are not synchronized. Finally, assume that you need to combine the temperature and pressure measurements with the equation `temperature / pressure`.\n",
    "<!-- TODO: image -->\n",
    "Since the temperature and pressure [`EventSets`][temporian.EventSet] have different sampling, you will need to resample one of them. The pressure sensor has higher resolution. Therefore, resampling the temperature to the pressure yields higher resolution than resampling the pressure to the temperature.\n",
    "```python\n",
    "r = tp.resample(termometer[\"temperature\"], manometer) / manometer[\"pressure\"]\n",
    "```"
   ]
  },
  {
   "cell_type": "markdown",
   "metadata": {},
   "source": [
    "When handling non-uniform timestamps it is also common to have a common resampling source.\n",
    "```python\n",
    "sampling_source = # Uniform timestamps every 10 seconds.\n",
    "r = tp.resample(termometer[\"temperature\"], sampling_source) / tp.resample(manometer[\"pressure\"], sampling_source)\n",
    "```\n",
    "Moving window operators, such as the [`tp.simple_moving_average()`][temporian.simple_moving_average] or [`tp.moving_count()`][temporian.moving_count] operators, have an optional `sampling` argument. For example, the signature of the simple moving average operator is [`tp.simple_moving_average()(][temporian.simple_moving_average]input: Node, window_length: Duration, sampling: Optional[Node] = None)`. If `sampling`is not set, the result will maintain the sampling of the`input`argument. If`sampling`is set, the moving window will be sampled at each timestamp of`sampling` instead, and the result will have those new ones.\n",
    "```python\n",
    "b = tp.simple_moving_average(input=a, window_length=10)\n",
    "c = tp.simple_moving_average(input=a, window_length=10, sampling=d)\n",
    "```\n",
    "Note that if planning to resample the result of a moving window operator, passing the `sampling` argument is both more efficient and more accurate than calling [`tp.resample()`][temporian.resample] on the result.\n",
    "## Indexes, horizontal and vertical operators\n",
    "All operators presented so far work on a sequence of related events. For instance, the simple moving average operator computes the average of events within a specific time window. These types of operators are called _horizontal operators_.\n",
    "It is sometimes desirable for events in an [`EventSet`][temporian.EventSet] not to interact with each other. For example, assume a dataset containing the sum of daily sales of a set of products. The objective is to compute the sum of weekly sales of each product independently. In this scenario, the weekly moving sum should be applied individually to each product. If not, you would compute the weekly sales of all the products together.\n",
    "To compute the weekly sales of individual products, you can define the `product` feature as the _index_."
   ]
  },
  {
   "cell_type": "code",
   "execution_count": null,
   "metadata": {},
   "outputs": [],
   "source": [
    "daily_sales = tp.event_set(\n",
    "\ttimestamps=[\"2020-01-01\", \"2020-01-01\", \"2020-01-02\", \"2020-01-02\"],\n",
    "\tfeatures={\n",
    "        \"product\": [1, 2, 1, 2],\n",
    "        \"sale\": [100.0, 300.0, 90.0, 400.0],\n",
    "    },\n",
    "    indexes=[\"product\"]\n",
    ")\n",
    "print(daily_sales)"
   ]
  },
  {
   "cell_type": "markdown",
   "metadata": {},
   "source": [
    "The moving sum operator will then be applied independently to the events corresponding to each product."
   ]
  },
  {
   "cell_type": "code",
   "execution_count": null,
   "metadata": {},
   "outputs": [],
   "source": [
    "a = daily_sales.node()\n",
    "\n",
    "# Compute the moving sum of each index group (a.k.a. each product) individually.\n",
    "b = tp.moving_sum(a, window_length=tp.duration.weeks(1))\n",
    "\n",
    "b.run({a: daily_sales})"
   ]
  },
  {
   "cell_type": "markdown",
   "metadata": {},
   "source": [
    "Horizontal operators can be understood as operators that are applied independently on each index.\n",
    "Operators that modify a [`Node`][temporian.Node]'s indexes are called _vertical operators_. The most important vertical operators are:\n",
    "- [`tp.add_index()`][temporian.add_index]: Add features to the index.\n",
    "- [`tp.drop_index()`][temporian.drop_index]: Remove features from the index, optionally keeping them as features.\n",
    "- [`tp.set_index()`][temporian.set_index]: Changes the index.\n",
    "- [`tp.propagate()`][temporian.propagate]: Expand indexes based on another [`EventSet`][temporian.EventSet]’s indexes.\n",
    "By default, [`EventSets`][temporian.EventSet] are _flat_, which means they have no index, and therefore all events are in a single global group.\n",
    "Also, keep in mind that only string and integer features can be used as indexes.\n",
    "[`EventSets`][temporian.EventSet] can have multiple features as index. In the next example, assume our daily sale aggregates are also annotated with `store` data."
   ]
  },
  {
   "cell_type": "code",
   "execution_count": null,
   "metadata": {},
   "outputs": [],
   "source": [
    "daily_sales = tp.event_set(\n",
    "\ttimestamps=[\"2020-01-01\", \"2020-01-01\", \"2020-01-02\", \"2020-01-02\"],\n",
    "\tfeatures={\n",
    "        \"store\": [1, 1, 1, 2],\n",
    "        \"product\": [1, 2, 1, 2],\n",
    "        \"sale\": [100.0, 200.0, 110.0, 300.0],\n",
    "    },\n",
    ")\n",
    "print(daily_sales)"
   ]
  },
  {
   "cell_type": "markdown",
   "metadata": {},
   "source": [
    "Since we haven't defined the `indexes` yet, `store` and `product` are just regular features above.\n",
    "Let's add the `(product, store)` pair as the index."
   ]
  },
  {
   "cell_type": "code",
   "execution_count": null,
   "metadata": {},
   "outputs": [],
   "source": [
    "a = daily_sales.node()\n",
    "b = tp.add_index(a, [\"product\", \"store\"])\n",
    "b.run({a: daily_sales})"
   ]
  },
  {
   "cell_type": "markdown",
   "metadata": {},
   "source": [
    "The `moving_sum` operator can be used to calculate the weekly sum of sales\n",
    "for each `(product, store)` pair."
   ]
  },
  {
   "cell_type": "code",
   "execution_count": null,
   "metadata": {},
   "outputs": [],
   "source": [
    "# Weekly sales by product and store\n",
    "c = tp.moving_sum(b[\"sale\"], window_length=tp.duration.weeks(1))\n",
    "c.run({a: daily_sales})"
   ]
  },
  {
   "cell_type": "markdown",
   "metadata": {},
   "source": [
    "If we want the weekly sum of sales per `store`, we can just drop the `product` index."
   ]
  },
  {
   "cell_type": "code",
   "execution_count": null,
   "metadata": {},
   "outputs": [],
   "source": [
    "# Weekly sales by store (including all products)\n",
    "d = tp.drop_index(b, \"product\")\n",
    "e = tp.moving_sum(d[\"sale\"], window_length=tp.duration.weeks(1))\n",
    "e.run({a: daily_sales})"
   ]
  },
  {
   "cell_type": "markdown",
   "metadata": {},
   "source": [
    "Finally, let's calculate the ratio of sales of each `(product, store)` pair compared to the whole `store` sales.\n",
    "Since `c` (weekly sales for each product and store) and `e` (weekly sales for each store) have different indexes, we cannot use `tp.divide` (or `/`) directly - we must first `propagate` `e` to the `[\"product\", \"store\"]` index."
   ]
  },
  {
   "cell_type": "code",
   "execution_count": null,
   "metadata": {},
   "outputs": [],
   "source": [
    "# Copy the content of e (indexed by (store)) into each (store, product).\n",
    "f = c / tp.propagate(e, sampling=c, resample=True)\n",
    "\n",
    "# Equivalent.\n",
    "f = c / tp.resample(\n",
    "    tp.propagate(e, sampling=c),\n",
    "    sampling=c,\n",
    ")\n",
    "print(f.run({a: daily_sales}))"
   ]
  },
  {
   "cell_type": "markdown",
   "metadata": {},
   "source": [
    "The [`tp.propagate()`][temporian.propagate] operator expands the indexes of its `input` (`e` in this case) to match the indexes of its `sampling` by copying the content of `input` into each corresponding index group of `sampling`. Note that `sampling`'s indexes must be a superset of `input`'s indexes.\n",
    "## Future leakage\n",
    "In supervised learning, [leakage](<https://en.wikipedia.org/wiki/Leakage_(machine_learning)>) is the use of data not available at serving time by a machine learning model. A common example of leakage is _label leakage_, which involves the invalid use of labels in the model input features. Leakage tends to bias model evaluation by making it appear much better than it is in reality. Unfortunately, leakage is often subtle, easy to inject, and challenging to detect.\n",
    "Another type of leakage is future leakage, where a model uses data before it is available. Future leakage is particularly easy to create, as all feature data is ultimately available to the model, the problem being it being accessed at the wrong time.\n",
    "To avoid future leakage, Temporian operators are guaranteed to not cause future leakage, except for the [`tp.leak()`][temporian.leak] operator. This means that it is impossible to inadvertently add future leakage to a Temporian program.\n",
    "[`tp.leak()`][temporian.leak] can be useful for precomputing labels or evaluating machine learning models. However, its outputs shouldn’t be used as input features."
   ]
  },
  {
   "cell_type": "code",
   "execution_count": null,
   "metadata": {},
   "outputs": [],
   "source": [
    "a = tp.input_node(features=[(\"feature_1\", tp.float32)])\n",
    "b = tp.moving_count(a, 1)\n",
    "c = tp.moving_count(tp.leak(b, 1), 2)"
   ]
  },
  {
   "cell_type": "markdown",
   "metadata": {},
   "source": [
    "In this example, `b` does not have a future leak, but `c` does because it depends on [`tp.leak()`][temporian.leak].\n",
    "<!-- TODO: Not implemented yet\n",
    "To check programmatically if a `Node` depends on [`tp.leak()`][temporian.leak], we can use the [`tp.has_leak()`][temporian.has_leak] function.\n",
    "# print(tp.has_leak(b))\n",
    "# False\n",
    "# print(tp.has_leak(c))\n",
    "# True\n",
    "By using [`tp.has_leak()`][temporian.has_leak], we can programmatically identify future leakage and modify our code accordingly.\n",
    "-->\n",
    "## Accessing [`EventSet`][temporian.EventSet] data\n",
    "[`EventSet`][temporian.EventSet] data can be accessed using their `data` attribute. Temporian internally relies on NumPy, which means that the data access functions always return NumPy arrays."
   ]
  },
  {
   "cell_type": "code",
   "execution_count": null,
   "metadata": {},
   "outputs": [],
   "source": [
    "evset = tp.event_set(\n",
    "\ttimestamps=[1, 2, 3, 5, 6],\n",
    "\tfeatures={\n",
    "        \"f1\": [0.1, 0.2, 0.3, 1.1, 1.2],\n",
    "        \"f2\": [\"red\", \"red\", \"red\", \"blue\", \"blue\"],\n",
    "\t},\n",
    "\tindexes=[\"f2\"],\n",
    ")\n",
    "\n",
    "# Access the data for the index group `f2=red`.\n",
    "evset.data[(\"red\",)]"
   ]
  },
  {
   "cell_type": "markdown",
   "metadata": {},
   "source": [
    "<!--\n",
    "`EventSet` data can be accessed using the `index()` and `feature()` functions. Temporian internally relies on NumPy, which means that the data access functions always return NumPy arrays.\n",
    "evset = tp.event_set(\n",
    "timestamps=[1, 2, 3, 5, 6],\n",
    "features={\n",
    "\"f1\": [0.1, 0.2, 0.3, 1.1, 1.2],\n",
    "\"f2\": [\"red\", \"red\", \"red\", \"blue\", \"blue\"],\n",
    "},\n",
    "indexes=[\"f2\"],\n",
    ")\n",
    "# Access the data for the index group `f2=red`.\n",
    "evset.index(\"red\")\n",
    "# Equivalent.\n",
    "evset.index((\"red\", ))\n",
    "# Access the data for the index group `f2=red` and feature `f1`.\n",
    "evset.index(\"red\").feature(\"f1\")\n",
    "If an [`EventSet`][temporian.EventSet] does not have an index, `feature` can be called directly:\n",
    "evset = tp.event_set(\n",
    "timestamps=[1, 2, 3, 5, 6],\n",
    "features={\n",
    "\"f1\": [0.1, 0.2, 0.3, 1.1, 1.2],\n",
    "\"f2\": [\"red\", \"red\", \"red\", \"blue\", \"blue\"],\n",
    "},\n",
    ")\n",
    "evset.feature(\"f1\")\n",
    "-->\n",
    "## Import and export data\n",
    "[`EventSets`][temporian.EventSet] can be read from and saved to csv files via the [`tp.from_csv()`][temporian.from_csv] and [`tp.to_csv()`][temporian.to_csv] functions.\n",
    "# Read EventSet from a .csv file.\n",
    "```python\n",
    "evset = tp.from_csv(\n",
    "    path=\"path/to/file.csv\",\n",
    "    timestamps=\"timestamp\",\n",
    "    indexes=[\"product_id\"],\n",
    ")\n",
    "\n",
    "# Save EventSet to a .csv file.\n",
    "tp.to_csv(evset, path=\"path/to/file.csv\")\n",
    "```\n",
    "Converting [`EventSet`][temporian.EventSet] data to and from pandas DataFrames is also easily done via [`tp.to_pandas()`][temporian.to_pandas] and [`tp.from_pandas()`][temporian.from_pandas]."
   ]
  },
  {
   "cell_type": "code",
   "execution_count": null,
   "metadata": {},
   "outputs": [],
   "source": [
    "df = pd.DataFrame({\n",
    "    \"timestamp\": [1, 2, 3, 5, 6],\n",
    "    \"f1\": [0.1, 0.2, 0.3, 1.1, 1.2],\n",
    "    \"f2\": [\"red\", \"red\", \"red\", \"blue\", \"blue\"],\n",
    "})\n",
    "\n",
    "# Create EventSet from DataFrame.\n",
    "evset = tp.from_pandas(df)\n",
    "\n",
    "# Convert EventSet to DataFrame.\n",
    "df = tp.to_pandas(evset)"
   ]
  },
  {
   "cell_type": "markdown",
   "metadata": {},
   "source": [
    "## Serialization and deserialization of a graph\n",
    "Temporian graphs can be exported and imported to a safe-to-share file with [`tp.save_graph()`][temporian.save_graph] and [`tp.load()`][temporian.load]. In both functions input and output [`Nodes`][temporian.Node] need to be named, or be assigned a name by passing them as a dictionary.\n",
    "\n",
    "```python\n",
    "\n",
    "# Define a graph.\n",
    "evset = tp.event_set(\n",
    "    timestamps=[1, 2, 3],\n",
    "    features={\"f1\": [0.1, 0.2, 0.3]},\n",
    ")\n",
    "a = evset.node()\n",
    "b = tp.moving_count(a, 1)\n",
    "\n",
    "# Save the graph.\n",
    "tp.save_graph(inputs={\"input_a\": a}, outputs={\"output_b\": b}, path=\"/tmp/my_graph.tem\")\n",
    "\n",
    "# Equivalent.\n",
    "a.name = \"input_a\"\n",
    "b.name = \"output_b\"\n",
    "tp.save_graph(inputs=a, outputs=[b], path=\"/tmp/my_graph.tem\")\n",
    "\n",
    "# Load the graph.\n",
    "loaded_inputs, loaded_outputs = tp.load(path=\"/tmp/my_graph.tem\")\n",
    "\n",
    "# Run data on the restored graph.\n",
    "tp.run(loaded_outputs[\"output_b\"], {loaded_inputs[\"input_a\"]: evset})\n",
    "```"
   ]
  },
  {
   "cell_type": "code",
   "execution_count": null,
   "metadata": {},
   "outputs": [],
   "source": []
  }
 ],
 "metadata": {
  "kernelspec": {
   "display_name": "Python 3 (ipykernel)",
   "language": "python",
   "name": "python3"
  },
  "language_info": {
   "codemirror_mode": {
    "name": "ipython",
    "version": 3
   },
   "file_extension": ".py",
   "mimetype": "text/x-python",
   "name": "python",
   "nbconvert_exporter": "python",
   "pygments_lexer": "ipython3",
   "version": "3.10.4"
  }
 },
 "nbformat": 4,
 "nbformat_minor": 4
}
