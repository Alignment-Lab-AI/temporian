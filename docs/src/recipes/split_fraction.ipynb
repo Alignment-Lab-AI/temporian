{
 "cells": [
  {
   "cell_type": "markdown",
   "id": "96d71ce2-2e81-45ef-a494-0a07a03554bc",
   "metadata": {},
   "source": [
    "# Split data by fraction\n",
    "\n",
    "[![Open in Colab](https://colab.research.google.com/assets/colab-badge.svg)](https://colab.research.google.com/github/google/temporian/blob/last-release/docs/src/recipes/split_fraction.ipynb)\n",
    "\n",
    "This recipe can be used to split an `EventSet` in two or more subsets, each with a specified fraction of the total number of data points.\n",
    "\n",
    "For example, to train a machine learning forecasting model, the data usually needs to be split into train, validation and test `EventSets`. In this case we'll use `60%` of the data for training, `20%` for validation, and `20%` for test."
   ]
  },
  {
   "cell_type": "markdown",
   "id": "972cd99f-6c1e-4655-8bfe-767e547d6014",
   "metadata": {},
   "source": [
    "## Example data"
   ]
  },
  {
   "cell_type": "code",
   "execution_count": null,
   "id": "28abb293-e542-4540-9c65-3cf1c89c4c16",
   "metadata": {},
   "outputs": [],
   "source": [
    "import temporian as tp\n",
    "import numpy as np\n",
    "\n",
    "T = 10\n",
    "t = np.arange(0, T, 0.1)\n",
    "signal_evset = tp.event_set(timestamps=t, features={\"signal\": np.sin(t)})\n",
    "\n",
    "signal_evset.plot()"
   ]
  },
  {
   "cell_type": "markdown",
   "id": "f04cc1b4-ac53-4f41-ad59-9f98fa0f0210",
   "metadata": {},
   "source": [
    "## Solution\n",
    "\n",
    "We want to split this into 3 separate `EventSets` as follows:\n",
    "* **Train** data: `60%` of the events, at the beginning of the series.\n",
    "* **Validation**: `20%` of the events, following training data.\n",
    "* **Test**: Remaining `20%` of the events.\n",
    "\n",
    "The proposed steps are:\n",
    "1. Get the total number of events and calculate split limits.\n",
    "2. Get each event's position in the `EventSet`.\n",
    "3. Split comparing each event's position to the split limits."
   ]
  },
  {
   "cell_type": "markdown",
   "id": "587487f8-8bbe-424a-a707-fd8ca9c57301",
   "metadata": {},
   "source": [
    "### 1. Calculate split limits"
   ]
  },
  {
   "cell_type": "code",
   "execution_count": null,
   "id": "69e85cea-9814-40cc-8ffd-dfc87a5e8716",
   "metadata": {},
   "outputs": [],
   "source": [
    "n_events = len(signal_evset.get_index_value(()))\n",
    "\n",
    "train_until = int(n_events * 0.6)\n",
    "val_until = train_until + int(n_events * 0.2)"
   ]
  },
  {
   "cell_type": "markdown",
   "id": "d9e540ec-3b8b-4ba0-a727-23c71ca56cd0",
   "metadata": {},
   "source": [
    "### 2. Get each event's position\n",
    "\n",
    "The `enumerate()` operator creates a single-feature `EventSet` with the position of each event, keeping the indexes and samplings compatible with the original `EventSet`."
   ]
  },
  {
   "cell_type": "code",
   "execution_count": null,
   "id": "92545fdc-ee14-4ea3-aa85-02b6ef252a56",
   "metadata": {},
   "outputs": [],
   "source": [
    "sample_positions = signal_evset.enumerate()"
   ]
  },
  {
   "cell_type": "markdown",
   "id": "58d52487-3006-4bf9-9c4c-dad3d47db300",
   "metadata": {},
   "source": [
    "### 3. Split based on positions\n",
    "\n",
    "Now we compare the `sample_positions` limits of each subset. This will create boolean `EventSets` that can be passed directly to the `filter()` operator."
   ]
  },
  {
   "cell_type": "code",
   "execution_count": null,
   "id": "6d1afd17-ccfa-4bd8-b0bf-406fa098aad6",
   "metadata": {},
   "outputs": [],
   "source": [
    "train_evset = signal_evset.filter(sample_positions <= train_until)\n",
    "val_evset = signal_evset.filter((sample_positions > train_until) & (sample_positions <= val_until))\n",
    "test_evset = signal_evset.filter(sample_positions > val_until)"
   ]
  },
  {
   "cell_type": "markdown",
   "id": "09775af5-c18e-4edf-b7dd-038772a63f50",
   "metadata": {},
   "source": [
    "## Check results"
   ]
  },
  {
   "cell_type": "code",
   "execution_count": null,
   "id": "03af0fc5-9fe4-48b2-80c3-587dec522bbc",
   "metadata": {},
   "outputs": [],
   "source": [
    "train_evset.plot()"
   ]
  },
  {
   "cell_type": "code",
   "execution_count": null,
   "id": "a26cf689-cf12-40de-93b9-c0b13e0b27d5",
   "metadata": {},
   "outputs": [],
   "source": [
    "val_evset.plot()"
   ]
  },
  {
   "cell_type": "code",
   "execution_count": null,
   "id": "668e85b3-f318-4669-8b23-1441b3182ad9",
   "metadata": {},
   "outputs": [],
   "source": [
    "test_evset.plot()"
   ]
  },
  {
   "cell_type": "code",
   "execution_count": null,
   "id": "6349e115-f4f8-4ada-82c7-dbd0ee695e31",
   "metadata": {},
   "outputs": [],
   "source": []
  }
 ],
 "metadata": {
  "kernelspec": {
   "display_name": "Python 3 (ipykernel)",
   "language": "python",
   "name": "python3"
  },
  "language_info": {
   "codemirror_mode": {
    "name": "ipython",
    "version": 3
   },
   "file_extension": ".py",
   "mimetype": "text/x-python",
   "name": "python",
   "nbconvert_exporter": "python",
   "pygments_lexer": "ipython3",
   "version": "3.10.4"
  }
 },
 "nbformat": 4,
 "nbformat_minor": 5
}
